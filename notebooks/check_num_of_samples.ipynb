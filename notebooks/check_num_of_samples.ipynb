{
 "cells": [
  {
   "cell_type": "code",
   "execution_count": null,
   "metadata": {},
   "outputs": [],
   "source": [
    "import h5py\n",
    "import numpy as np"
   ]
  },
  {
   "cell_type": "code",
   "execution_count": 10,
   "metadata": {},
   "outputs": [],
   "source": [
    "\n",
    "def disc_fct(arr: np.ndarray) -> np.ndarray:\n",
    "    \"\"\"Tagger discriminant\n",
    "\n",
    "    Parameters\n",
    "    ----------\n",
    "    arr : numpy.ndarray\n",
    "        array with with shape (, 2)\n",
    "\n",
    "    Returns\n",
    "    -------\n",
    "    np.ndarray\n",
    "        Array with the discriminant values inside.\n",
    "    \"\"\"\n",
    "    # you can adapt this for your needs\n",
    "    return np.log((arr[0] + 1e-10) / (arr[1] + 1e-10))"
   ]
  },
  {
   "cell_type": "code",
   "execution_count": 3,
   "metadata": {},
   "outputs": [],
   "source": [
    "\n",
    "train_file =  h5py.File('/storage/agrp/dmitrykl/tauTag/upp/output/pp_output_train.h5', 'r')\n",
    "    \n",
    "val_file =  h5py.File('/storage/agrp/dmitrykl/tauTag/upp/output/pp_output_val.h5', 'r') \n",
    "\n",
    "test_file = h5py.File('/storage/agrp/dmitrykl/tauTag/upp/output/pp_output_test.h5', 'r') \n",
    "\n",
    "    \n"
   ]
  },
  {
   "cell_type": "code",
   "execution_count": 4,
   "metadata": {},
   "outputs": [],
   "source": [
    "logs = h5py.File('logs/GN2Tau_20230712-T175819/ckpts/epoch=016-val_loss=0.06244__test_pp_output_test.h5')"
   ]
  },
  {
   "cell_type": "code",
   "execution_count": 5,
   "metadata": {},
   "outputs": [
    {
     "data": {
      "text/plain": [
       "<KeysViewHDF5 ['jets']>"
      ]
     },
     "execution_count": 5,
     "metadata": {},
     "output_type": "execute_result"
    }
   ],
   "source": [
    "logs.keys()"
   ]
  },
  {
   "cell_type": "code",
   "execution_count": 7,
   "metadata": {},
   "outputs": [
    {
     "data": {
      "text/plain": [
       "array([(9.9754566e-01, 2.4543668e-03, 2.1058189e+01, 2.459908 , 0.),\n",
       "       (9.9554247e-01, 4.4575389e-03, 2.8544244e+04, 1.2163197, 0.),\n",
       "       (7.0602633e-04, 9.9929392e-01, 6.0120051e+04, 1.4111848, 5.), ...,\n",
       "       (2.0931333e-05, 9.9997902e-01, 4.4018797e+04, 0.6646372, 5.),\n",
       "       (3.5300429e-05, 9.9996471e-01, 4.8703188e+04, 1.663244 , 5.),\n",
       "       (9.9999857e-01, 1.3920393e-06, 2.6030809e+01, 1.7982261, 0.)],\n",
       "      dtype=[('GN2Tau_pu', '<f4'), ('GN2Tau_pb', '<f4'), ('pt', '<f4'), ('absEta', '<f4'), ('HadronConeExclTruthLabelID', '<f4')])"
      ]
     },
     "execution_count": 7,
     "metadata": {},
     "output_type": "execute_result"
    }
   ],
   "source": [
    "logs['jets'][:]"
   ]
  },
  {
   "cell_type": "code",
   "execution_count": 12,
   "metadata": {},
   "outputs": [
    {
     "name": "stdout",
     "output_type": "stream",
     "text": [
      "[ -6.007429   -5.408691    7.2551517 ...  10.774238   10.251577\n",
      " -13.484668 ]\n"
     ]
    },
    {
     "ename": "NameError",
     "evalue": "name 'jet_eta' is not defined",
     "output_type": "error",
     "traceback": [
      "\u001b[0;31m---------------------------------------------------------------------------\u001b[0m",
      "\u001b[0;31mNameError\u001b[0m                                 Traceback (most recent call last)",
      "Cell \u001b[0;32mIn[12], line 24\u001b[0m\n\u001b[1;32m     10\u001b[0m \u001b[39mprint\u001b[39m(discs)\n\u001b[1;32m     11\u001b[0m \u001b[39m# if key == 'GN2TauJ':\u001b[39;00m\n\u001b[1;32m     12\u001b[0m \u001b[39m#     pTau = f['jets']['GN2TauJ_pb']\u001b[39;00m\n\u001b[1;32m     13\u001b[0m \u001b[39m#     pBkg = f['jets']['GN2TauJ_pu']\u001b[39;00m\n\u001b[0;32m   (...)\u001b[0m\n\u001b[1;32m     22\u001b[0m \u001b[39m# mask = (pt > 20) & (pt < 100)\u001b[39;00m\n\u001b[1;32m     23\u001b[0m \u001b[39m# mask = (pt > 5)\u001b[39;00m\n\u001b[0;32m---> 24\u001b[0m eta_mask \u001b[39m=\u001b[39m (jet_eta \u001b[39m<\u001b[39m \u001b[39m2.5\u001b[39m) \u001b[39m&\u001b[39m ((jet_eta \u001b[39m>\u001b[39m \u001b[39m1.57\u001b[39m) \u001b[39m|\u001b[39m (jet_eta \u001b[39m<\u001b[39m \u001b[39m1.37\u001b[39m))\n\u001b[1;32m     25\u001b[0m mask \u001b[39m=\u001b[39m (jet_pt \u001b[39m>\u001b[39m \u001b[39m20\u001b[39m) \u001b[39m&\u001b[39m eta_mask \u001b[39m&\u001b[39m ((n_tracks \u001b[39m==\u001b[39m \u001b[39m1\u001b[39m) \u001b[39m|\u001b[39m (n_tracks \u001b[39m==\u001b[39m \u001b[39m3\u001b[39m))\u001b[39m# & (jet_pt < 100)\u001b[39;00m\n\u001b[1;32m     26\u001b[0m sig_eff \u001b[39m=\u001b[39m np\u001b[39m.\u001b[39mlinspace(\u001b[39m0.4\u001b[39m, \u001b[39m1\u001b[39m, \u001b[39m20\u001b[39m)\n",
      "\u001b[0;31mNameError\u001b[0m: name 'jet_eta' is not defined"
     ]
    }
   ],
   "source": [
    "pt = logs['jets']['pt'] / 1000\n",
    "# tracks_pred = f['tracks'].fields(['0', '1', '2', '3', '4', '5', '6'])[:]\n",
    "flav = logs['jets']['HadronConeExclTruthLabelID']\n",
    "is_tau = flav == 5\n",
    "is_bkg = flav == 0\n",
    "#print(f['jets'][0].dtype)\n",
    "pTau = logs['jets']['GN2Tau_pb']\n",
    "pBkg = logs['jets']['GN2Tau_pu']\n",
    "discs = disc_fct(np.row_stack([pTau, pBkg]))\n",
    "print(discs)\n",
    "# if key == 'GN2TauJ':\n",
    "#     pTau = f['jets']['GN2TauJ_pb']\n",
    "#     pBkg = f['jets']['GN2TauJ_pu']\n",
    "#     discs = disc_fct(np.row_stack([pTau, pBkg]))\n",
    "#     print(discs, key)\n",
    "# if key == 'GN2TauC':\n",
    "#     pTau = f['jets']['GN2TauC_pb']\n",
    "#     pBkg = f['jets']['GN2TauC_pu']\n",
    "#     discs = disc_fct(np.row_stack([pTau, pBkg]))\n",
    "#     print(discs, key)\n",
    "# discs = pTau\n",
    "# mask = (pt > 20) & (pt < 100)\n",
    "# mask = (pt > 5)\n",
    "eta_mask = (jet_eta < 2.5) & ((jet_eta > 1.57) | (jet_eta < 1.37))\n",
    "mask = (jet_pt > 20) & eta_mask & ((n_tracks == 1) | (n_tracks == 3))# & (jet_pt < 100)\n",
    "sig_eff = np.linspace(0.4, 1, 20)\n",
    "logger.info(\"Calculate rejection\")\n",
    "rej = calc_rej(discs[is_tau & mask], discs[is_bkg & mask], sig_eff)\n",
    "rej_0 = calc_rej(discs[is_tau & mask], discs[is_bkg & mask & (prongs!=1) & (prongs!=3)], sig_eff)\n",
    "rej_1 = calc_rej(discs[is_tau & mask & (prongs==1)], discs[is_bkg & mask], sig_eff)\n",
    "rej_3 = calc_rej(discs[is_tau & mask & (prongs==3)], discs[is_bkg & mask], sig_eff)\n",
    "#print(rej_1, key)\n"
   ]
  },
  {
   "cell_type": "code",
   "execution_count": 8,
   "metadata": {},
   "outputs": [
    {
     "data": {
      "text/plain": [
       "<KeysViewHDF5 ['cells', 'jets', 'tracks']>"
      ]
     },
     "execution_count": 8,
     "metadata": {},
     "output_type": "execute_result"
    }
   ],
   "source": [
    "train_file.keys()"
   ]
  },
  {
   "cell_type": "code",
   "execution_count": 16,
   "metadata": {},
   "outputs": [
    {
     "data": {
      "text/plain": [
       "<HDF5 dataset \"jets\": shape (10500000,), type \"|V60\">"
      ]
     },
     "execution_count": 16,
     "metadata": {},
     "output_type": "execute_result"
    }
   ],
   "source": [
    "train_file['jets']"
   ]
  },
  {
   "cell_type": "code",
   "execution_count": null,
   "metadata": {},
   "outputs": [],
   "source": [
    "val_file.keys()"
   ]
  },
  {
   "cell_type": "code",
   "execution_count": 15,
   "metadata": {},
   "outputs": [
    {
     "data": {
      "text/plain": [
       "1050000"
      ]
     },
     "execution_count": 15,
     "metadata": {},
     "output_type": "execute_result"
    }
   ],
   "source": [
    "len(val_file['jets'])"
   ]
  },
  {
   "cell_type": "code",
   "execution_count": null,
   "metadata": {},
   "outputs": [],
   "source": [
    "test_file.keys()"
   ]
  },
  {
   "cell_type": "code",
   "execution_count": 13,
   "metadata": {},
   "outputs": [
    {
     "data": {
      "text/plain": [
       "<HDF5 dataset \"jets\": shape (1050000,), type \"|V72\">"
      ]
     },
     "execution_count": 13,
     "metadata": {},
     "output_type": "execute_result"
    }
   ],
   "source": [
    "test_file['jets']"
   ]
  },
  {
   "cell_type": "code",
   "execution_count": 17,
   "metadata": {},
   "outputs": [
    {
     "data": {
      "text/plain": [
       "12600000"
      ]
     },
     "execution_count": 17,
     "metadata": {},
     "output_type": "execute_result"
    }
   ],
   "source": [
    "len(val_file['jets']) + len(test_file['jets']) + len(train_file['jets'])"
   ]
  },
  {
   "cell_type": "code",
   "execution_count": null,
   "metadata": {},
   "outputs": [],
   "source": [
    "check =  h5py.File('/storage/agrp/dmitrykl/tauTag/upp/ntuples/qcd/jet_new_4.h5')"
   ]
  }
 ],
 "metadata": {
  "kernelspec": {
   "display_name": "salt",
   "language": "python",
   "name": "python3"
  },
  "language_info": {
   "codemirror_mode": {
    "name": "ipython",
    "version": 3
   },
   "file_extension": ".py",
   "mimetype": "text/x-python",
   "name": "python",
   "nbconvert_exporter": "python",
   "pygments_lexer": "ipython3",
   "version": "3.10.9"
  },
  "orig_nbformat": 4
 },
 "nbformat": 4,
 "nbformat_minor": 2
}
