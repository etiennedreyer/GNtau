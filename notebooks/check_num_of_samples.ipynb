{
 "cells": [
  {
   "cell_type": "code",
   "execution_count": 1,
   "metadata": {},
   "outputs": [],
   "source": [
    "import h5py\n",
    "import numpy as np"
   ]
  },
  {
   "cell_type": "code",
   "execution_count": 2,
   "metadata": {},
   "outputs": [],
   "source": [
    "\n",
    "def disc_fct(arr: np.ndarray) -> np.ndarray:\n",
    "    \"\"\"Tagger discriminant\n",
    "\n",
    "    Parameters\n",
    "    ----------\n",
    "    arr : numpy.ndarray\n",
    "        array with with shape (, 2)\n",
    "\n",
    "    Returns\n",
    "    -------\n",
    "    np.ndarray\n",
    "        Array with the discriminant values inside.\n",
    "    \"\"\"\n",
    "    # you can adapt this for your needs\n",
    "    return np.log((arr[0] + 1e-10) / (arr[1] + 1e-10))"
   ]
  },
  {
   "cell_type": "code",
   "execution_count": 3,
   "metadata": {},
   "outputs": [],
   "source": [
    "\n",
    "#train_file =  h5py.File('/storage/agrp/dmitrykl/tauTag/upp/output/pp_output_train.h5', 'r')\n",
    "    \n",
    "val_file =  h5py.File('/home/fiaccoda/ntuples/GNTau_samples/samples/v04/output/pp_output_val.h5', 'r') \n",
    "\n",
    "test_file = h5py.File('/home/fiaccoda/ntuples/GNTau_samples/samples/v04/output/cat_pp_output_test.h5', 'r')"
   ]
  },
  {
   "cell_type": "code",
   "execution_count": 4,
   "metadata": {},
   "outputs": [],
   "source": [
    "#logs = h5py.File('logs/GN2Tau_20230712-T175819/ckpts/epoch=016-val_loss=0.06244__test_pp_output_test.h5')\n",
    "logs = h5py.File(\"/home/fiaccoda/ntuples/GNTau_samples/logs/GN2TauA_trkClsWgt_noRNN_20230927-T145302/ckpts/epoch=031-val_loss=0.05314__test_pp_output_val.h5\")"
   ]
  },
  {
   "cell_type": "code",
   "execution_count": 5,
   "metadata": {},
   "outputs": [
    {
     "data": {
      "text/plain": [
       "<KeysViewHDF5 ['jets', 'tracks']>"
      ]
     },
     "execution_count": 5,
     "metadata": {},
     "output_type": "execute_result"
    }
   ],
   "source": [
    "logs.keys()"
   ]
  },
  {
   "cell_type": "code",
   "execution_count": 6,
   "metadata": {},
   "outputs": [
    {
     "data": {
      "text/plain": [
       "array([(0.99999964, 3.0175073e-07,  14126.384, 0.5828681 , 0.),\n",
       "       (0.9999987 , 1.2824472e-06, 103244.17 , 0.5891869 , 0.),\n",
       "       (0.99758303, 2.4170054e-03, 109855.16 , 0.61847013, 0.), ...,\n",
       "       (0.9998628 , 1.3724128e-04,  58974.652, 0.23331916, 0.),\n",
       "       (0.00364758, 9.9635243e-01,  31462.148, 1.0660875 , 5.),\n",
       "       (0.9999975 , 2.5235315e-06, 918655.6  , 0.22400473, 0.)],\n",
       "      dtype=[('GN2TauA_trkClsWgt_noRNN_pu', '<f4'), ('GN2TauA_trkClsWgt_noRNN_pb', '<f4'), ('pt', '<f4'), ('absEta', '<f4'), ('HadronConeExclTruthLabelID', '<f4')])"
      ]
     },
     "execution_count": 6,
     "metadata": {},
     "output_type": "execute_result"
    }
   ],
   "source": [
    "logs['jets'][:]"
   ]
  },
  {
   "cell_type": "code",
   "execution_count": 12,
   "metadata": {},
   "outputs": [
    {
     "name": "stdout",
     "output_type": "stream",
     "text": [
      "[ -6.007429   -5.408691    7.2551517 ...  10.774238   10.251577\n",
      " -13.484668 ]\n"
     ]
    },
    {
     "ename": "NameError",
     "evalue": "name 'jet_eta' is not defined",
     "output_type": "error",
     "traceback": [
      "\u001b[0;31m---------------------------------------------------------------------------\u001b[0m",
      "\u001b[0;31mNameError\u001b[0m                                 Traceback (most recent call last)",
      "Cell \u001b[0;32mIn[12], line 24\u001b[0m\n\u001b[1;32m     10\u001b[0m \u001b[39mprint\u001b[39m(discs)\n\u001b[1;32m     11\u001b[0m \u001b[39m# if key == 'GN2TauJ':\u001b[39;00m\n\u001b[1;32m     12\u001b[0m \u001b[39m#     pTau = f['jets']['GN2TauJ_pb']\u001b[39;00m\n\u001b[1;32m     13\u001b[0m \u001b[39m#     pBkg = f['jets']['GN2TauJ_pu']\u001b[39;00m\n\u001b[0;32m   (...)\u001b[0m\n\u001b[1;32m     22\u001b[0m \u001b[39m# mask = (pt > 20) & (pt < 100)\u001b[39;00m\n\u001b[1;32m     23\u001b[0m \u001b[39m# mask = (pt > 5)\u001b[39;00m\n\u001b[0;32m---> 24\u001b[0m eta_mask \u001b[39m=\u001b[39m (jet_eta \u001b[39m<\u001b[39m \u001b[39m2.5\u001b[39m) \u001b[39m&\u001b[39m ((jet_eta \u001b[39m>\u001b[39m \u001b[39m1.57\u001b[39m) \u001b[39m|\u001b[39m (jet_eta \u001b[39m<\u001b[39m \u001b[39m1.37\u001b[39m))\n\u001b[1;32m     25\u001b[0m mask \u001b[39m=\u001b[39m (jet_pt \u001b[39m>\u001b[39m \u001b[39m20\u001b[39m) \u001b[39m&\u001b[39m eta_mask \u001b[39m&\u001b[39m ((n_tracks \u001b[39m==\u001b[39m \u001b[39m1\u001b[39m) \u001b[39m|\u001b[39m (n_tracks \u001b[39m==\u001b[39m \u001b[39m3\u001b[39m))\u001b[39m# & (jet_pt < 100)\u001b[39;00m\n\u001b[1;32m     26\u001b[0m sig_eff \u001b[39m=\u001b[39m np\u001b[39m.\u001b[39mlinspace(\u001b[39m0.4\u001b[39m, \u001b[39m1\u001b[39m, \u001b[39m20\u001b[39m)\n",
      "\u001b[0;31mNameError\u001b[0m: name 'jet_eta' is not defined"
     ]
    }
   ],
   "source": [
    "pt = logs['jets']['pt'] / 1000\n",
    "# tracks_pred = f['tracks'].fields(['0', '1', '2', '3', '4', '5', '6'])[:]\n",
    "flav = logs['jets']['HadronConeExclTruthLabelID']\n",
    "is_tau = flav == 5\n",
    "is_bkg = flav == 0\n",
    "#print(f['jets'][0].dtype)\n",
    "pTau = logs['jets']['GN2Tau_pb']\n",
    "pBkg = logs['jets']['GN2Tau_pu']\n",
    "discs = disc_fct(np.row_stack([pTau, pBkg]))\n",
    "print(discs)\n",
    "# if key == 'GN2TauJ':\n",
    "#     pTau = f['jets']['GN2TauJ_pb']\n",
    "#     pBkg = f['jets']['GN2TauJ_pu']\n",
    "#     discs = disc_fct(np.row_stack([pTau, pBkg]))\n",
    "#     print(discs, key)\n",
    "# if key == 'GN2TauC':\n",
    "#     pTau = f['jets']['GN2TauC_pb']\n",
    "#     pBkg = f['jets']['GN2TauC_pu']\n",
    "#     discs = disc_fct(np.row_stack([pTau, pBkg]))\n",
    "#     print(discs, key)\n",
    "# discs = pTau\n",
    "# mask = (pt > 20) & (pt < 100)\n",
    "# mask = (pt > 5)\n",
    "eta_mask = (jet_eta < 2.5) & ((jet_eta > 1.57) | (jet_eta < 1.37))\n",
    "mask = (jet_pt > 20) & eta_mask & ((n_tracks == 1) | (n_tracks == 3))# & (jet_pt < 100)\n",
    "sig_eff = np.linspace(0.4, 1, 20)\n",
    "logger.info(\"Calculate rejection\")\n",
    "rej = calc_rej(discs[is_tau & mask], discs[is_bkg & mask], sig_eff)\n",
    "rej_0 = calc_rej(discs[is_tau & mask], discs[is_bkg & mask & (prongs!=1) & (prongs!=3)], sig_eff)\n",
    "rej_1 = calc_rej(discs[is_tau & mask & (prongs==1)], discs[is_bkg & mask], sig_eff)\n",
    "rej_3 = calc_rej(discs[is_tau & mask & (prongs==3)], discs[is_bkg & mask], sig_eff)\n",
    "#print(rej_1, key)\n"
   ]
  },
  {
   "cell_type": "code",
   "execution_count": 8,
   "metadata": {},
   "outputs": [
    {
     "data": {
      "text/plain": [
       "<KeysViewHDF5 ['cells', 'jets', 'tracks']>"
      ]
     },
     "execution_count": 8,
     "metadata": {},
     "output_type": "execute_result"
    }
   ],
   "source": [
    "train_file.keys()"
   ]
  },
  {
   "cell_type": "code",
   "execution_count": 16,
   "metadata": {},
   "outputs": [
    {
     "data": {
      "text/plain": [
       "<HDF5 dataset \"jets\": shape (10500000,), type \"|V60\">"
      ]
     },
     "execution_count": 16,
     "metadata": {},
     "output_type": "execute_result"
    }
   ],
   "source": [
    "train_file['jets']"
   ]
  },
  {
   "cell_type": "code",
   "execution_count": 7,
   "metadata": {},
   "outputs": [
    {
     "data": {
      "text/plain": [
       "<KeysViewHDF5 ['cells', 'jets', 'tracks']>"
      ]
     },
     "execution_count": 7,
     "metadata": {},
     "output_type": "execute_result"
    }
   ],
   "source": [
    "val_file.keys()"
   ]
  },
  {
   "cell_type": "code",
   "execution_count": 8,
   "metadata": {},
   "outputs": [
    {
     "data": {
      "text/plain": [
       "5800000"
      ]
     },
     "execution_count": 8,
     "metadata": {},
     "output_type": "execute_result"
    }
   ],
   "source": [
    "len(val_file['jets'])"
   ]
  },
  {
   "cell_type": "code",
   "execution_count": 9,
   "metadata": {},
   "outputs": [
    {
     "data": {
      "text/plain": [
       "<KeysViewHDF5 ['cells', 'jets', 'tracks']>"
      ]
     },
     "execution_count": 9,
     "metadata": {},
     "output_type": "execute_result"
    }
   ],
   "source": [
    "test_file.keys()"
   ]
  },
  {
   "cell_type": "code",
   "execution_count": 30,
   "metadata": {},
   "outputs": [
    {
     "name": "stdout",
     "output_type": "stream",
     "text": [
      "[23910.467 49914.453 61929.656 26421.29  43261.895]\n"
     ]
    }
   ],
   "source": [
    "type( test_file['jets'] )\n",
    "print(test_file['jets']['pt'][5:10])"
   ]
  },
  {
   "cell_type": "code",
   "execution_count": 29,
   "metadata": {},
   "outputs": [
    {
     "data": {
      "text/plain": [
       "array([[ True,  True,  True, ..., False, False, False],\n",
       "       [ True,  True,  True, ..., False, False, False],\n",
       "       [ True,  True,  True, ..., False, False, False],\n",
       "       ...,\n",
       "       [ True,  True,  True, ..., False, False, False],\n",
       "       [ True,  True,  True, ..., False, False, False],\n",
       "       [ True,  True,  True, ..., False, False, False]])"
      ]
     },
     "execution_count": 29,
     "metadata": {},
     "output_type": "execute_result"
    }
   ],
   "source": [
    "# Access and print attributes (variables) of the dataset\n",
    "for key, value in val_file['tracks'].attrs.items():\n",
    "    print(f\"{key}: {value}\")\n",
    "val_file['tracks']['valid']"
   ]
  },
  {
   "cell_type": "code",
   "execution_count": 25,
   "metadata": {},
   "outputs": [
    {
     "name": "stdout",
     "output_type": "stream",
     "text": [
      "(17400000,)\n"
     ]
    },
    {
     "data": {
      "text/plain": [
       "numpy.void"
      ]
     },
     "execution_count": 25,
     "metadata": {},
     "output_type": "execute_result"
    }
   ],
   "source": [
    "print( np.shape( test_file['jets'] ) )\n",
    "type( test_file['jets'][0] )"
   ]
  },
  {
   "cell_type": "code",
   "execution_count": 11,
   "metadata": {},
   "outputs": [
    {
     "data": {
      "text/plain": [
       "23200000"
      ]
     },
     "execution_count": 11,
     "metadata": {},
     "output_type": "execute_result"
    }
   ],
   "source": [
    "len(val_file['jets']) + len(test_file['jets']) #+ len(train_file['jets'])"
   ]
  },
  {
   "cell_type": "code",
   "execution_count": null,
   "metadata": {},
   "outputs": [],
   "source": [
    "check =  h5py.File('/storage/agrp/dmitrykl/tauTag/upp/ntuples/qcd/jet_new_4.h5')"
   ]
  }
 ],
 "metadata": {
  "kernelspec": {
   "display_name": "Python 3 (ipykernel)",
   "language": "python",
   "name": "python3"
  },
  "language_info": {
   "codemirror_mode": {
    "name": "ipython",
    "version": 3
   },
   "file_extension": ".py",
   "mimetype": "text/x-python",
   "name": "python",
   "nbconvert_exporter": "python",
   "pygments_lexer": "ipython3",
   "version": "3.8.10"
  }
 },
 "nbformat": 4,
 "nbformat_minor": 2
}
