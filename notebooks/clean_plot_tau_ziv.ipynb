{
 "cells": [
  {
   "cell_type": "code",
   "execution_count": 4,
   "metadata": {},
   "outputs": [],
   "source": [
    "import h5py\n",
    "import numpy as np\n",
    "import puma\n",
    "import matplotlib.pyplot as plt\n",
    "from puma import Histogram, HistogramPlot, Roc, RocPlot\n",
    "from puma.metrics import calc_rej\n",
    "from puma.utils import get_good_colours, get_good_linestyles, logger\n",
    "from sklearn import metrics\n",
    "from numpy.lib.recfunctions import structured_to_unstructured as s2u"
   ]
  },
  {
   "cell_type": "code",
   "execution_count": 16,
   "metadata": {},
   "outputs": [
    {
     "name": "stdout",
     "output_type": "stream",
     "text": [
      "[('beamSpotWeight', '<f4'), ('TruthType', '<f4'), ('NewTruthType', '<f4'), ('truthJetType', '<f4'), ('z0sinthetaSigTJVA', '<f4'), ('z0sinthetaTJVA', '<f4'), ('d0SigTJVA', '<f4'), ('d0TJVA', '<f4'), ('z0TJVA', '<f4'), ('dz0_TV_PV0', '<f4'), ('log_sumpt_TV', '<f4'), ('log_sumpt2_TV', '<f4'), ('log_sumpt_PV0', '<f4'), ('log_sumpt2_PV0', '<f4'), ('isLRT', '<f4'), ('jetSeedPt', '<f4'), ('jetSeedEta', '<f4'), ('jetSeedPhi', '<f4'), ('tauPt', '<f4'), ('tauEta', '<f4'), ('tauPhi', '<f4'), ('dEtaJetSeedAxis', '<f4'), ('dPhiJetSeedAxis', '<f4'), ('dRJetSeedAxis', '<f4'), ('tauPtIntermediateAxis', '<f4'), ('dRIntermediateAxis', '<f4'), ('tauPtDetectorAxis', '<f4'), ('dRDetectorAxis', '<f4'), ('rConv', '<f4'), ('rConvII', '<f4'), ('charge', '<f4'), ('tauTruthCharge', '<f4'), ('tauTruthProng', '<f4'), ('tauTruthDecayMode', '<f4'), ('truthParticleOrigin', '<f4'), ('truthParticleType', '<f4'), ('trackPt', '<f4'), ('trackEta', '<f4'), ('trackPhi', '<f4'), ('truthE', '<f4'), ('numberOfInnermostPixelLayerHits', '<f4'), ('numberOfPixelHits', '<f4'), ('numberOfPixelSharedHits', '<f4'), ('numberOfPixelDeadSensors', '<f4'), ('numberOfSCTHits', '<f4'), ('numberOfSCTSharedHits', '<f4'), ('numberOfSCTDeadSensors', '<f4'), ('numberOfTRTHighThresholdHits', '<f4'), ('numberOfTRTHits', '<f4'), ('nPixHits', '<f4'), ('nSCTHits', '<f4'), ('nSiHits', '<f4'), ('nIBLHitsAndExp', '<f4'), ('expectInnermostPixelLayerHit', '<f4'), ('expectNextToInnermostPixelLayerHit', '<f4'), ('numberOfContribPixelLayers', '<f4'), ('numberOfPixelHoles', '<f4'), ('numberOfSCTHoles', '<f4'), ('d0_old', '<f4'), ('qOverP', '<f4'), ('theta', '<f4'), ('rnn_chargedScore', '<f4'), ('rnn_isolationScore', '<f4'), ('rnn_conversionScore', '<f4'), ('rnn_fakeScore', '<f4'), ('valid', '?')]\n"
     ]
    },
    {
     "name": "stderr",
     "output_type": "stream",
     "text": [
      "\u001b[32;21mINFO:puma: Calculate rejection\u001b[0m\n"
     ]
    }
   ],
   "source": [
    "networks = {\n",
    "    # \"GN1Tau\" : \"logs/GN1_tau_20230215-T172736/ckpts/epoch=021-val_loss=0.31938__test_ttbar.h5\"\n",
    "    # 'GN1Tau': \"logs/GN1_tau_20230321-T145044/ckpts/epoch=018-val_loss=0.08698__test_inclusive_testing_ttbar_PFlow.h5\"\n",
    "    # 'GN1Tau' : \"logs/GN1_tau_20230325-T210222/ckpts/epoch=023-val_loss=0.07746__test_inclusive_testing_ttbar_PFlow.h5\"\n",
    "   \n",
    "    # \"GN2TauJ\" : \"logs/GN2TauJ_20230713-T111312/ckpts/epoch=010-val_loss=0.05086__test_pp_output_test.h5\" ,\n",
    "    # \"GN2TauC\" : \"logs/GN2TauC_20230713-T151458/ckpts/epoch=011-val_loss=0.05114__test_pp_output_test.h5\" ,\n",
    "    # \"GN2Tau\" : \"logs/GN2Tau_20230726-T175600/ckpts/epoch=008-val_loss=0.05920__test_pp_output_test.h5\"\n",
    "    #\"GN2Tau\" : \"logs/GN2Tau_20230508-T191218/ckpts/epoch=021-val_loss=0.07711__test_PFlow.h5\"\n",
    "    # \"GN1Tau\" : \"/storage/agrp/zivka/salt/run/logs/GN1_tau_20230226-T104411/ckpts/epoch=028-val_loss=0.28814__test_inclusive_testing_ttbar_PFlow.h5\",\n",
    "    # \"GN1Tau + Aux\" : \"logs/GN1_tau_20230218-T231137/ckpts/epoch=028-val_loss=0.28814__test_ttbar.h5\"\n",
    "    \"GN2TauA\": \"/storage/agrp/dreyet/GNtau/salt/logs/GN2TauA_20230918-T144357/ckpts/epoch=012-val_loss=0.05973__test_pp_output_test.h5\"\n",
    "}\n",
    "\n",
    "reference = \"RNN\"\n",
    "# reference  = 'GN2Tau'\n",
    "\n",
    "test_path =  '/storage/agrp/dreyet/GNtau/samples/v04/output/pp_output_test.h5'\n",
    "#test_path = '/storage/agrp/zivka/umami_Tau/UPP/umami-preprocessing/upp/output_1/pp_output_test.h5'\n",
    "#'/storage/agrp/dmitrykl/tauTag/upp/output/pp_output_test.h5'\n",
    "results = {}\n",
    "\n",
    "def disc_fct(arr: np.ndarray) -> np.ndarray:\n",
    "    \"\"\"Tagger discriminant\n",
    "\n",
    "    Parameters\n",
    "    ----------\n",
    "    arr : numpy.ndarray\n",
    "        array with with shape (, 2)\n",
    "\n",
    "    Returns\n",
    "    -------\n",
    "    np.ndarray\n",
    "        Array with the discriminant values inside.\n",
    "    \"\"\"\n",
    "    # you can adapt this for your needs\n",
    "    return np.log((arr[0] + 1e-10))# / (arr[1] + 1e-10))\n",
    "\n",
    "with h5py.File(test_path, 'r') as test_f:\n",
    "    print(test_f['tracks'][0].dtype)\n",
    "    jet_pt = test_f['jets']['pt'] / 1000\n",
    "    jet_eta = test_f['jets']['absEta']\n",
    "    jet_flav = test_f['jets']['HadronConeExclTruthLabelID']\n",
    "    rnn_pTau = test_f['jets']['TAU_RNNJetScoreSigTrans'] #using Trans Score!!!\n",
    "    rnn_pBkg = 1 - test_f['jets']['TAU_RNNJetScoreSigTrans']\n",
    "    track_scores = [test_f['tracks']['rnn_fakeScore'], test_f['tracks']['rnn_chargedScore'], test_f['tracks']['rnn_isolationScore'], test_f['tracks']['rnn_conversionScore']]\n",
    "    #print(track_scores, '*')\n",
    "    track_valids = test_f['tracks']['valid']\n",
    "    #print(track_valids)\n",
    "    track_truth = test_f['tracks']['NewTruthType']\n",
    "    n_tracks = np.sum(track_valids, axis=-1)\n",
    "    #print(n_tracks)\n",
    "    prongs = np.sum(np.argmax(np.stack(track_scores,axis=-1), axis=-1)==1, axis=-1)\n",
    "    #print(prongs, '^')\n",
    "    # prongs = np.sum(track_truth == 1, axis=-1)\n",
    "    eta_mask = (jet_eta < 2.5) & ((jet_eta > 1.57) | (jet_eta < 1.37))\n",
    "    mask = (rnn_pTau >= 0) & (rnn_pBkg >= 0) & (jet_pt > 20) & eta_mask #& ((n_tracks == 1) | (n_tracks == 3))# & (jet_pt < 100)\n",
    "    is_tau = jet_flav == 5\n",
    "    is_bkg = jet_flav == 0\n",
    "    n_jets_bkg = np.sum(is_bkg & mask)\n",
    "    rnn_discs = disc_fct(np.row_stack([rnn_pTau, rnn_pBkg]))\n",
    "\n",
    "    x = test_f['tracks']['tauTruthProng']\n",
    "    sig_1_prong = np.isin(x, 1)\n",
    "    sig_mask_1 = np.any(sig_1_prong, axis=1)\n",
    "    sig_3_prong = np.isin(x, 3)\n",
    "    sig_mask_3 = np.any(sig_3_prong, axis=1)\n",
    "\n",
    "    # rnn_discs = rnn_pTau\n",
    "    sig_eff = np.linspace(0.4, 1, 20)\n",
    "    logger.info(\"Calculate rejection\")\n",
    "    rnn_rej = calc_rej(rnn_discs[is_tau & mask], rnn_discs[is_bkg & mask], sig_eff)\n",
    "    rnn_rej_0 = calc_rej(rnn_discs[is_tau & mask], rnn_discs[is_bkg & mask & (prongs!=1) & (prongs!=3)], sig_eff)\n",
    "    # rnn_rej_1 = calc_rej(rnn_discs[is_tau & mask & (prongs==1)], rnn_discs[is_bkg & mask], sig_eff) ##without TauTruthProng mask\n",
    "    # rnn_rej_3 = calc_rej(rnn_discs[is_tau & mask & (prongs==3)], rnn_discs[is_bkg & mask], sig_eff) ##without TauTruthProng mask\n",
    "    rnn_rej_1 = calc_rej(rnn_discs[is_tau & mask & (prongs==1)& sig_mask_1], rnn_discs[is_bkg & mask], sig_eff)\n",
    "    rnn_rej_3 = calc_rej(rnn_discs[is_tau & mask & (prongs==3)& sig_mask_3], rnn_discs[is_bkg & mask], sig_eff)\n",
    "    results[\"RNN\"] = {\n",
    "            'sig_eff' : sig_eff,\n",
    "            'disc' : rnn_discs,\n",
    "            'rej' : rnn_rej,\n",
    "            'rej_0' : rnn_rej_0,\n",
    "            'rej_1' : rnn_rej_1,\n",
    "            'rej_3' : rnn_rej_3,\n",
    "            'pTau' : rnn_pTau,\n",
    "            'pBkg' : rnn_pBkg,\n",
    "            'prongs' : prongs,\n",
    "        }"
   ]
  },
  {
   "cell_type": "code",
   "execution_count": 14,
   "metadata": {},
   "outputs": [],
   "source": [
    "with h5py.File(test_path, 'r') as test_f:\n",
    "\n",
    "    x = test_f['jets']#['tauTruthProng']"
   ]
  },
  {
   "cell_type": "code",
   "execution_count": 9,
   "metadata": {},
   "outputs": [
    {
     "data": {
      "text/plain": [
       "(array([9060281.,       0.,       0.,       0.,       0., 3089148.,\n",
       "              0.,       0.,       0.,   22403.]),\n",
       " array([1.        , 1.39999998, 1.79999995, 2.20000005, 2.5999999 ,\n",
       "        3.        , 3.4000001 , 3.79999995, 4.19999981, 4.5999999 ,\n",
       "        5.        ]),\n",
       " <BarContainer object of 10 artists>)"
      ]
     },
     "execution_count": 9,
     "metadata": {},
     "output_type": "execute_result"
    },
    {
     "data": {
      "image/png": "[encoded data removed]",
      "text/plain": [
       "<Figure size 640x480 with 1 Axes>"
      ]
     },
     "metadata": {},
     "output_type": "display_data"
    }
   ],
   "source": [
    "with h5py.File(test_path, 'r') as test_f:\n",
    "    x = test_f['tracks']['tauTruthProng']\n",
    "x = x[is_tau]\n",
    "x = x.flatten()\n",
    "plt.hist(x)"
   ]
  },
  {
   "cell_type": "code",
   "execution_count": null,
   "metadata": {},
   "outputs": [],
   "source": [
    "np.unique(track_truth)"
   ]
  },
  {
   "cell_type": "code",
   "execution_count": null,
   "metadata": {},
   "outputs": [],
   "source": [
    "track_scores = np.stack(track_scores,axis=-1)"
   ]
  },
  {
   "cell_type": "code",
   "execution_count": null,
   "metadata": {},
   "outputs": [],
   "source": [
    "prongs = np.argmax(np.stack(track_scores,axis=-1), axis=-1)\n"
   ]
  },
  {
   "cell_type": "code",
   "execution_count": null,
   "metadata": {},
   "outputs": [],
   "source": [
    "prongs"
   ]
  },
  {
   "cell_type": "code",
   "execution_count": null,
   "metadata": {},
   "outputs": [],
   "source": [
    "np.argmax(np.stack(track_scores,axis=-1), axis=-1)"
   ]
  },
  {
   "cell_type": "code",
   "execution_count": null,
   "metadata": {},
   "outputs": [],
   "source": [
    "(mask & (jet_pt > 20) & is_bkg & (prongs == 1)).sum()"
   ]
  },
  {
   "cell_type": "code",
   "execution_count": 10,
   "metadata": {},
   "outputs": [
    {
     "ename": "NameError",
     "evalue": "name 'discs' is not defined",
     "output_type": "error",
     "traceback": [
      "\u001b[0;31m---------------------------------------------------------------------------\u001b[0m",
      "\u001b[0;31mNameError\u001b[0m                                 Traceback (most recent call last)",
      "Cell \u001b[0;32mIn[10], line 1\u001b[0m\n\u001b[0;32m----> 1\u001b[0m plt\u001b[39m.\u001b[39mhist(discs[mask \u001b[39m&\u001b[39m is_bkg \u001b[39m&\u001b[39m (prongs \u001b[39m==\u001b[39m \u001b[39m3\u001b[39m)], density\u001b[39m=\u001b[39m\u001b[39mTrue\u001b[39;00m, histtype\u001b[39m=\u001b[39m\u001b[39m'\u001b[39m\u001b[39mstep\u001b[39m\u001b[39m'\u001b[39m)\n\u001b[1;32m      2\u001b[0m plt\u001b[39m.\u001b[39mhist(discs[mask \u001b[39m&\u001b[39m is_tau \u001b[39m&\u001b[39m (prongs \u001b[39m==\u001b[39m \u001b[39m3\u001b[39m)], density\u001b[39m=\u001b[39m\u001b[39mTrue\u001b[39;00m, histtype\u001b[39m=\u001b[39m\u001b[39m'\u001b[39m\u001b[39mstep\u001b[39m\u001b[39m'\u001b[39m)\n\u001b[1;32m      3\u001b[0m plt\u001b[39m.\u001b[39mshow()\n",
      "\u001b[0;31mNameError\u001b[0m: name 'discs' is not defined"
     ]
    }
   ],
   "source": [
    "plt.hist(discs[mask & is_bkg & (prongs == 3)], density=True, histtype='step')\n",
    "plt.hist(discs[mask & is_tau & (prongs == 3)], density=True, histtype='step')\n",
    "plt.show()"
   ]
  },
  {
   "cell_type": "code",
   "execution_count": null,
   "metadata": {},
   "outputs": [],
   "source": [
    "np.sum(eta_mask)"
   ]
  },
  {
   "cell_type": "code",
   "execution_count": null,
   "metadata": {},
   "outputs": [],
   "source": [
    "calc_rej(rnn_discs[is_tau & mask & (prongs==1)], rnn_discs[is_bkg & mask & (prongs==1)], np.array([0.6, 0.75, 0.85, 0.95]))"
   ]
  },
  {
   "cell_type": "code",
   "execution_count": null,
   "metadata": {},
   "outputs": [],
   "source": [
    "rnn_discs[is_tau & mask & (prongs==3)]"
   ]
  },
  {
   "cell_type": "code",
   "execution_count": null,
   "metadata": {},
   "outputs": [],
   "source": [
    "rnn_discs[is_bkg & mask & (prongs==3)]"
   ]
  },
  {
   "cell_type": "code",
   "execution_count": null,
   "metadata": {},
   "outputs": [],
   "source": [
    "calc_rej(rnn_discs[is_tau & mask & (prongs==3)], rnn_discs[is_bkg & mask & (prongs==3)], np.array([0.45, 0.6, 0.75, 0.95]))"
   ]
  },
  {
   "cell_type": "code",
   "execution_count": null,
   "metadata": {},
   "outputs": [],
   "source": [
    "np.sum(is_tau & mask & (prongs==3)) / (np.sum(is_tau & mask)) * 100"
   ]
  },
  {
   "cell_type": "code",
   "execution_count": null,
   "metadata": {},
   "outputs": [],
   "source": [
    "discs[is_tau & mask & (prongs==1)]"
   ]
  },
  {
   "cell_type": "code",
   "execution_count": null,
   "metadata": {},
   "outputs": [],
   "source": [
    "np.sum((prongs==1) & mask & is_tau)"
   ]
  },
  {
   "cell_type": "code",
   "execution_count": null,
   "metadata": {},
   "outputs": [],
   "source": [
    "track_truth[track_valids]"
   ]
  },
  {
   "cell_type": "code",
   "execution_count": null,
   "metadata": {},
   "outputs": [],
   "source": [
    "np.sum(np.argmax(np.stack(track_scores,axis=-1), axis=-1)==1, axis=-1)"
   ]
  },
  {
   "cell_type": "code",
   "execution_count": 18,
   "metadata": {},
   "outputs": [
    {
     "name": "stderr",
     "output_type": "stream",
     "text": [
      "\u001b[32;21mINFO:puma: Calculate discriminants and rejection\u001b[0m\n"
     ]
    },
    {
     "name": "stdout",
     "output_type": "stream",
     "text": [
      "GN2TauA /storage/agrp/dreyet/GNtau/salt/logs/GN2TauA_20230918-T144357/ckpts/epoch=012-val_loss=0.05973__test_pp_output_test.h5\n",
      "[('GN2TauA_pu', '<f4'), ('GN2TauA_pb', '<f4'), ('pt', '<f4'), ('absEta', '<f4'), ('HadronConeExclTruthLabelID', '<f4')]\n"
     ]
    },
    {
     "name": "stderr",
     "output_type": "stream",
     "text": [
      "\u001b[32;21mINFO:puma: Calculate rejection\u001b[0m\n"
     ]
    },
    {
     "name": "stdout",
     "output_type": "stream",
     "text": [
      "[-1.1280774e+01 -1.1528841e+01 -1.2899109e+01 ... -8.6628304e+00\n",
      " -2.3722929e-05 -9.1063299e+00] GN2TauA\n"
     ]
    }
   ],
   "source": [
    "logger.info(\"Calculate discriminants and rejection\")\n",
    "for key, val in networks.items():\n",
    "    print(key, val)\n",
    "    with h5py.File(val, 'r') as f:\n",
    "        #if key == 'GN2TauJ':\n",
    "            pt = f['jets']['pt'] / 1000\n",
    "            # tracks_pred = f['tracks'].fields(['0', '1', '2', '3', '4', '5', '6'])[:]\n",
    "            flav = f['jets']['HadronConeExclTruthLabelID']\n",
    "            is_tau = flav == 5\n",
    "            is_bkg = flav == 0\n",
    "            print(f['jets'][0].dtype)\n",
    "            if key == 'GN2Tau':\n",
    "                pTau = f['jets']['GN2Tau_pb']\n",
    "                pBkg = f['jets']['GN2Tau_pu']\n",
    "                discs = disc_fct(np.row_stack([pTau, pBkg]))\n",
    "                print(discs, key)\n",
    "            if key == 'GN2TauA':\n",
    "                pTau = f['jets']['GN2TauA_pb']\n",
    "                pBkg = f['jets']['GN2TauA_pu']\n",
    "                discs = disc_fct(np.row_stack([pTau, pBkg]))\n",
    "                print(discs, key)\n",
    "            if key == 'GN2TauJ':\n",
    "                pTau = f['jets']['GN2TauJ_pb']\n",
    "                pBkg = f['jets']['GN2TauJ_pu']\n",
    "                discs = disc_fct(np.row_stack([pTau, pBkg]))\n",
    "                print(discs, key)\n",
    "            if key == 'GN2TauC':\n",
    "                pTau = f['jets']['GN2TauC_pb']\n",
    "                pBkg = f['jets']['GN2TauC_pu']\n",
    "                discs = disc_fct(np.row_stack([pTau, pBkg]))\n",
    "                print(discs, key)\n",
    "            # discs = pTau\n",
    "            # mask = (pt > 20) & (pt < 100)\n",
    "            # mask = (pt > 5)\n",
    "            eta_mask = (jet_eta < 2.5) & ((jet_eta > 1.57) | (jet_eta < 1.37))\n",
    "            mask = (pt > 20) & eta_mask #& ((n_tracks == 1) | (n_tracks == 3))# & (jet_pt < 100)\n",
    "            sig_eff = np.linspace(0.4, 1, 20)\n",
    "            logger.info(\"Calculate rejection\")\n",
    "            rej = calc_rej(discs[is_tau & mask], discs[is_bkg & mask], sig_eff)\n",
    "            rej_0 = calc_rej(discs[is_tau & mask], discs[is_bkg & mask & (prongs!=1) & (prongs!=3)], sig_eff)\n",
    "            # rej_1 = calc_rej(discs[is_tau & mask & (prongs==1)], discs[is_bkg & mask], sig_eff)\n",
    "            # rej_3 = calc_rej(discs[is_tau & mask & (prongs==3)], discs[is_bkg & mask], sig_eff)\n",
    "            rej_1 = calc_rej(discs[is_tau & mask & (prongs==1) & sig_mask_1], discs[is_bkg & mask], sig_eff)\n",
    "            rej_3 = calc_rej(discs[is_tau & mask & (prongs==3) & sig_mask_3], discs[is_bkg & mask], sig_eff)\n",
    "            #print((mask & (jet_pt > 20) & is_bkg & (prongs == 3)).sum())\n",
    "            results[key] = {\n",
    "                    'sig_eff' : sig_eff,\n",
    "                    'disc' : discs,\n",
    "                    'rej' : rej,\n",
    "                    'rej_0' : rej_0,\n",
    "                    'rej_1' : rej_1,\n",
    "                    'rej_3' : rej_3,\n",
    "                    'pTau' : rnn_pTau,\n",
    "                    'pBkg' : rnn_pBkg,\n",
    "                }\n",
    "\n"
   ]
  },
  {
   "cell_type": "code",
   "execution_count": null,
   "metadata": {},
   "outputs": [],
   "source": [
    "(mask & (jet_pt > 20) & is_bkg & (prongs == 3)).sum()"
   ]
  },
  {
   "cell_type": "code",
   "execution_count": 19,
   "metadata": {},
   "outputs": [
    {
     "ename": "KeyError",
     "evalue": "'Unable to synchronously open object (invalid identifier type to function)'",
     "output_type": "error",
     "traceback": [
      "\u001b[0;31m---------------------------------------------------------------------------\u001b[0m",
      "\u001b[0;31mKeyError\u001b[0m                                  Traceback (most recent call last)",
      "Cell \u001b[0;32mIn[19], line 3\u001b[0m\n\u001b[1;32m      1\u001b[0m plt\u001b[39m.\u001b[39mfigure()\n\u001b[1;32m      2\u001b[0m plt\u001b[39m.\u001b[39mtitle(\u001b[39m'\u001b[39m\u001b[39mGN2Tau_pb\u001b[39m\u001b[39m'\u001b[39m)\n\u001b[0;32m----> 3\u001b[0m plt\u001b[39m.\u001b[39mhist(f[\u001b[39m'\u001b[39;49m\u001b[39mjets\u001b[39;49m\u001b[39m'\u001b[39;49m][\u001b[39m'\u001b[39m\u001b[39mGN2Tau_pb\u001b[39m\u001b[39m'\u001b[39m])\n\u001b[1;32m      4\u001b[0m plt\u001b[39m.\u001b[39mfigure()\n\u001b[1;32m      5\u001b[0m plt\u001b[39m.\u001b[39mtitle(\u001b[39m'\u001b[39m\u001b[39mGN2Tau_pu\u001b[39m\u001b[39m'\u001b[39m)\n",
      "File \u001b[0;32mh5py/_objects.pyx:54\u001b[0m, in \u001b[0;36mh5py._objects.with_phil.wrapper\u001b[0;34m()\u001b[0m\n",
      "File \u001b[0;32mh5py/_objects.pyx:55\u001b[0m, in \u001b[0;36mh5py._objects.with_phil.wrapper\u001b[0;34m()\u001b[0m\n",
      "File \u001b[0;32m/usr/local/anaconda/3.8u/envs/sup_res/lib/python3.9/site-packages/h5py/_hl/group.py:357\u001b[0m, in \u001b[0;36mGroup.__getitem__\u001b[0;34m(self, name)\u001b[0m\n\u001b[1;32m    355\u001b[0m         \u001b[39mraise\u001b[39;00m \u001b[39mValueError\u001b[39;00m(\u001b[39m\"\u001b[39m\u001b[39mInvalid HDF5 object reference\u001b[39m\u001b[39m\"\u001b[39m)\n\u001b[1;32m    356\u001b[0m \u001b[39melif\u001b[39;00m \u001b[39misinstance\u001b[39m(name, (\u001b[39mbytes\u001b[39m, \u001b[39mstr\u001b[39m)):\n\u001b[0;32m--> 357\u001b[0m     oid \u001b[39m=\u001b[39m h5o\u001b[39m.\u001b[39;49mopen(\u001b[39mself\u001b[39;49m\u001b[39m.\u001b[39;49mid, \u001b[39mself\u001b[39;49m\u001b[39m.\u001b[39;49m_e(name), lapl\u001b[39m=\u001b[39;49m\u001b[39mself\u001b[39;49m\u001b[39m.\u001b[39;49m_lapl)\n\u001b[1;32m    358\u001b[0m \u001b[39melse\u001b[39;00m:\n\u001b[1;32m    359\u001b[0m     \u001b[39mraise\u001b[39;00m \u001b[39mTypeError\u001b[39;00m(\u001b[39m\"\u001b[39m\u001b[39mAccessing a group is done with bytes or str, \u001b[39m\u001b[39m\"\u001b[39m\n\u001b[1;32m    360\u001b[0m                     \u001b[39m\"\u001b[39m\u001b[39mnot \u001b[39m\u001b[39m{}\u001b[39;00m\u001b[39m\"\u001b[39m\u001b[39m.\u001b[39mformat(\u001b[39mtype\u001b[39m(name)))\n",
      "File \u001b[0;32mh5py/_objects.pyx:54\u001b[0m, in \u001b[0;36mh5py._objects.with_phil.wrapper\u001b[0;34m()\u001b[0m\n",
      "File \u001b[0;32mh5py/_objects.pyx:55\u001b[0m, in \u001b[0;36mh5py._objects.with_phil.wrapper\u001b[0;34m()\u001b[0m\n",
      "File \u001b[0;32mh5py/h5o.pyx:190\u001b[0m, in \u001b[0;36mh5py.h5o.open\u001b[0;34m()\u001b[0m\n",
      "\u001b[0;31mKeyError\u001b[0m: 'Unable to synchronously open object (invalid identifier type to function)'"
     ]
    },
    {
     "data": {
      "image/png": "[encoded data removed]",
      "text/plain": [
       "<Figure size 640x480 with 1 Axes>"
      ]
     },
     "metadata": {},
     "output_type": "display_data"
    }
   ],
   "source": [
    "plt.figure()\n",
    "plt.title('GN2Tau_pb')\n",
    "plt.hist(f['jets']['GN2Tau_pb'])\n",
    "plt.figure()\n",
    "plt.title('GN2Tau_pu')\n",
    "plt.hist(f['jets']['GN2Tau_pu'], color = 'g')\n",
    "\n"
   ]
  },
  {
   "cell_type": "code",
   "execution_count": 21,
   "metadata": {},
   "outputs": [
    {
     "ename": "NameError",
     "evalue": "name 'new_pred' is not defined",
     "output_type": "error",
     "traceback": [
      "\u001b[0;31m---------------------------------------------------------------------------\u001b[0m",
      "\u001b[0;31mNameError\u001b[0m                                 Traceback (most recent call last)",
      "Cell \u001b[0;32mIn[21], line 2\u001b[0m\n\u001b[1;32m      1\u001b[0m valid_truth \u001b[39m=\u001b[39m np\u001b[39m.\u001b[39margmax(np\u001b[39m.\u001b[39mstack(track_scores,axis\u001b[39m=\u001b[39m\u001b[39m-\u001b[39m\u001b[39m1\u001b[39m), axis\u001b[39m=\u001b[39m\u001b[39m-\u001b[39m\u001b[39m1\u001b[39m)\n\u001b[0;32m----> 2\u001b[0m confusion_matrix \u001b[39m=\u001b[39m metrics\u001b[39m.\u001b[39mconfusion_matrix(valid_truth, np\u001b[39m.\u001b[39margmax(new_pred, axis\u001b[39m=\u001b[39m\u001b[39m-\u001b[39m\u001b[39m1\u001b[39m), normalize\u001b[39m=\u001b[39m\u001b[39m'\u001b[39m\u001b[39mtrue\u001b[39m\u001b[39m'\u001b[39m)\n\u001b[1;32m      4\u001b[0m cm_display \u001b[39m=\u001b[39m metrics\u001b[39m.\u001b[39mConfusionMatrixDisplay(confusion_matrix \u001b[39m=\u001b[39m confusion_matrix)\n\u001b[1;32m      6\u001b[0m cm_display\u001b[39m.\u001b[39mplot()\n",
      "\u001b[0;31mNameError\u001b[0m: name 'new_pred' is not defined"
     ]
    }
   ],
   "source": [
    "confusion_matrix = metrics.confusion_matrix(valid_truth, np.argmax(new_pred, axis=-1), normalize='true')\n",
    "\n",
    "cm_display = metrics.ConfusionMatrixDisplay(confusion_matrix = confusion_matrix)\n",
    "\n",
    "cm_display.plot()\n",
    "plt.show()"
   ]
  },
  {
   "cell_type": "code",
   "execution_count": null,
   "metadata": {},
   "outputs": [],
   "source": [
    "rnn_scores = np.stack([track_scores[0], track_scores[1], track_scores[3], track_scores[2]], axis=-1)"
   ]
  },
  {
   "cell_type": "code",
   "execution_count": null,
   "metadata": {},
   "outputs": [],
   "source": [
    "confusion_matrix = metrics.confusion_matrix(valid_truth, np.argmax(rnn_scores[track_valids], axis=-1), normalize='true')\n",
    "\n",
    "cm_display = metrics.ConfusionMatrixDisplay(confusion_matrix = confusion_matrix)\n",
    "\n",
    "cm_display.plot()\n",
    "plt.show()"
   ]
  },
  {
   "cell_type": "code",
   "execution_count": 23,
   "metadata": {},
   "outputs": [
    {
     "data": {
      "image/png": "[encoded data removed]",
      "text/plain": [
       "<Figure size 640x480 with 1 Axes>"
      ]
     },
     "metadata": {},
     "output_type": "display_data"
    }
   ],
   "source": [
    "plt.hist(results['RNN']['disc'][is_tau & mask], histtype='step', density=True, bins=20, color='red', label='Tau')\n",
    "plt.hist(results['RNN']['disc'][is_bkg & mask], histtype='step', density=True, bins=20, color='blue', label='Bkg')\n",
    "plt.hist(results['GN2TauA']['disc'][is_tau & mask], histtype='step', density=True, bins=20, color='red', linestyle=('dashed'))\n",
    "plt.hist(results['GN2TauA']['disc'][is_bkg & mask], histtype='step', density=True, bins=20, color='blue', linestyle=('dashed'))\n",
    "plt.legend()\n",
    "plt.show()"
   ]
  },
  {
   "cell_type": "code",
   "execution_count": null,
   "metadata": {},
   "outputs": [],
   "source": [
    "\n",
    "def count(lst):\n",
    "    return sum(not(bool(x)) for x in lst)\n"
   ]
  },
  {
   "cell_type": "code",
   "execution_count": 24,
   "metadata": {},
   "outputs": [],
   "source": [
    "plt.rcParams.update({\n",
    "    \"figure.facecolor\":  \"w\", \n",
    "    \"axes.facecolor\":    \"w\", \n",
    "    \"savefig.facecolor\": \"w\", \n",
    "})"
   ]
  },
  {
   "cell_type": "code",
   "execution_count": 33,
   "metadata": {},
   "outputs": [
    {
     "data": {
      "image/png": "[encoded data removed]",
      "text/plain": [
       "<Figure size 640x480 with 1 Axes>"
      ]
     },
     "metadata": {},
     "output_type": "display_data"
    }
   ],
   "source": [
    "plot_roc = RocPlot(\n",
    "        n_ratio_panels=1,\n",
    "        ylabel=\"Background rejection\",\n",
    "        xlabel=\"$\\\\tau$-jet efficiency\",\n",
    "        atlas_second_tag=\"$\\\\sqrt{s}=13$ TeV\\n1-prong\",\n",
    "        figsize=(6.5, 6),\n",
    "        y_scale=1.4,\n",
    "    )\n",
    "\n",
    "#for network in results.keys():\n",
    "plot_roc.add_roc(\n",
    "    Roc(\n",
    "        sig_eff,\n",
    "        results['RNN']['rej_1'],\n",
    "        n_test=np.sum(is_bkg & mask & (prongs==1)),\n",
    "        rej_class=\"qcd\",\n",
    "        signal_class='$\\\\tau$-jets',\n",
    "        label=f\"{'RNN'}\",\n",
    "    ),\n",
    "    reference=(reference == 'RNN'),\n",
    ")\n",
    "# setting which flavour rejection ratio is drawn in which ratio panel\n",
    "plot_roc.set_ratio_class(1, \"qcd\")\n",
    "#plot_roc.set_leg_rej_labels(\"qcd\", \"Background rejection\")\n",
    "plot_roc.draw()\n",
    "plot_roc.savefig(f\"onlyRNN_1.png\", transparent=False)"
   ]
  },
  {
   "cell_type": "code",
   "execution_count": 27,
   "metadata": {},
   "outputs": [
    {
     "ename": "TypeError",
     "evalue": "set_ratio_class() takes 3 positional arguments but 4 were given",
     "output_type": "error",
     "traceback": [
      "\u001b[0;31m---------------------------------------------------------------------------\u001b[0m",
      "\u001b[0;31mTypeError\u001b[0m                                 Traceback (most recent call last)",
      "Cell \u001b[0;32mIn[27], line 22\u001b[0m\n\u001b[1;32m     10\u001b[0m \u001b[39mfor\u001b[39;00m network \u001b[39min\u001b[39;00m results\u001b[39m.\u001b[39mkeys():\n\u001b[1;32m     11\u001b[0m     plot_roc\u001b[39m.\u001b[39madd_roc(\n\u001b[1;32m     12\u001b[0m         Roc(\n\u001b[1;32m     13\u001b[0m             sig_eff,\n\u001b[0;32m   (...)\u001b[0m\n\u001b[1;32m     20\u001b[0m         reference\u001b[39m=\u001b[39m(reference \u001b[39m==\u001b[39m network),\n\u001b[1;32m     21\u001b[0m     )\n\u001b[0;32m---> 22\u001b[0m plot_roc\u001b[39m.\u001b[39;49mset_ratio_class(\u001b[39m1\u001b[39;49m, \u001b[39m\"\u001b[39;49m\u001b[39mqcd\u001b[39;49m\u001b[39m\"\u001b[39;49m,\u001b[39m'\u001b[39;49m\u001b[39m'\u001b[39;49m)\n\u001b[1;32m     23\u001b[0m plot_roc\u001b[39m.\u001b[39mset_leg_rej_labels(\u001b[39m\"\u001b[39m\u001b[39mqcd\u001b[39m\u001b[39m\"\u001b[39m, \u001b[39m\"\u001b[39m\u001b[39mBackground rejection\u001b[39m\u001b[39m\"\u001b[39m)\n\u001b[1;32m     24\u001b[0m plot_roc\u001b[39m.\u001b[39mdraw()\n",
      "\u001b[0;31mTypeError\u001b[0m: set_ratio_class() takes 3 positional arguments but 4 were given"
     ]
    }
   ],
   "source": [
    "plot_roc = RocPlot(\n",
    "        n_ratio_panels=1,\n",
    "        ylabel=\"Background rejection\",\n",
    "        xlabel=\"$\\\\tau$-jet efficiency\",\n",
    "        atlas_second_tag=\"$\\\\sqrt{s}=13$ TeV\",\n",
    "        figsize=(6.5, 6),\n",
    "        y_scale=1.4,\n",
    "    )\n",
    "\n",
    "for network in results.keys():\n",
    "    plot_roc.add_roc(\n",
    "        Roc(\n",
    "            sig_eff,\n",
    "            results[network]['rej'],\n",
    "            n_test=n_jets_bkg,\n",
    "            rej_class=\"qcd\",\n",
    "            signal_class='$\\\\tau$-jets',\n",
    "            label=f\"{network}\",\n",
    "        ),\n",
    "        reference=(reference == network),\n",
    "    )\n",
    "plot_roc.set_ratio_class(1, \"qcd\",'')\n",
    "plot_roc.set_leg_rej_labels(\"qcd\", \"Background rejection\")\n",
    "plot_roc.draw()\n",
    "plot_roc.savefig(f\"****newnew_roc_tau.png\", transparent=False)"
   ]
  },
  {
   "cell_type": "code",
   "execution_count": null,
   "metadata": {},
   "outputs": [],
   "source": [
    "for network in results.keys():\n",
    "    print(count(results[network]['rej']))"
   ]
  },
  {
   "cell_type": "code",
   "execution_count": null,
   "metadata": {},
   "outputs": [],
   "source": [
    "# plt.hist(pt, bins=100, density=True, range=(0, 1000))\n",
    "# plt.yscale('log')\n",
    "# plt.show()\n",
    "# plot_roc = RocPlot(\n",
    "#         n_ratio_panels=1,\n",
    "#         ylabel=\"Background rejection\",\n",
    "#         xlabel=\"$\\\\tau$-jet efficiency\",\n",
    "#         atlas_second_tag=\"$\\\\sqrt{s}=13$ TeV\",\n",
    "#         figsize=(6.5, 6),\n",
    "#         y_scale=1.4,\n",
    "#     )\n",
    "# for network in results.keys():\n",
    "#     if network == 'RNN':\n",
    "#         lst = np.isinf(results[network]['rej_0'])\n",
    "#         length_nedded = count(lst)\n",
    "#     lst = np.isinf(results[network]['rej_0'])\n",
    "#     num = count(lst)\n",
    "#     temp_rej_lst = results[network]['rej_0'][-num:]\n",
    "#     temp_rej_lst = np.pad(temp_rej_lst, (length_nedded-num,0), 'constant', constant_values=results[network]['rej_0'][-num])\n",
    "#     temp_sig_lst = sig_eff[-num:]\n",
    "#     temp_sig_lst = np.pad(temp_sig_lst, (length_nedded-num,0), 'constant', constant_values=temp_sig_lst[-num])\n",
    "#     plot_roc.add_roc(\n",
    "#         Roc(\n",
    "#             temp_sig_lst,\n",
    "#             temp_rej_lst,\n",
    "#             n_test=n_jets_bkg,\n",
    "#             rej_class=\"qcd\",\n",
    "#             signal_class='$\\\\tau$-jets',\n",
    "#             label=f\"{network}\",\n",
    "#         ),\n",
    "#         reference=(reference == network),\n",
    "#     )\n",
    "# plot_roc.set_ratio_class(1, \"qcd\",'')\n",
    "# plot_roc.set_leg_rej_labels(\"qcd\", \"Background rejection\")\n",
    "# plot_roc.draw()\n",
    "# plot_roc.savefig(f\"roc_tau_0.png\", transparent=False)"
   ]
  },
  {
   "cell_type": "code",
   "execution_count": null,
   "metadata": {},
   "outputs": [],
   "source": [
    "mask = pt > 5"
   ]
  },
  {
   "cell_type": "code",
   "execution_count": 28,
   "metadata": {},
   "outputs": [
    {
     "ename": "TypeError",
     "evalue": "set_ratio_class() got an unexpected keyword argument 'label'",
     "output_type": "error",
     "traceback": [
      "\u001b[0;31m---------------------------------------------------------------------------\u001b[0m",
      "\u001b[0;31mTypeError\u001b[0m                                 Traceback (most recent call last)",
      "Cell \u001b[0;32mIn[28], line 24\u001b[0m\n\u001b[1;32m     12\u001b[0m plot_roc\u001b[39m.\u001b[39madd_roc(\n\u001b[1;32m     13\u001b[0m     Roc(\n\u001b[1;32m     14\u001b[0m         sig_eff,\n\u001b[0;32m   (...)\u001b[0m\n\u001b[1;32m     21\u001b[0m     reference\u001b[39m=\u001b[39m(reference \u001b[39m==\u001b[39m \u001b[39m'\u001b[39m\u001b[39mRNN\u001b[39m\u001b[39m'\u001b[39m),\n\u001b[1;32m     22\u001b[0m )\n\u001b[1;32m     23\u001b[0m \u001b[39m# setting which flavour rejection ratio is drawn in which ratio panel\u001b[39;00m\n\u001b[0;32m---> 24\u001b[0m plot_roc\u001b[39m.\u001b[39;49mset_ratio_class(\u001b[39m1\u001b[39;49m, \u001b[39m\"\u001b[39;49m\u001b[39mqcd\u001b[39;49m\u001b[39m\"\u001b[39;49m, label \u001b[39m=\u001b[39;49m \u001b[39m\"\u001b[39;49m\u001b[39m\"\u001b[39;49m)\n\u001b[1;32m     25\u001b[0m \u001b[39m# plot_roc.set_leg_rej_labels(\"qcd\", \"Background rejection\")\u001b[39;00m\n\u001b[1;32m     26\u001b[0m plot_roc\u001b[39m.\u001b[39mdraw()\n",
      "\u001b[0;31mTypeError\u001b[0m: set_ratio_class() got an unexpected keyword argument 'label'"
     ]
    }
   ],
   "source": [
    "##plot only RNN for 1/3 prong\n",
    "\n",
    "plot_roc = RocPlot(\n",
    "        n_ratio_panels=1,\n",
    "        ylabel=\"Background rejection\",\n",
    "        xlabel=\"$\\\\tau$-jet efficiency\",\n",
    "        atlas_second_tag=\"$\\\\sqrt{s}=13$ TeV\\n1-prong\",\n",
    "        figsize=(6.5, 6),\n",
    "        y_scale=1.4,\n",
    "    )\n",
    "\n",
    "plot_roc.add_roc(\n",
    "    Roc(\n",
    "        sig_eff,\n",
    "        results['RNN']['rej_1'],\n",
    "        n_test=np.sum(is_bkg & mask & (prongs==1)),\n",
    "        rej_class=\"qcd\",\n",
    "        signal_class='$\\\\tau$-jets',\n",
    "        label=f\"{'RNN'}\",\n",
    "    ),\n",
    "    reference=(reference == 'RNN'),\n",
    ")\n",
    "# setting which flavour rejection ratio is drawn in which ratio panel\n",
    "plot_roc.set_ratio_class(1, \"qcd\", label = \"\")\n",
    "# plot_roc.set_leg_rej_labels(\"qcd\", \"Background rejection\")\n",
    "plot_roc.draw()\n",
    "plot_roc.savefig(f\"^1_alone.png\", transparent=False)"
   ]
  },
  {
   "cell_type": "code",
   "execution_count": null,
   "metadata": {},
   "outputs": [],
   "source": [
    "results['GN2TauJ']['disc']"
   ]
  },
  {
   "cell_type": "code",
   "execution_count": 26,
   "metadata": {},
   "outputs": [
    {
     "data": {
      "image/png": "[encoded data removed]",
      "text/plain": [
       "<Figure size 640x480 with 1 Axes>"
      ]
     },
     "metadata": {},
     "output_type": "display_data"
    }
   ],
   "source": [
    "plot_roc = RocPlot(\n",
    "        n_ratio_panels=1,\n",
    "        ylabel=\"Background rejection\",\n",
    "        xlabel=\"$\\\\tau$-jet efficiency\",\n",
    "        atlas_second_tag=\"$\\\\sqrt{s}=13$ TeV\\n1-prong\",\n",
    "        figsize=(6.5, 6),\n",
    "        y_scale=1.4,\n",
    "    )\n",
    "\n",
    "for network in results.keys():\n",
    "    plot_roc.add_roc(\n",
    "        Roc(\n",
    "            sig_eff,\n",
    "            results[network]['rej_1'],\n",
    "            n_test=np.sum(is_bkg & mask & (prongs==1)),\n",
    "            rej_class=\"qcd\",\n",
    "            signal_class='$\\\\tau$-jets',\n",
    "            label=f\"{network}\",\n",
    "        ),\n",
    "        reference=(reference == network),\n",
    "    )\n",
    "# setting which flavour rejection ratio is drawn in which ratio panel\n",
    "plot_roc.set_ratio_class(1, \"qcd\",\"\")\n",
    "# plot_roc.set_leg_rej_labels(\"qcd\", \"Background rejection\")\n",
    "plot_roc.draw()\n",
    "plot_roc.savefig(f\"*^^*newnew_roc_tau_1.png\", transparent=False)"
   ]
  },
  {
   "cell_type": "code",
   "execution_count": 27,
   "metadata": {},
   "outputs": [
    {
     "data": {
      "image/png": "[encoded data removed]",
      "text/plain": [
       "<Figure size 640x480 with 1 Axes>"
      ]
     },
     "metadata": {},
     "output_type": "display_data"
    }
   ],
   "source": [
    "plot_roc = RocPlot(\n",
    "        n_ratio_panels=1,\n",
    "        ylabel=\"Background rejection\",\n",
    "        xlabel=\"$\\\\tau$-jet efficiency\",\n",
    "        atlas_second_tag=\"$\\\\sqrt{s}=13$ TeV\\n3-prong\",\n",
    "        figsize=(6.5, 6),\n",
    "        y_scale=1.4,\n",
    "    )\n",
    "\n",
    "for network in results.keys():\n",
    "    plot_roc.add_roc(\n",
    "        Roc(\n",
    "            sig_eff,\n",
    "            results[network]['rej_3'],\n",
    "            n_test=np.sum(is_bkg & mask & (prongs==3)),\n",
    "            rej_class=\"qcd\",\n",
    "            signal_class='$\\\\tau$-jets',\n",
    "            label=f\"{network}\",\n",
    "        ),\n",
    "        reference=(reference == network),\n",
    "    )\n",
    "# setting which flavour rejection ratio is drawn in which ratio panel\n",
    "plot_roc.set_ratio_class(1, \"qcd\",\"\")\n",
    "# plot_roc.set_leg_rej_labels(\"qcd\", \"Background rejection\")\n",
    "plot_roc.draw()\n",
    "plot_roc.savefig(f\"*^^*newnew_roc_tau_3.png\", transparent=False)"
   ]
  },
  {
   "cell_type": "code",
   "execution_count": null,
   "metadata": {},
   "outputs": [],
   "source": [
    "np.sum(is_tau & mask & (prongs==1) & sig_mask_1)"
   ]
  },
  {
   "cell_type": "code",
   "execution_count": 4,
   "metadata": {},
   "outputs": [],
   "source": [
    "import numpy as np\n",
    "\n",
    "from puma import VarVsEff, VarVsEffPlot\n",
    "from puma.utils import get_dummy_2_taggers, logger"
   ]
  },
  {
   "cell_type": "code",
   "execution_count": 5,
   "metadata": {},
   "outputs": [],
   "source": [
    "rnn_mask = (rnn_pTau >= 0) & (rnn_pBkg >= 0) & (jet_pt > 20) & eta_mask\n",
    "mask = (jet_pt > 20) & eta_mask"
   ]
  },
  {
   "cell_type": "code",
   "execution_count": null,
   "metadata": {},
   "outputs": [],
   "source": [
    "np.sum(np.isinf(jet_pt[is_bkg & rnn_mask& (prongs==3)]==True))"
   ]
  },
  {
   "cell_type": "code",
   "execution_count": null,
   "metadata": {},
   "outputs": [],
   "source": [
    "results[\"GN2TauC\"]['disc'][is_bkg & rnn_mask& (prongs==1)]"
   ]
  },
  {
   "cell_type": "code",
   "execution_count": null,
   "metadata": {},
   "outputs": [],
   "source": [
    "prongs_truth = np.sum(track_truth == 1, axis=-1)"
   ]
  },
  {
   "cell_type": "code",
   "execution_count": null,
   "metadata": {},
   "outputs": [],
   "source": [
    "track_truth"
   ]
  },
  {
   "cell_type": "code",
   "execution_count": null,
   "metadata": {},
   "outputs": [],
   "source": [
    "len(np.sum(track_truth == 1, axis = -1) == 1)"
   ]
  },
  {
   "cell_type": "code",
   "execution_count": null,
   "metadata": {},
   "outputs": [],
   "source": [
    "np.sum((prongs==1))"
   ]
  },
  {
   "cell_type": "code",
   "execution_count": null,
   "metadata": {},
   "outputs": [],
   "source": [
    "np.sum((prongs==1) & (np.sum(track_truth == 1, axis = -1) == 1))"
   ]
  },
  {
   "cell_type": "code",
   "execution_count": null,
   "metadata": {},
   "outputs": [],
   "source": [
    "(658197-586729)/658197"
   ]
  },
  {
   "cell_type": "code",
   "execution_count": 6,
   "metadata": {},
   "outputs": [],
   "source": [
    "prongness = {'1 prongs':[(prongs==1) ,sig_mask_1, 0.75, 1], '3 prongs' : [(prongs==3), sig_mask_3, 0.6, 3]}\n",
    "#eff = {'1 prongs' : , '3 prongs' : 0.6}"
   ]
  },
  {
   "cell_type": "code",
   "execution_count": 8,
   "metadata": {},
   "outputs": [
    {
     "name": "stderr",
     "output_type": "stream",
     "text": [
      "\u001b[32;21mINFO:puma: Plotting bkg rejection for inclusive efficiency as a function of pt.\u001b[0m\n",
      "\u001b[33;21mWARNING:puma: Your rejection is infinity -> setting it to np.nan.\u001b[0m\n",
      "\u001b[33;21mWARNING:puma: Your rejection is infinity -> setting it to np.nan.\u001b[0m\n",
      "\u001b[33;21mWARNING:puma: Your rejection is infinity -> setting it to np.nan.\u001b[0m\n",
      "\u001b[33;21mWARNING:puma: Your rejection is infinity -> setting it to np.nan.\u001b[0m\n",
      "\u001b[33;21mWARNING:puma: Your rejection is infinity -> setting it to np.nan.\u001b[0m\n",
      "\u001b[33;21mWARNING:puma: Your rejection is infinity -> setting it to np.nan.\u001b[0m\n",
      "\u001b[33;21mWARNING:puma: Your rejection is infinity -> setting it to np.nan.\u001b[0m\n",
      "\u001b[33;21mWARNING:puma: Your rejection is infinity -> setting it to np.nan.\u001b[0m\n",
      "\u001b[33;21mWARNING:puma: Your rejection is infinity -> setting it to np.nan.\u001b[0m\n",
      "\u001b[33;21mWARNING:puma: Your rejection is infinity -> setting it to np.nan.\u001b[0m\n",
      "\u001b[33;21mWARNING:puma: Your rejection is infinity -> setting it to np.nan.\u001b[0m\n",
      "\u001b[33;21mWARNING:puma: Your rejection is infinity -> setting it to np.nan.\u001b[0m\n",
      "\u001b[33;21mWARNING:puma: Your rejection is infinity -> setting it to np.nan.\u001b[0m\n",
      "\u001b[33;21mWARNING:puma: Your rejection is infinity -> setting it to np.nan.\u001b[0m\n",
      "\u001b[33;21mWARNING:puma: Your rejection is infinity -> setting it to np.nan.\u001b[0m\n",
      "\u001b[33;21mWARNING:puma: Your rejection is infinity -> setting it to np.nan.\u001b[0m\n",
      "\u001b[33;21mWARNING:puma: Your rejection is infinity -> setting it to np.nan.\u001b[0m\n",
      "\u001b[33;21mWARNING:puma: Your rejection is infinity -> setting it to np.nan.\u001b[0m\n",
      "\u001b[33;21mWARNING:puma: Your rejection is infinity -> setting it to np.nan.\u001b[0m\n",
      "\u001b[33;21mWARNING:puma: Your rejection is infinity -> setting it to np.nan.\u001b[0m\n",
      "\u001b[33;21mWARNING:puma: Your rejection is infinity -> setting it to np.nan.\u001b[0m\n"
     ]
    },
    {
     "name": "stdout",
     "output_type": "stream",
     "text": [
      "sum:  4 cut:  -1.268835872411728 arr:  [-4.6544805 -4.6376033 -4.6570754] len:  194\n",
      "sum:  0 cut:  -1.268835872411728 arr:  [-4.670549  -4.6701117 -4.670021 ] len:  70\n",
      "sum:  0 cut:  -1.268835872411728 arr:  [-4.3450484 -4.6676564 -4.672538 ] len:  58\n",
      "sum:  1 cut:  -1.268835872411728 arr:  [-4.674936  -4.683157  -4.6702995] len:  50\n",
      "sum:  0 cut:  -1.268835872411728 arr:  [-4.662219  -4.6840415 -4.704156 ] len:  30\n",
      "sum:  0 cut:  -1.268835872411728 arr:  [-4.701975 -3.24982  -4.692514] len:  20\n",
      "sum:  0 cut:  -1.268835872411728 arr:  [-4.6921587 -4.691023  -4.6927733] len:  10\n",
      "sum:  0 cut:  -1.268835872411728 arr:  [-4.6648817 -4.563949  -4.3688436] len:  5\n",
      "sum:  0 cut:  -1.268835872411728 arr:  [-3.5310621 -3.3742723 -4.6973805] len:  3\n",
      "sum:  4 cut:  -1.268835872411728 arr:  [-4.6544805 -4.6376033 -4.6570754] len:  194\n",
      "sum:  0 cut:  -1.268835872411728 arr:  [-4.670549  -4.6701117 -4.670021 ] len:  70\n",
      "sum:  0 cut:  -1.268835872411728 arr:  [-4.3450484 -4.6676564 -4.672538 ] len:  58\n",
      "sum:  1 cut:  -1.268835872411728 arr:  [-4.674936  -4.683157  -4.6702995] len:  50\n",
      "sum:  0 cut:  -1.268835872411728 arr:  [-4.662219  -4.6840415 -4.704156 ] len:  30\n",
      "sum:  0 cut:  -1.268835872411728 arr:  [-4.701975 -3.24982  -4.692514] len:  20\n",
      "sum:  0 cut:  -1.268835872411728 arr:  [-4.6921587 -4.691023  -4.6927733] len:  10\n",
      "sum:  0 cut:  -1.268835872411728 arr:  [-4.6648817 -4.563949  -4.3688436] len:  5\n",
      "sum:  0 cut:  -1.268835872411728 arr:  [-3.5310621 -3.3742723 -4.6973805] len:  3\n",
      "sum:  4 cut:  -1.268835872411728 arr:  [-4.6544805 -4.6376033 -4.6570754] len:  194\n",
      "sum:  0 cut:  -1.268835872411728 arr:  [-4.670549  -4.6701117 -4.670021 ] len:  70\n",
      "sum:  0 cut:  -1.268835872411728 arr:  [-4.3450484 -4.6676564 -4.672538 ] len:  58\n",
      "sum:  1 cut:  -1.268835872411728 arr:  [-4.674936  -4.683157  -4.6702995] len:  50\n",
      "sum:  0 cut:  -1.268835872411728 arr:  [-4.662219  -4.6840415 -4.704156 ] len:  30\n",
      "sum:  0 cut:  -1.268835872411728 arr:  [-4.701975 -3.24982  -4.692514] len:  20\n",
      "sum:  0 cut:  -1.268835872411728 arr:  [-4.6921587 -4.691023  -4.6927733] len:  10\n",
      "sum:  0 cut:  -1.268835872411728 arr:  [-4.6648817 -4.563949  -4.3688436] len:  5\n",
      "sum:  0 cut:  -1.268835872411728 arr:  [-3.5310621 -3.3742723 -4.6973805] len:  3\n"
     ]
    },
    {
     "name": "stderr",
     "output_type": "stream",
     "text": [
      "\u001b[32;21mINFO:puma: Plotting bkg rejection for inclusive efficiency as a function of pt.\u001b[0m\n",
      "\u001b[33;21mWARNING:puma: Your rejection is infinity -> setting it to np.nan.\u001b[0m\n",
      "\u001b[33;21mWARNING:puma: Your rejection is infinity -> setting it to np.nan.\u001b[0m\n",
      "\u001b[33;21mWARNING:puma: Your rejection is infinity -> setting it to np.nan.\u001b[0m\n",
      "\u001b[33;21mWARNING:puma: Your rejection is infinity -> setting it to np.nan.\u001b[0m\n",
      "\u001b[33;21mWARNING:puma: Your rejection is infinity -> setting it to np.nan.\u001b[0m\n",
      "\u001b[33;21mWARNING:puma: Your rejection is infinity -> setting it to np.nan.\u001b[0m\n",
      "\u001b[33;21mWARNING:puma: Your rejection is infinity -> setting it to np.nan.\u001b[0m\n",
      "\u001b[33;21mWARNING:puma: Your rejection is infinity -> setting it to np.nan.\u001b[0m\n",
      "\u001b[33;21mWARNING:puma: Your rejection is infinity -> setting it to np.nan.\u001b[0m\n",
      "\u001b[33;21mWARNING:puma: Your rejection is infinity -> setting it to np.nan.\u001b[0m\n",
      "\u001b[33;21mWARNING:puma: Your rejection is infinity -> setting it to np.nan.\u001b[0m\n",
      "\u001b[33;21mWARNING:puma: Your rejection is infinity -> setting it to np.nan.\u001b[0m\n",
      "\u001b[33;21mWARNING:puma: Your rejection is infinity -> setting it to np.nan.\u001b[0m\n",
      "\u001b[33;21mWARNING:puma: Your rejection is infinity -> setting it to np.nan.\u001b[0m\n",
      "\u001b[33;21mWARNING:puma: Your rejection is infinity -> setting it to np.nan.\u001b[0m\n",
      "\u001b[33;21mWARNING:puma: Your rejection is infinity -> setting it to np.nan.\u001b[0m\n",
      "\u001b[33;21mWARNING:puma: Your rejection is infinity -> setting it to np.nan.\u001b[0m\n",
      "\u001b[33;21mWARNING:puma: Your rejection is infinity -> setting it to np.nan.\u001b[0m\n",
      "\u001b[33;21mWARNING:puma: Your rejection is infinity -> setting it to np.nan.\u001b[0m\n",
      "\u001b[33;21mWARNING:puma: Your rejection is infinity -> setting it to np.nan.\u001b[0m\n",
      "\u001b[33;21mWARNING:puma: Your rejection is infinity -> setting it to np.nan.\u001b[0m\n",
      "\u001b[33;21mWARNING:puma: Your rejection is infinity -> setting it to np.nan.\u001b[0m\n",
      "\u001b[33;21mWARNING:puma: Your rejection is infinity -> setting it to np.nan.\u001b[0m\n",
      "\u001b[33;21mWARNING:puma: Your rejection is infinity -> setting it to np.nan.\u001b[0m\n",
      "\u001b[33;21mWARNING:puma: Your rejection is infinity -> setting it to np.nan.\u001b[0m\n",
      "\u001b[33;21mWARNING:puma: Your rejection is infinity -> setting it to np.nan.\u001b[0m\n",
      "\u001b[33;21mWARNING:puma: Your rejection is infinity -> setting it to np.nan.\u001b[0m\n"
     ]
    },
    {
     "name": "stdout",
     "output_type": "stream",
     "text": [
      "sum:  0 cut:  -0.4651409626007077 arr:  [-4.6183567 -4.619147  -4.620246 ] len:  431\n",
      "sum:  0 cut:  -0.4651409626007077 arr:  [-4.6224484 -4.626251  -4.633016 ] len:  148\n",
      "sum:  0 cut:  -0.4651409626007077 arr:  [-4.62044   -4.617892  -4.6194396] len:  97\n",
      "sum:  0 cut:  -0.4651409626007077 arr:  [-4.6336718 -4.630539  -4.6216936] len:  102\n",
      "sum:  0 cut:  -0.4651409626007077 arr:  [-4.634939 -4.631641 -4.629739] len:  50\n",
      "sum:  0 cut:  -0.4651409626007077 arr:  [-4.631637  -4.6281214 -4.6320424] len:  28\n",
      "sum:  0 cut:  -0.4651409626007077 arr:  [-4.617841 -4.632698 -4.630539] len:  16\n",
      "sum:  0 cut:  -0.4651409626007077 arr:  [-4.630462  -4.6241226 -4.5709977] len:  10\n",
      "sum:  0 cut:  -0.4651409626007077 arr:  [-4.632453  -4.220097  -4.6247215] len:  6\n",
      "sum:  0 cut:  -0.4651409626007077 arr:  [-4.6183567 -4.619147  -4.620246 ] len:  431\n",
      "sum:  0 cut:  -0.4651409626007077 arr:  [-4.6224484 -4.626251  -4.633016 ] len:  148\n",
      "sum:  0 cut:  -0.4651409626007077 arr:  [-4.62044   -4.617892  -4.6194396] len:  97\n",
      "sum:  0 cut:  -0.4651409626007077 arr:  [-4.6336718 -4.630539  -4.6216936] len:  102\n",
      "sum:  0 cut:  -0.4651409626007077 arr:  [-4.634939 -4.631641 -4.629739] len:  50\n",
      "sum:  0 cut:  -0.4651409626007077 arr:  [-4.631637  -4.6281214 -4.6320424] len:  28\n",
      "sum:  0 cut:  -0.4651409626007077 arr:  [-4.617841 -4.632698 -4.630539] len:  16\n",
      "sum:  0 cut:  -0.4651409626007077 arr:  [-4.630462  -4.6241226 -4.5709977] len:  10\n",
      "sum:  0 cut:  -0.4651409626007077 arr:  [-4.632453  -4.220097  -4.6247215] len:  6\n",
      "sum:  0 cut:  -0.4651409626007077 arr:  [-4.6183567 -4.619147  -4.620246 ] len:  431\n",
      "sum:  0 cut:  -0.4651409626007077 arr:  [-4.6224484 -4.626251  -4.633016 ] len:  148\n",
      "sum:  0 cut:  -0.4651409626007077 arr:  [-4.62044   -4.617892  -4.6194396] len:  97\n",
      "sum:  0 cut:  -0.4651409626007077 arr:  [-4.6336718 -4.630539  -4.6216936] len:  102\n",
      "sum:  0 cut:  -0.4651409626007077 arr:  [-4.634939 -4.631641 -4.629739] len:  50\n",
      "sum:  0 cut:  -0.4651409626007077 arr:  [-4.631637  -4.6281214 -4.6320424] len:  28\n",
      "sum:  0 cut:  -0.4651409626007077 arr:  [-4.617841 -4.632698 -4.630539] len:  16\n",
      "sum:  0 cut:  -0.4651409626007077 arr:  [-4.630462  -4.6241226 -4.5709977] len:  10\n",
      "sum:  0 cut:  -0.4651409626007077 arr:  [-4.632453  -4.220097  -4.6247215] len:  6\n"
     ]
    },
    {
     "data": {
      "image/png": "[encoded data removed]",
      "text/plain": [
       "<Figure size 640x480 with 1 Axes>"
      ]
     },
     "metadata": {},
     "output_type": "display_data"
    }
   ],
   "source": [
    "#for network in results.keys(): \n",
    "for p_num,sigi, eff, prong in prongness.values():\n",
    "    # if network == 'RNN':\n",
    "    #     continue\n",
    "    # define the curves\n",
    "    #print(network)\n",
    "    rnnip_light = VarVsEff(\n",
    "        x_var_sig=jet_pt[is_tau & rnn_mask & p_num & sigi],\n",
    "        disc_sig=results[\"RNN\"]['disc'][is_tau & rnn_mask & p_num & sigi],\n",
    "        x_var_bkg=jet_pt[is_bkg & rnn_mask & p_num],\n",
    "        disc_bkg=results[\"RNN\"]['disc'][is_bkg & rnn_mask & p_num],\n",
    "        bins=[100, 200, 300, 400, 500, 600, 700,800, 900,1000],\n",
    "        #bins=[20, 30, 40, 60, 85, 110, 140, 175, 250],\n",
    "        working_point=eff,\n",
    "        disc_cut=None,\n",
    "        fixed_eff_bin=False,\n",
    "        label=\"RNN\"\n",
    "        )\n",
    "        # dips_light = VarVsEff(\n",
    "        #     x_var_sig=jet_pt[is_tau & mask & p_num],\n",
    "        #     disc_sig= results[network]['disc'][is_tau & mask & p_num],\n",
    "        #     x_var_bkg=jet_pt[is_bkg & mask],\n",
    "        #     disc_bkg=results[network]['disc'][is_bkg & mask],\n",
    "        #     bins=[20, 30, 40, 60, 85, 110, 140, 175, 250],\n",
    "        #     working_point=eff,\n",
    "        #     disc_cut=None,\n",
    "        #     fixed_eff_bin=False,\n",
    "        #     label=network,\n",
    "        # )\n",
    "\n",
    "\n",
    "    logger.info(\"Plotting bkg rejection for inclusive efficiency as a function of pt.\")\n",
    "    # You can choose between different modes: \"sig_eff\", \"bkg_eff\", \"sig_rej\", \"bkg_rej\"\n",
    "    plot_bkg_rej = VarVsEffPlot(\n",
    "        mode=\"bkg_rej\",\n",
    "        ylabel=\"BKG-jets rejection\",\n",
    "        xlabel=r\"$p_{T}$ [GeV]\",\n",
    "        logy=False,\n",
    "        atlas_second_tag=\"$\\\\sqrt{s}=13$ TeV, $f_{c}=0.018, \" + \"prongs = {}\".format(prong),\n",
    "        n_ratio_panels=1,\n",
    "    )\n",
    "    plot_bkg_rej.add(rnnip_light, reference=True)\n",
    "#        plot_bkg_rej.add(dips_light)\n",
    "\n",
    "    plot_bkg_rej.draw()\n",
    "    plot_bkg_rej.savefig('p_only'+str(prong)+\"_BKG_rej.png\")\n",
    "\n",
    "    plot_sig_eff = VarVsEffPlot(\n",
    "        mode=\"sig_eff\",\n",
    "        ylabel=\"$Tau$-jets efficiency\",\n",
    "        xlabel=r\"$p_{T}$ [GeV]\",\n",
    "        logy=False,\n",
    "        atlas_second_tag=\"$\\\\sqrt{s}=13$ TeV, $f_{c}=0.018$, \" + 'prongs = {}'.format(prong) ,\n",
    "        n_ratio_panels=1,\n",
    "    )\n",
    "    plot_sig_eff.add(rnnip_light, reference=True)\n",
    "#    plot_sig_eff.add(dips_light)\n",
    "\n",
    "    plot_sig_eff.atlas_second_tag += \"\\nInclusive $\\\\epsilon_b={}%%$\".format(eff)\n",
    "\n",
    "    # If you want to inverse the discriminant cut you can enable it via\n",
    "    # plot_sig_eff.set_inverse_cut()\n",
    "    plot_sig_eff.draw()\n",
    "    # Drawing a hline indicating inclusive efficiency\n",
    "    plot_sig_eff.draw_hline(eff)\n",
    "    plot_sig_eff.savefig('p_only'+str(prong)+\"_tau_eff.png\", transparent=False)"
   ]
  },
  {
   "cell_type": "code",
   "execution_count": null,
   "metadata": {},
   "outputs": [],
   "source": [
    "plt.hist(jet_pt)"
   ]
  },
  {
   "cell_type": "code",
   "execution_count": null,
   "metadata": {},
   "outputs": [],
   "source": [
    "plt.hist(jet_pt[is_bkg & rnn_mask & (prongs==3)], bins = 30, log = True)"
   ]
  },
  {
   "cell_type": "code",
   "execution_count": null,
   "metadata": {},
   "outputs": [],
   "source": [
    "plt.hist(results['GN2Tau']['disc'][is_tau & mask & (prongs==3)], bins = 30, log = True)"
   ]
  },
  {
   "cell_type": "code",
   "execution_count": null,
   "metadata": {},
   "outputs": [],
   "source": []
  }
 ],
 "metadata": {
  "kernelspec": {
   "display_name": "Python 3",
   "language": "python",
   "name": "python3"
  },
  "language_info": {
   "codemirror_mode": {
    "name": "ipython",
    "version": 3
   },
   "file_extension": ".py",
   "mimetype": "text/x-python",
   "name": "python",
   "nbconvert_exporter": "python",
   "pygments_lexer": "ipython3",
   "version": "3.9.16"
  },
  "orig_nbformat": 4
 },
 "nbformat": 4,
 "nbformat_minor": 2
}
