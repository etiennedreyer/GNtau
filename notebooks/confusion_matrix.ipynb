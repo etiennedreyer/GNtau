{
 "cells": [
  {
   "cell_type": "code",
   "execution_count": 103,
   "metadata": {},
   "outputs": [],
   "source": [
    "import h5py\n",
    "import numpy as np\n",
    "import puma\n",
    "import matplotlib.pyplot as plt\n",
    "from puma import Histogram, HistogramPlot, Roc, RocPlot\n",
    "from puma.metrics import calc_rej\n",
    "from puma.utils import get_good_colours, get_good_linestyles, logger\n",
    "from sklearn import metrics\n",
    "from numpy.lib.recfunctions import structured_to_unstructured as s2u"
   ]
  },
  {
   "cell_type": "code",
   "execution_count": 104,
   "metadata": {},
   "outputs": [],
   "source": [
    "\n",
    "def disc_fct(arr: np.ndarray) -> np.ndarray:\n",
    "    \"\"\"Tagger discriminant\n",
    "\n",
    "    Parameters\n",
    "    ----------\n",
    "    arr : numpy.ndarray\n",
    "        array with with shape (, 2)\n",
    "\n",
    "    Returns\n",
    "    -------\n",
    "    np.ndarray\n",
    "        Array with the discriminant values inside.\n",
    "    \"\"\"\n",
    "    # you can adapt this for your needs\n",
    "    return np.log((arr[0] + 1e-10) / (arr[1] + 1e-10))\n"
   ]
  },
  {
   "cell_type": "code",
   "execution_count": 105,
   "metadata": {},
   "outputs": [],
   "source": [
    "test_path = '/storage/agrp/zivka/umami_Tau/UPP/umami-preprocessing/upp/output/pp_output_test.h5'\n",
    "#'/storage/agrp/dmitrykl/tauTag/upp/output/pp_output_test.h5'"
   ]
  },
  {
   "cell_type": "code",
   "execution_count": 106,
   "metadata": {},
   "outputs": [],
   "source": [
    "test_f1 = h5py.File(test_path, 'r')\n",
    "    "
   ]
  },
  {
   "cell_type": "code",
   "execution_count": 197,
   "metadata": {},
   "outputs": [],
   "source": [
    "jet_flav = test_f1['jets']['HadronConeExclTruthLabelID']\n",
    "is_tau = jet_flav == 5"
   ]
  },
  {
   "cell_type": "code",
   "execution_count": 198,
   "metadata": {},
   "outputs": [],
   "source": [
    "x = test_f1['tracks']['tauTruthProng']\n",
    "x = x[is_tau]"
   ]
  },
  {
   "cell_type": "code",
   "execution_count": 206,
   "metadata": {},
   "outputs": [],
   "source": [
    "sig_1_prong = np.isin(x, 1)\n",
    "sig_mask_1 = np.any(sig_1_prong, axis=1)\n",
    "sig_3_prong = np.isin(x, 3)\n",
    "sig_mask_3 = np.any(sig_3_prong, axis=1)"
   ]
  },
  {
   "cell_type": "code",
   "execution_count": 109,
   "metadata": {},
   "outputs": [],
   "source": [
    "filtered = [test_f1['tracks']['rnn_fakeScore'],test_f1['tracks']['rnn_chargedScore'],test_f1['tracks']['rnn_conversionScore'],test_f1['tracks']['rnn_isolationScore'],test_f1['tracks']['valid'],test_f1['tracks']['NewTruthType']]"
   ]
  },
  {
   "cell_type": "code",
   "execution_count": 110,
   "metadata": {},
   "outputs": [],
   "source": [
    "filtered = np.stack(filtered, axis=-1)"
   ]
  },
  {
   "cell_type": "code",
   "execution_count": 111,
   "metadata": {},
   "outputs": [],
   "source": [
    "filtered_tau = filtered[is_tau]\n",
    "track_scores = [filtered_tau[:,:,0], filtered_tau[:,:,1], filtered_tau[:,:,2], filtered_tau[:,:,3]]\n",
    "track_valids = filtered_tau[:,:,4]\n",
    "track_truth = filtered_tau[:,:,5]"
   ]
  },
  {
   "cell_type": "code",
   "execution_count": 57,
   "metadata": {},
   "outputs": [],
   "source": [
    "# track_scores = [test_f1['tracks']['rnn_fakeScore'], test_f1['tracks']['rnn_chargedScore'], test_f1['tracks']['rnn_isolationScore'], test_f1['tracks']['rnn_conversionScore']]\n",
    "# track_valids = test_f1['tracks']['valid']\n",
    "# track_truth = test_f1['tracks']['NewTruthType']"
   ]
  },
  {
   "cell_type": "code",
   "execution_count": 112,
   "metadata": {},
   "outputs": [],
   "source": [
    "track_valids = np.where(track_valids == 1, True, False)"
   ]
  },
  {
   "cell_type": "code",
   "execution_count": 113,
   "metadata": {},
   "outputs": [
    {
     "data": {
      "text/plain": [
       "(8828073,)"
      ]
     },
     "execution_count": 113,
     "metadata": {},
     "output_type": "execute_result"
    }
   ],
   "source": [
    "valid_truth = track_truth[track_valids]\n",
    "valid_truth[valid_truth == 6] = 0\n",
    "valid_truth[valid_truth == 5] = 0\n",
    "valid_truth[valid_truth == 4] = 0\n",
    "valid_truth.shape\n"
   ]
  },
  {
   "cell_type": "code",
   "execution_count": 114,
   "metadata": {},
   "outputs": [],
   "source": [
    "rnn_scores = np.stack([track_scores[0], track_scores[1], track_scores[2], track_scores[3]], axis=-1)"
   ]
  },
  {
   "cell_type": "code",
   "execution_count": 115,
   "metadata": {},
   "outputs": [],
   "source": [
    "f = np.argmax(rnn_scores[track_valids], axis=-1)"
   ]
  },
  {
   "cell_type": "code",
   "execution_count": 116,
   "metadata": {},
   "outputs": [],
   "source": [
    "f = np.where(f != 0,f, 00) # 0 --> 00\n",
    "f = np.where(f != 1,f, 10) # 1 --> 10\n",
    "f = np.where(f != 2,f, 20) # 2 --> 20\n",
    "f = np.where(f != 3,f, 30) # 3 --> 30"
   ]
  },
  {
   "cell_type": "code",
   "execution_count": 117,
   "metadata": {},
   "outputs": [],
   "source": [
    "f = np.where(f == 00,3, f) # 00 --> 3\n",
    "f = np.where(f == 10 ,0, f) # 10 --> 0\n",
    "f = np.where(f == 20 ,1, f) # 20 --> 1\n",
    "f = np.where(f == 30 ,2, f) # 30 --> 2"
   ]
  },
  {
   "cell_type": "code",
   "execution_count": 118,
   "metadata": {},
   "outputs": [
    {
     "data": {
      "text/plain": [
       "array([0, 1, 1, ..., 3, 3, 3])"
      ]
     },
     "execution_count": 118,
     "metadata": {},
     "output_type": "execute_result"
    }
   ],
   "source": [
    "f"
   ]
  },
  {
   "cell_type": "code",
   "execution_count": 119,
   "metadata": {},
   "outputs": [],
   "source": [
    "valid_truth = np.where(valid_truth != 0,valid_truth, 00) # 0 --> 00\n",
    "valid_truth = np.where(valid_truth != 1,valid_truth, 10) # 1 --> 10\n",
    "valid_truth = np.where(valid_truth != 2,valid_truth, 20) # 2 --> 20\n",
    "valid_truth = np.where(valid_truth != 3,valid_truth, 30) # 3 --> 30\n"
   ]
  },
  {
   "cell_type": "code",
   "execution_count": 120,
   "metadata": {},
   "outputs": [],
   "source": [
    "valid_truth = np.where(valid_truth == 00,3, valid_truth) # 00 --> 3\n",
    "valid_truth = np.where(valid_truth == 10 ,0, valid_truth) # 10 --> 0\n",
    "valid_truth = np.where(valid_truth == 20 ,1, valid_truth) # 20 --> 1\n",
    "valid_truth = np.where(valid_truth == 30 ,2, valid_truth) # 30 --> 2"
   ]
  },
  {
   "cell_type": "code",
   "execution_count": 121,
   "metadata": {},
   "outputs": [
    {
     "data": {
      "text/plain": [
       "Text(0.5, 1.0, 'inclusive (only tau)')"
      ]
     },
     "execution_count": 121,
     "metadata": {},
     "output_type": "execute_result"
    },
    {
     "data": {
      "image/png": "[encoded data removed]",
      "text/plain": [
       "<Figure size 640x480 with 2 Axes>"
      ]
     },
     "metadata": {},
     "output_type": "display_data"
    }
   ],
   "source": [
    "confusion_matrix = metrics.confusion_matrix(valid_truth, f, normalize='true')\n",
    "#switched_conf_matrix = switch_axes(confusion_matrix)\n",
    "cm_display = metrics.ConfusionMatrixDisplay(confusion_matrix = confusion_matrix,display_labels=['TT', 'CT', 'IT', 'FT'])\n",
    "\n",
    "cm_display.plot()\n",
    "plt.title('inclusive (only tau)')"
   ]
  },
  {
   "cell_type": "code",
   "execution_count": null,
   "metadata": {},
   "outputs": [],
   "source": [
    "# confusion_matrix = metrics.confusion_matrix(valid_truth, np.argmax(rnn_scores[track_valids], axis=-1), normalize='true')\n",
    "# #switched_conf_matrix = switch_axes(confusion_matrix)\n",
    "# cm_display = metrics.ConfusionMatrixDisplay(confusion_matrix = confusion_matrix,display_labels=['FT', 'TT', 'CT', 'IT'])\n",
    "\n",
    "# cm_display.plot()\n",
    "# plt.title('inclusive')\n",
    "# plt.show()"
   ]
  },
  {
   "cell_type": "code",
   "execution_count": null,
   "metadata": {},
   "outputs": [],
   "source": [
    "# filtered3 = np.stack(filtered3, axis=-1)\n",
    "# filtered_tau3 = filtered3[is_tau]\n",
    "# track_scores3 = [filtered_tau3[:,:,0], filtered_tau3[:,:,1], filtered_tau3[:,:,2], filtered_tau3[:,:,3]]\n",
    "# track_valids3 = filtered_tau3[:,:,4]\n",
    "# track_truth3 = filtered_tau3[:,:,5]\n",
    "# track_prong = filtered_tau3[:,:,6]"
   ]
  },
  {
   "cell_type": "code",
   "execution_count": 164,
   "metadata": {},
   "outputs": [],
   "source": [
    "three_prong_jet_mask = [ np.sum(track_true_labels == 1) == 3  for track_true_labels in track_truth] "
   ]
  },
  {
   "cell_type": "code",
   "execution_count": 165,
   "metadata": {},
   "outputs": [
    {
     "name": "stderr",
     "output_type": "stream",
     "text": [
      "/tmp/ipykernel_89008/3278942670.py:1: DeprecationWarning: Calling np.sum(generator) is deprecated, and in the future will give a different result. Use np.sum(np.fromiter(generator)) or the python sum builtin instead.\n",
      "  np.sum(l == True for l in three_prong_jet_mask)\n"
     ]
    },
    {
     "data": {
      "text/plain": [
       "144078"
      ]
     },
     "execution_count": 165,
     "metadata": {},
     "output_type": "execute_result"
    }
   ],
   "source": [
    "np.sum(l == True for l in three_prong_jet_mask)"
   ]
  },
  {
   "cell_type": "code",
   "execution_count": 208,
   "metadata": {},
   "outputs": [],
   "source": [
    "three_prong_jet_mask = np.array(three_prong_jet_mask)"
   ]
  },
  {
   "cell_type": "code",
   "execution_count": 209,
   "metadata": {},
   "outputs": [],
   "source": [
    "# filtered_data = [test_f1['tracks']['rnn_fakeScore'],test_f1['tracks']['rnn_chargedScore'],test_f1['tracks']['rnn_conversionScore'],test_f1['tracks']['rnn_isolationScore'],test_f1['tracks']['valid'],test_f1['tracks']['NewTruthType']]"
   ]
  },
  {
   "cell_type": "code",
   "execution_count": 210,
   "metadata": {},
   "outputs": [],
   "source": [
    "# filtered_data = np.stack(filtered_data, axis=-1)"
   ]
  },
  {
   "cell_type": "code",
   "execution_count": 211,
   "metadata": {},
   "outputs": [
    {
     "data": {
      "text/plain": [
       "(900000,)"
      ]
     },
     "execution_count": 211,
     "metadata": {},
     "output_type": "execute_result"
    }
   ],
   "source": [
    "three_prong_jet_mask.shape"
   ]
  },
  {
   "cell_type": "code",
   "execution_count": 188,
   "metadata": {},
   "outputs": [
    {
     "data": {
      "text/plain": [
       "(900000,)"
      ]
     },
     "execution_count": 188,
     "metadata": {},
     "output_type": "execute_result"
    }
   ],
   "source": [
    "(three_prong_jet_mask & sig_mask_3).shape"
   ]
  },
  {
   "cell_type": "code",
   "execution_count": 212,
   "metadata": {},
   "outputs": [],
   "source": [
    "filtered_3_prongs = filtered_tau[three_prong_jet_mask & sig_mask_3]"
   ]
  },
  {
   "cell_type": "code",
   "execution_count": 190,
   "metadata": {},
   "outputs": [
    {
     "data": {
      "text/plain": [
       "(144078, 30, 6)"
      ]
     },
     "execution_count": 190,
     "metadata": {},
     "output_type": "execute_result"
    }
   ],
   "source": [
    "filtered_3_prongs.shape"
   ]
  },
  {
   "cell_type": "code",
   "execution_count": 214,
   "metadata": {},
   "outputs": [],
   "source": [
    "track_scores3 = [filtered_3_prongs[:,:,0], filtered_3_prongs[:,:,1], filtered_3_prongs[:,:,2], filtered_3_prongs[:,:,3]]\n",
    "track_valid3 = filtered_3_prongs[:,:,4]\n",
    "track_truth3 = filtered_3_prongs[:,:,5]"
   ]
  },
  {
   "cell_type": "code",
   "execution_count": 215,
   "metadata": {},
   "outputs": [],
   "source": [
    "#filtered_3_prongs = test_f1['tracks'][three_prong_jet_mask,:]"
   ]
  },
  {
   "cell_type": "code",
   "execution_count": 216,
   "metadata": {},
   "outputs": [],
   "source": [
    "track_valid3 = np.where(track_valid3 == 1, True, False)"
   ]
  },
  {
   "cell_type": "code",
   "execution_count": 217,
   "metadata": {},
   "outputs": [
    {
     "data": {
      "text/plain": [
       "(1503516,)"
      ]
     },
     "execution_count": 217,
     "metadata": {},
     "output_type": "execute_result"
    }
   ],
   "source": [
    "valid_truth3 = track_truth3[track_valid3]\n",
    "valid_truth3[valid_truth3 == 6] = 0\n",
    "valid_truth3[valid_truth3 == 5] = 0\n",
    "valid_truth3[valid_truth3 == 4] = 0\n",
    "valid_truth3.shape"
   ]
  },
  {
   "cell_type": "code",
   "execution_count": 218,
   "metadata": {},
   "outputs": [],
   "source": [
    "rnn_scores3 = np.stack([track_scores3[0], track_scores3[1], track_scores3[2], track_scores3[3]], axis=-1)"
   ]
  },
  {
   "cell_type": "code",
   "execution_count": 219,
   "metadata": {},
   "outputs": [],
   "source": [
    "f3 = np.argmax(rnn_scores3[track_valid3], axis = -1)"
   ]
  },
  {
   "cell_type": "code",
   "execution_count": 220,
   "metadata": {},
   "outputs": [],
   "source": [
    "f3 = np.where(f3 != 0,f3, 00) # 0 --> 00\n",
    "f3 = np.where(f3 != 1,f3, 10) # 1 --> 10\n",
    "f3 = np.where(f3 != 2,f3, 20) # 2 --> 20\n",
    "f3 = np.where(f3 != 3,f3, 30) # 3 --> 30"
   ]
  },
  {
   "cell_type": "code",
   "execution_count": 221,
   "metadata": {},
   "outputs": [],
   "source": [
    "f3 = np.where(f3 == 00,3, f3) # 00 --> 3\n",
    "f3 = np.where(f3 == 10 ,0, f3) # 10 --> 0\n",
    "f3 = np.where(f3 == 20 ,1, f3) # 20 --> 1\n",
    "f3 = np.where(f3 == 30 ,2, f3) # 30 --> 2"
   ]
  },
  {
   "cell_type": "code",
   "execution_count": 222,
   "metadata": {},
   "outputs": [],
   "source": [
    "valid_truth3 = np.where(valid_truth3 != 0,valid_truth3, 00) # 0 --> 00\n",
    "valid_truth3 = np.where(valid_truth3 != 1,valid_truth3, 10) # 1 --> 10\n",
    "valid_truth3 = np.where(valid_truth3 != 2,valid_truth3, 20) # 2 --> 20\n",
    "valid_truth3 = np.where(valid_truth3 != 3,valid_truth3, 30) # 3 --> 30"
   ]
  },
  {
   "cell_type": "code",
   "execution_count": 223,
   "metadata": {},
   "outputs": [],
   "source": [
    "valid_truth3 = np.where(valid_truth3 == 00,3, valid_truth3) # 00 --> 3\n",
    "valid_truth3 = np.where(valid_truth3 == 10 ,0, valid_truth3) # 10 --> 0\n",
    "valid_truth3 = np.where(valid_truth3 == 20 ,1, valid_truth3) # 20 --> 1\n",
    "valid_truth3 = np.where(valid_truth3 == 30 ,2, valid_truth3) # 30 --> 2"
   ]
  },
  {
   "cell_type": "code",
   "execution_count": 224,
   "metadata": {},
   "outputs": [
    {
     "data": {
      "image/png": "[encoded data removed]",
      "text/plain": [
       "<Figure size 640x480 with 2 Axes>"
      ]
     },
     "metadata": {},
     "output_type": "display_data"
    }
   ],
   "source": [
    "confusion_matrix = metrics.confusion_matrix(valid_truth3, f3, normalize='true')\n",
    "\n",
    "cm_display = metrics.ConfusionMatrixDisplay(confusion_matrix = confusion_matrix, display_labels=['TT', 'CT', 'IT', 'FT'])\n",
    "\n",
    "cm_display.plot()\n",
    "plt.title('inclusive (signal only) 3 prong')\n",
    "plt.show()"
   ]
  },
  {
   "cell_type": "code",
   "execution_count": 97,
   "metadata": {},
   "outputs": [
    {
     "data": {
      "text/plain": [
       "(1800000,)"
      ]
     },
     "execution_count": 97,
     "metadata": {},
     "output_type": "execute_result"
    }
   ],
   "source": [
    "sig_mask_1.shape"
   ]
  },
  {
   "cell_type": "code",
   "execution_count": 225,
   "metadata": {},
   "outputs": [],
   "source": [
    "one_prong_jet_mask = [np.sum(track_true_labels == 1) == 1  for track_true_labels in track_truth]"
   ]
  },
  {
   "cell_type": "code",
   "execution_count": 226,
   "metadata": {},
   "outputs": [
    {
     "name": "stderr",
     "output_type": "stream",
     "text": [
      "/tmp/ipykernel_89008/3261831915.py:1: DeprecationWarning: Calling np.sum(generator) is deprecated, and in the future will give a different result. Use np.sum(np.fromiter(generator)) or the python sum builtin instead.\n",
      "  np.sum(l == True for l in one_prong_jet_mask)\n"
     ]
    },
    {
     "data": {
      "text/plain": [
       "621646"
      ]
     },
     "execution_count": 226,
     "metadata": {},
     "output_type": "execute_result"
    }
   ],
   "source": [
    "np.sum(l == True for l in one_prong_jet_mask)"
   ]
  },
  {
   "cell_type": "code",
   "execution_count": 227,
   "metadata": {},
   "outputs": [],
   "source": [
    "one_prong_jet_mask = np.array(one_prong_jet_mask)"
   ]
  },
  {
   "cell_type": "code",
   "execution_count": 228,
   "metadata": {},
   "outputs": [],
   "source": [
    "filtered_1_prongs = filtered_tau[one_prong_jet_mask & sig_mask_1]"
   ]
  },
  {
   "cell_type": "code",
   "execution_count": 229,
   "metadata": {},
   "outputs": [],
   "source": [
    "track_scores1 = [filtered_1_prongs[:,:,0], filtered_1_prongs[:,:,1], filtered_1_prongs[:,:,2], filtered_1_prongs[:,:,3]]\n",
    "track_valid1 = filtered_1_prongs[:,:,4]\n",
    "track_truth1 = filtered_1_prongs[:,:,5]"
   ]
  },
  {
   "cell_type": "code",
   "execution_count": 230,
   "metadata": {},
   "outputs": [],
   "source": [
    "track_valid1 = np.where(track_valid1 == 1, True, False)"
   ]
  },
  {
   "cell_type": "code",
   "execution_count": 231,
   "metadata": {},
   "outputs": [
    {
     "data": {
      "text/plain": [
       "(5792918,)"
      ]
     },
     "execution_count": 231,
     "metadata": {},
     "output_type": "execute_result"
    }
   ],
   "source": [
    "valid_truth1 = track_truth1[track_valid1]\n",
    "valid_truth1[valid_truth1 == 6] = 0\n",
    "valid_truth1[valid_truth1 == 5] = 0\n",
    "valid_truth1[valid_truth1 == 4] = 0\n",
    "valid_truth1.shape"
   ]
  },
  {
   "cell_type": "code",
   "execution_count": 232,
   "metadata": {},
   "outputs": [],
   "source": [
    "rnn_scores1 = np.stack([track_scores1[0], track_scores1[1], track_scores1[2], track_scores1[3]], axis=-1)\n"
   ]
  },
  {
   "cell_type": "code",
   "execution_count": 233,
   "metadata": {},
   "outputs": [],
   "source": [
    "f1 = np.argmax(rnn_scores1[track_valid1], axis = -1)"
   ]
  },
  {
   "cell_type": "code",
   "execution_count": 234,
   "metadata": {},
   "outputs": [],
   "source": [
    "f1 = np.where(f1 != 0,f1, 00) # 0 --> 00\n",
    "f1 = np.where(f1 != 1,f1, 10) # 1 --> 10\n",
    "f1 = np.where(f1 != 2,f1, 20) # 2 --> 20\n",
    "f1 = np.where(f1 != 3,f1, 30) # 3 --> 30\n"
   ]
  },
  {
   "cell_type": "code",
   "execution_count": 235,
   "metadata": {},
   "outputs": [],
   "source": [
    "f1 = np.where(f1 == 00,3, f1) # 00 --> 3\n",
    "f1 = np.where(f1 == 10 ,0, f1) # 10 --> 0\n",
    "f1 = np.where(f1 == 20 ,1, f1) # 20 --> 1\n",
    "f1 = np.where(f1 == 30 ,2, f1) # 30 --> 2"
   ]
  },
  {
   "cell_type": "code",
   "execution_count": 236,
   "metadata": {},
   "outputs": [],
   "source": [
    "\n",
    "valid_truth1 = np.where(valid_truth1 != 0,valid_truth1, 00) # 0 --> 00\n",
    "valid_truth1 = np.where(valid_truth1 != 1,valid_truth1, 10) # 1 --> 10\n",
    "valid_truth1 = np.where(valid_truth1 != 2,valid_truth1, 20) # 2 --> 20\n",
    "valid_truth1 = np.where(valid_truth1 != 3,valid_truth1, 30) # 3 --> 30\n"
   ]
  },
  {
   "cell_type": "code",
   "execution_count": 237,
   "metadata": {},
   "outputs": [],
   "source": [
    "valid_truth1 = np.where(valid_truth1 == 00,3, valid_truth1) # 00 --> 3\n",
    "valid_truth1 = np.where(valid_truth1 == 10 ,0, valid_truth1) # 10 --> 0\n",
    "valid_truth1 = np.where(valid_truth1 == 20 ,1, valid_truth1) # 20 --> 1\n",
    "valid_truth1 = np.where(valid_truth1 == 30 ,2, valid_truth1) # 30 --> 2"
   ]
  },
  {
   "cell_type": "code",
   "execution_count": 238,
   "metadata": {},
   "outputs": [
    {
     "data": {
      "image/png": "[encoded data removed]",
      "text/plain": [
       "<Figure size 640x480 with 2 Axes>"
      ]
     },
     "metadata": {},
     "output_type": "display_data"
    }
   ],
   "source": [
    "confusion_matrix = metrics.confusion_matrix(valid_truth1, f1, normalize='true')\n",
    "\n",
    "cm_display = metrics.ConfusionMatrixDisplay(confusion_matrix = confusion_matrix, display_labels=['TT', 'CT', 'IT', 'FT'])\n",
    "\n",
    "cm_display.plot()\n",
    "plt.title('inclusive (signal only) 1 prong')\n",
    "plt.show()"
   ]
  },
  {
   "cell_type": "code",
   "execution_count": null,
   "metadata": {},
   "outputs": [],
   "source": []
  }
 ],
 "metadata": {
  "kernelspec": {
   "display_name": "salt",
   "language": "python",
   "name": "python3"
  },
  "language_info": {
   "codemirror_mode": {
    "name": "ipython",
    "version": 3
   },
   "file_extension": ".py",
   "mimetype": "text/x-python",
   "name": "python",
   "nbconvert_exporter": "python",
   "pygments_lexer": "ipython3",
   "version": "3.10.9"
  },
  "orig_nbformat": 4
 },
 "nbformat": 4,
 "nbformat_minor": 2
}
