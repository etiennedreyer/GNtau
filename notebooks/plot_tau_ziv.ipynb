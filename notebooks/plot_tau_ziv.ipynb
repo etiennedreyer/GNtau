{
 "cells": [
  {
   "cell_type": "code",
   "execution_count": 1,
   "metadata": {},
   "outputs": [],
   "source": [
    "import h5py\n",
    "import numpy as np\n",
    "import puma\n",
    "import matplotlib.pyplot as plt\n",
    "from puma import Histogram, HistogramPlot, Roc, RocPlot\n",
    "from puma.metrics import calc_rej\n",
    "from puma.utils import get_good_colours, get_good_linestyles, logger\n",
    "from sklearn import metrics\n",
    "from numpy.lib.recfunctions import structured_to_unstructured as s2u"
   ]
  },
  {
   "cell_type": "code",
   "execution_count": 2,
   "metadata": {},
   "outputs": [],
   "source": [
    "plt.rcParams.update({\n",
    "    \"figure.facecolor\":  \"w\", \n",
    "    \"axes.facecolor\":    \"w\", \n",
    "    \"savefig.facecolor\": \"w\", \n",
    "})"
   ]
  },
  {
   "cell_type": "code",
   "execution_count": 3,
   "metadata": {},
   "outputs": [],
   "source": [
    "%load_ext autoreload\n",
    "%autoreload 2"
   ]
  },
  {
   "cell_type": "code",
   "execution_count": 4,
   "metadata": {},
   "outputs": [],
   "source": [
    "sig_eff_min = 0.2 #0.4\n",
    "sig_eff = np.linspace(sig_eff_min, 1.0, 100)\n",
    "# if sig_eff_min < 0.2 and key != 'RNN':\n",
    "#     sig_eff = np.linspace(0.2, 1, 20)"
   ]
  },
  {
   "cell_type": "code",
   "execution_count": 5,
   "metadata": {},
   "outputs": [
    {
     "data": {
      "text/plain": [
       "array([0.2       , 0.20808081, 0.21616162, 0.22424242, 0.23232323,\n",
       "       0.24040404, 0.24848485, 0.25656566, 0.26464646, 0.27272727,\n",
       "       0.28080808, 0.28888889, 0.2969697 , 0.30505051, 0.31313131,\n",
       "       0.32121212, 0.32929293, 0.33737374, 0.34545455, 0.35353535,\n",
       "       0.36161616, 0.36969697, 0.37777778, 0.38585859, 0.39393939,\n",
       "       0.4020202 , 0.41010101, 0.41818182, 0.42626263, 0.43434343,\n",
       "       0.44242424, 0.45050505, 0.45858586, 0.46666667, 0.47474747,\n",
       "       0.48282828, 0.49090909, 0.4989899 , 0.50707071, 0.51515152,\n",
       "       0.52323232, 0.53131313, 0.53939394, 0.54747475, 0.55555556,\n",
       "       0.56363636, 0.57171717, 0.57979798, 0.58787879, 0.5959596 ,\n",
       "       0.6040404 , 0.61212121, 0.62020202, 0.62828283, 0.63636364,\n",
       "       0.64444444, 0.65252525, 0.66060606, 0.66868687, 0.67676768,\n",
       "       0.68484848, 0.69292929, 0.7010101 , 0.70909091, 0.71717172,\n",
       "       0.72525253, 0.73333333, 0.74141414, 0.74949495, 0.75757576,\n",
       "       0.76565657, 0.77373737, 0.78181818, 0.78989899, 0.7979798 ,\n",
       "       0.80606061, 0.81414141, 0.82222222, 0.83030303, 0.83838384,\n",
       "       0.84646465, 0.85454545, 0.86262626, 0.87070707, 0.87878788,\n",
       "       0.88686869, 0.89494949, 0.9030303 , 0.91111111, 0.91919192,\n",
       "       0.92727273, 0.93535354, 0.94343434, 0.95151515, 0.95959596,\n",
       "       0.96767677, 0.97575758, 0.98383838, 0.99191919, 1.        ])"
      ]
     },
     "execution_count": 5,
     "metadata": {},
     "output_type": "execute_result"
    }
   ],
   "source": [
    "sig_eff"
   ]
  },
  {
   "cell_type": "code",
   "execution_count": 12,
   "metadata": {},
   "outputs": [],
   "source": [
    "networks = {\n",
    "    # \"GN1Tau\" : \"logs/GN1_tau_20230215-T172736/ckpts/epoch=021-val_loss=0.31938__test_ttbar.h5\"\n",
    "    # 'GN1Tau': \"logs/GN1_tau_20230321-T145044/ckpts/epoch=018-val_loss=0.08698__test_inclusive_testing_ttbar_PFlow.h5\"\n",
    "    # 'GN1Tau' : \"logs/GN1_tau_20230325-T210222/ckpts/epoch=023-val_loss=0.07746__test_inclusive_testing_ttbar_PFlow.h5\"\n",
    "    #  'GN2TauA': 'logs/GN2TauA_20230820-T185727/ckpts/epoch=009-val_loss=0.04711__test_pp_output_test.h5' ,\n",
    "    #  \"GN2TauJ\" : \"logs/GN2TauJ_20230713-T111312/ckpts/epoch=010-val_loss=0.05086__test_pp_output_test.h5\" ,\n",
    "    #  \"GN2TauC\" : \"logs/GN2TauC_20230713-T151458/ckpts/epoch=011-val_loss=0.05114__test_pp_output_test.h5\" ,\n",
    "    #  \"GN2Tau\" : \"logs/GN2Tau_20230726-T175600/ckpts/epoch=008-val_loss=0.05920__test_pp_output_test.h5\"\n",
    "    #\"GN2Tau\" : \"logs/GN2Tau_20230508-T191218/ckpts/epoch=021-val_loss=0.07711__test_PFlow.h5\"\n",
    "    # \"GN1Tau\" : \"/storage/agrp/zivka/salt/run/logs/GN1_tau_20230226-T104411/ckpts/epoch=028-val_loss=0.28814__test_inclusive_testing_ttbar_PFlow.h5\",\n",
    "    # \"GN1Tau + Aux\" : \"logs/GN1_tau_20230218-T231137/ckpts/epoch=028-val_loss=0.28814__test_ttbar.h5\"\n",
    "    #\"GN2TauA\": \"/storage/agrp/dreyet/GNtau/salt/logs/GN2TauA_20230918-T144357/ckpts/epoch=012-val_loss=0.05973__test_pp_output_test.h5\"\n",
    "    #\"GNTau_noAux\": \"/storage/agrp/dreyet/GNtau/salt/logs/GN2Tau_noAux_20230920-T112330/ckpts/epoch=028-val_loss=0.06778__test_pp_output_test.h5\",\n",
    "    #\"GNTauA\": \"/storage/agrp/dreyet/GNtau/salt/logs/GN2TauA_20230918-T144357/ckpts/epoch=017-val_loss=0.05848__test_pp_output_test.h5\",\n",
    "    \"GN2TauA_trkClsWgt_noRNN\": \"/storage/agrp/dreyet/GNtau/salt/logs/GN2TauA_trkClsWgt_noRNN_20230927-T145302/ckpts/epoch=031-val_loss=0.05314__test_pp_output_test.h5\",\n",
    "    \"GN2TauA_trkClsWgt_noRNN_noAux\": \"/storage/agrp/dreyet/GNtau/salt/logs/GN2TauA_trkClsWgt_noRNN_noAux_20230927-T200138/ckpts/epoch=037-val_loss=0.06664__test_pp_output_test.h5\",\n",
    "    #\"GN2TauA_trkClsWgt\": \"/storage/agrp/dreyet/GNtau/salt/logs/GN2TauA_trkClsWgt_20230924-T171327/ckpts/epoch=019-val_loss=0.05785__test_pp_output_test.h5\",\n",
    "    #\"GN2Tau_noAux\": \"/storage/agrp/dreyet/GNtau/salt/logs/GN2Tau_noAux_20230922-T110104/ckpts/epoch=042-val_loss=0.06758__test_pp_output_test.h5\",\n",
    "}"
   ]
  },
  {
   "cell_type": "code",
   "execution_count": 7,
   "metadata": {},
   "outputs": [
    {
     "name": "stdout",
     "output_type": "stream",
     "text": [
      "[('beamSpotWeight', '<f4'), ('TruthType', '<f4'), ('NewTruthType', '<f4'), ('truthJetType', '<f4'), ('z0sinthetaSigTJVA', '<f4'), ('z0sinthetaTJVA', '<f4'), ('d0SigTJVA', '<f4'), ('d0TJVA', '<f4'), ('z0TJVA', '<f4'), ('dz0_TV_PV0', '<f4'), ('log_sumpt_TV', '<f4'), ('log_sumpt2_TV', '<f4'), ('log_sumpt_PV0', '<f4'), ('log_sumpt2_PV0', '<f4'), ('isLRT', '<f4'), ('jetSeedPt', '<f4'), ('jetSeedEta', '<f4'), ('jetSeedPhi', '<f4'), ('tauPt', '<f4'), ('tauEta', '<f4'), ('tauPhi', '<f4'), ('dEtaJetSeedAxis', '<f4'), ('dPhiJetSeedAxis', '<f4'), ('dRJetSeedAxis', '<f4'), ('tauPtIntermediateAxis', '<f4'), ('dRIntermediateAxis', '<f4'), ('tauPtDetectorAxis', '<f4'), ('dRDetectorAxis', '<f4'), ('rConv', '<f4'), ('rConvII', '<f4'), ('charge', '<f4'), ('tauTruthCharge', '<f4'), ('tauTruthProng', '<f4'), ('tauTruthDecayMode', '<f4'), ('truthParticleOrigin', '<f4'), ('truthParticleType', '<f4'), ('trackPt', '<f4'), ('trackEta', '<f4'), ('trackPhi', '<f4'), ('truthE', '<f4'), ('numberOfInnermostPixelLayerHits', '<f4'), ('numberOfPixelHits', '<f4'), ('numberOfPixelSharedHits', '<f4'), ('numberOfPixelDeadSensors', '<f4'), ('numberOfSCTHits', '<f4'), ('numberOfSCTSharedHits', '<f4'), ('numberOfSCTDeadSensors', '<f4'), ('numberOfTRTHighThresholdHits', '<f4'), ('numberOfTRTHits', '<f4'), ('nPixHits', '<f4'), ('nSCTHits', '<f4'), ('nSiHits', '<f4'), ('nIBLHitsAndExp', '<f4'), ('expectInnermostPixelLayerHit', '<f4'), ('expectNextToInnermostPixelLayerHit', '<f4'), ('numberOfContribPixelLayers', '<f4'), ('numberOfPixelHoles', '<f4'), ('numberOfSCTHoles', '<f4'), ('d0_old', '<f4'), ('qOverP', '<f4'), ('theta', '<f4'), ('rnn_chargedScore', '<f4'), ('rnn_isolationScore', '<f4'), ('rnn_conversionScore', '<f4'), ('rnn_fakeScore', '<f4'), ('valid', '?')]\n"
     ]
    },
    {
     "name": "stderr",
     "output_type": "stream",
     "text": [
      "\u001b[32;21mINFO:puma: Calculate rejection\u001b[0m\n"
     ]
    }
   ],
   "source": [
    "reference = \"RNN\"\n",
    "# reference  = 'GN2Tau'\n",
    "\n",
    "#test_path =  '/storage/agrp/zivka/umami_Tau/UPP/umami-preprocessing/upp/output/pp_output_test.h5'\n",
    "test_path =  '/storage/agrp/dreyet/GNtau/samples/v04/output/pp_output_test.h5'\n",
    "\n",
    "#test_path = '/storage/agrp/zivka/umami_Tau/UPP/umami-preprocessing/upp/output_1/pp_output_test.h5'\n",
    "#'/storage/agrp/dmitrykl/tauTag/upp/output/pp_output_test.h5'\n",
    "\n",
    "def disc_fct(arr: np.ndarray) -> np.ndarray:\n",
    "    \"\"\"Tagger discriminant\n",
    "\n",
    "    Parameters\n",
    "    ----------\n",
    "    arr : numpy.ndarray\n",
    "        array with with shape (, 2)\n",
    "\n",
    "    Returns\n",
    "    -------\n",
    "    np.ndarray\n",
    "        Array with the discriminant values inside.\n",
    "    \"\"\"\n",
    "    # you can adapt this for your needs\n",
    "    return np.log((arr[0] + 1e-10) / (arr[1] + 1e-10))\n",
    "\n",
    "with h5py.File(test_path, 'r') as test_f:\n",
    "    print(test_f['tracks'][0].dtype)\n",
    "    jet_pt = test_f['jets']['pt'] / 1000\n",
    "    jet_eta = test_f['jets']['absEta']\n",
    "    jet_flav = test_f['jets']['HadronConeExclTruthLabelID']\n",
    "    rnn_pTau = test_f['jets']['TAU_RNNJetScoreSigTrans'] #using Trans Score!!!\n",
    "    rnn_pBkg = 1 - test_f['jets']['TAU_RNNJetScoreSigTrans']\n",
    "    track_scores = [test_f['tracks']['rnn_fakeScore'], test_f['tracks']['rnn_chargedScore'], test_f['tracks']['rnn_isolationScore'], test_f['tracks']['rnn_conversionScore']]\n",
    "    #print(track_scores, '*')\n",
    "    track_valids = test_f['tracks']['valid']\n",
    "    #print(track_valids)\n",
    "    track_truth = test_f['tracks']['NewTruthType']\n",
    "    n_tracks = np.sum(track_valids, axis=-1)\n",
    "    #print(n_tracks)\n",
    "    prongs = np.sum(np.argmax(np.stack(track_scores,axis=-1), axis=-1)==1, axis=-1)\n",
    "    #print(prongs, '^')\n",
    "    # prongs = np.sum(track_truth == 1, axis=-1)\n",
    "    eta_mask = (jet_eta < 2.5) & ((jet_eta > 1.57) | (jet_eta < 1.37))\n",
    "    mask = (rnn_pTau >= 0) & (rnn_pBkg >= 0) & (jet_pt > 20) & eta_mask #& ((n_tracks == 1) | (n_tracks == 3))# & (jet_pt < 100)\n",
    "    is_tau = jet_flav == 5\n",
    "    is_bkg = jet_flav == 0\n",
    "    n_jets_bkg = np.sum(is_bkg & mask)\n",
    "    rnn_discs = rnn_pTau\n",
    "    #rnn_discs = disc_fct(np.row_stack([rnn_pTau, rnn_pBkg]))\n",
    "\n",
    "    x = test_f['tracks']['tauTruthProng']\n",
    "    sig_1_prong = np.isin(x, 1)\n",
    "    sig_mask_1 = np.any(sig_1_prong, axis=1)\n",
    "    sig_3_prong = np.isin(x, 3)\n",
    "    sig_mask_3 = np.any(sig_3_prong, axis=1)\n",
    "\n",
    "    # rnn_discs = rnn_pTau\n",
    "    logger.info(\"Calculate rejection\")\n",
    "    rnn_rej = calc_rej(rnn_discs[is_tau & mask], rnn_discs[is_bkg & mask], sig_eff)\n",
    "    rnn_rej_0 = calc_rej(rnn_discs[is_tau & mask], rnn_discs[is_bkg & mask & (prongs!=1) & (prongs!=3)], sig_eff)\n",
    "    # rnn_rej_1 = calc_rej(rnn_discs[is_tau & mask & (prongs==1)], rnn_discs[is_bkg & mask], sig_eff) ##without TauTruthProng mask\n",
    "    # rnn_rej_3 = calc_rej(rnn_discs[is_tau & mask & (prongs==3)], rnn_discs[is_bkg & mask], sig_eff) ##without TauTruthProng mask\n",
    "    rnn_rej_1 = calc_rej(rnn_discs[is_tau & mask & (prongs==1)& sig_mask_1], rnn_discs[is_bkg & mask & (prongs==1)], sig_eff)\n",
    "    rnn_rej_3 = calc_rej(rnn_discs[is_tau & mask & (prongs==3)& sig_mask_3], rnn_discs[is_bkg & mask & (prongs==3)], sig_eff)"
   ]
  },
  {
   "cell_type": "code",
   "execution_count": 13,
   "metadata": {},
   "outputs": [],
   "source": [
    "results = {}"
   ]
  },
  {
   "cell_type": "code",
   "execution_count": 14,
   "metadata": {},
   "outputs": [],
   "source": [
    "results[\"RNN\"] = {\n",
    "        'sig_eff' : sig_eff,\n",
    "        'disc' : rnn_discs,\n",
    "        'rej' : rnn_rej,\n",
    "        'rej_0' : rnn_rej_0,\n",
    "        'rej_1' : rnn_rej_1,\n",
    "        'rej_3' : rnn_rej_3,\n",
    "        'pTau' : rnn_pTau,\n",
    "        'pBkg' : rnn_pBkg,\n",
    "        'prongs' : prongs,\n",
    "    }"
   ]
  },
  {
   "cell_type": "code",
   "execution_count": 15,
   "metadata": {},
   "outputs": [
    {
     "data": {
      "text/plain": [
       "{'GN2TauA_trkClsWgt_noRNN': '/storage/agrp/dreyet/GNtau/salt/logs/GN2TauA_trkClsWgt_noRNN_20230927-T145302/ckpts/epoch=031-val_loss=0.05314__test_pp_output_test.h5',\n",
       " 'GN2TauA_trkClsWgt_noRNN_noAux': '/storage/agrp/dreyet/GNtau/salt/logs/GN2TauA_trkClsWgt_noRNN_noAux_20230927-T200138/ckpts/epoch=037-val_loss=0.06664__test_pp_output_test.h5'}"
      ]
     },
     "execution_count": 15,
     "metadata": {},
     "output_type": "execute_result"
    }
   ],
   "source": [
    "networks"
   ]
  },
  {
   "cell_type": "code",
   "execution_count": 16,
   "metadata": {},
   "outputs": [
    {
     "name": "stderr",
     "output_type": "stream",
     "text": [
      "\u001b[32;21mINFO:puma: Calculate discriminants and rejection\u001b[0m\n"
     ]
    },
    {
     "name": "stdout",
     "output_type": "stream",
     "text": [
      "GN2TauA_trkClsWgt_noRNN /storage/agrp/dreyet/GNtau/salt/logs/GN2TauA_trkClsWgt_noRNN_20230927-T145302/ckpts/epoch=031-val_loss=0.05314__test_pp_output_test.h5\n",
      "[('GN2TauA_trkClsWgt_noRNN_pu', '<f4'), ('GN2TauA_trkClsWgt_noRNN_pb', '<f4'), ('pt', '<f4'), ('absEta', '<f4'), ('HadronConeExclTruthLabelID', '<f4')]\n",
      "<HDF5 dataset \"jets\": shape (17400000,), type \"|V20\">\n"
     ]
    },
    {
     "name": "stderr",
     "output_type": "stream",
     "text": [
      "\u001b[32;21mINFO:puma: Calculate rejection\u001b[0m\n"
     ]
    },
    {
     "name": "stdout",
     "output_type": "stream",
     "text": [
      "GN2TauA_trkClsWgt_noRNN_noAux /storage/agrp/dreyet/GNtau/salt/logs/GN2TauA_trkClsWgt_noRNN_noAux_20230927-T200138/ckpts/epoch=037-val_loss=0.06664__test_pp_output_test.h5\n",
      "[('GN2TauA_trkClsWgt_noRNN_noAux_pu', '<f4'), ('GN2TauA_trkClsWgt_noRNN_noAux_pb', '<f4'), ('pt', '<f4'), ('absEta', '<f4'), ('HadronConeExclTruthLabelID', '<f4')]\n",
      "<HDF5 dataset \"jets\": shape (17400000,), type \"|V20\">\n"
     ]
    },
    {
     "name": "stderr",
     "output_type": "stream",
     "text": [
      "\u001b[32;21mINFO:puma: Calculate rejection\u001b[0m\n"
     ]
    }
   ],
   "source": [
    "logger.info(\"Calculate discriminants and rejection\")\n",
    "for key, val in networks.items():\n",
    "    print(key, val)\n",
    "    with h5py.File(val, 'r') as f:\n",
    "        #if key == 'GN2TauJ':\n",
    "            pt = f['jets']['pt'] / 1000\n",
    "            # tracks_pred = f['tracks'].fields(['0', '1', '2', '3', '4', '5', '6'])[:]\n",
    "            flav = f['jets']['HadronConeExclTruthLabelID']\n",
    "            is_tau = flav == 5\n",
    "            is_bkg = flav == 0\n",
    "            print(f['jets'][0].dtype)\n",
    "            if 'GN' in key:\n",
    "                print(f['jets'])\n",
    "                pTau = f['jets']['{}_pb'.format(key)]\n",
    "                pBkg = f['jets']['{}_pu'.format(key)]\n",
    "                discs = pTau\n",
    "                #discs = disc_fct(np.row_stack([pTau, pBkg])) #with log!!\n",
    "            # if key == 'GN2Tau' or key == 'GNtau':\n",
    "            #     pTau = f['jets']['GN2Tau_pb']\n",
    "            #     pBkg = f['jets']['GN2Tau_pu']\n",
    "            #     discs = pTau\n",
    "            #     #discs = disc_fct(np.row_stack([pTau, pBkg])) #with log!!\n",
    "            # if key == 'GNTauA':\n",
    "            #     pTau = f['jets']['GN2TauA_pb']\n",
    "            #     pBkg = f['jets']['GN2TauA_pu']\n",
    "            #     discs = pTau\n",
    "            #     #discs = disc_fct(np.row_stack([pTau, pBkg])) #with log!!\n",
    "            #     #print(discs, key)\n",
    "            # if key == 'GNTau_noAux' or key == 'GNtau_noAux':\n",
    "            #     pTau = f['jets']['GN2Tau_noAux_pb']\n",
    "            #     pBkg = f['jets']['GN2Tau_noAux_pu']\n",
    "            #     discs = pTau\n",
    "            #     #discs = disc_fct(np.row_stack([pTau, pBkg])) #with log!!\n",
    "            #     #print(discs, key)\n",
    "            # if key == 'GN2TauJ':\n",
    "            #     pTau = f['jets']['GN2TauJ_pb']\n",
    "            #     pBkg = f['jets']['GN2TauJ_pu']\n",
    "            #     discs = pTau\n",
    "            #     #discs = disc_fct(np.row_stack([pTau, pBkg]))\n",
    "            #     #print(discs, key)\n",
    "            # if key == 'GN2TauC':\n",
    "            #     pTau = f['jets']['GN2TauC_pb']\n",
    "            #     pBkg = f['jets']['GN2TauC_pu']\n",
    "            #     discs = pTau\n",
    "                #discs = disc_fct(np.row_stack([pTau, pBkg]))\n",
    "                #print(discs, key)\n",
    "            # # discs = pTau\n",
    "            # mask = (pt > 20) & (pt < 100)\n",
    "            # mask = (pt > 5)\n",
    "            #eta_mask = (jet_eta < 2.5) & ((jet_eta > 1.57) | (jet_eta < 1.37))\n",
    "            #mask = (pt > 20) & eta_mask #& ((n_tracks == 1) | (n_tracks == 3))# & (jet_pt < 100)\n",
    "            #sig_eff = np.linspace(sig_eff_min, 1, 20)\n",
    "            logger.info(\"Calculate rejection\")\n",
    "            rej = calc_rej(discs[is_tau & mask], discs[is_bkg & mask], sig_eff)\n",
    "            rej_0 = calc_rej(discs[is_tau & mask], discs[is_bkg & mask & (prongs!=1) & (prongs!=3)], sig_eff)\n",
    "            # rej_1 = calc_rej(discs[is_tau & mask & (prongs==1)], discs[is_bkg & mask], sig_eff)\n",
    "            # rej_3 = calc_rej(discs[is_tau & mask & (prongs==3)], discs[is_bkg & mask], sig_eff)\n",
    "            rej_1 = calc_rej(discs[is_tau & mask & (prongs==1) & sig_mask_1], discs[is_bkg & mask & (prongs==1)], sig_eff)\n",
    "            rej_3 = calc_rej(discs[is_tau & mask & (prongs==3) & sig_mask_3], discs[is_bkg & mask & (prongs==3)], sig_eff)\n",
    "            #print((mask & (jet_pt > 20) & is_bkg & (prongs == 3)).sum())\n",
    "            results[key] = {\n",
    "                    'sig_eff' : sig_eff,\n",
    "                    'disc' : discs,\n",
    "                    'rej' : rej,\n",
    "                    'rej_0' : rej_0,\n",
    "                    'rej_1' : rej_1,\n",
    "                    'rej_3' : rej_3,\n",
    "                    'pTau' : rnn_pTau,\n",
    "                    'pBkg' : rnn_pBkg,\n",
    "                }\n",
    "\n"
   ]
  },
  {
   "cell_type": "code",
   "execution_count": 17,
   "metadata": {},
   "outputs": [],
   "source": [
    "network_names = list(networks.keys())\n",
    "\n",
    "for network in network_names:\n",
    "    new_key = network.replace('GN2', 'GN')\n",
    "    new_key = new_key.replace('Tau', 'tau')\n",
    "    new_key = new_key.replace('auA', 'au')\n",
    "    new_key = new_key.replace('_trkClsWgt', '')\n",
    "    networks[new_key] = networks.pop(network)\n",
    "    results[new_key] = results.pop(network)"
   ]
  },
  {
   "cell_type": "code",
   "execution_count": null,
   "metadata": {},
   "outputs": [
    {
     "name": "stdout",
     "output_type": "stream",
     "text": [
      "[('TAU_centFrac', '<f4'), ('TAU_sumEMCellEtOverLeadTrkPt', '<f4'), ('TAU_dRmax', '<f4'), ('TAU_trFlightPathSig', '<f4'), ('TAU_etOverPtLeadTrk', '<f4'), ('TAU_ptRatioEflowApprox', '<f4'), ('TAU_mEflowApprox', '<f4'), ('TAU_massTrkSys', '<f4'), ('TAU_SumPtTrkFrac', '<f4'), ('TAU_EMPOverTrkSysP', '<f4'), ('TAU_isolFrac', '<f4'), ('TAU_RNNJetScore', '<f4'), ('TAU_RNNJetScoreSigTrans', '<f4'), ('HadronConeExclTruthLabelID', '<f4'), ('pt', '<f4'), ('absEta', '<f4'), ('eventNumber', '<f4'), ('flavour_label', '<i4')]\n"
     ]
    }
   ],
   "source": [
    "test_f = h5py.File(test_path, 'r')\n",
    "print(test_f['jets'][0].dtype)\n",
    "#jet_seed_pt = test_f['jets']['jetSeedPt']"
   ]
  },
  {
   "cell_type": "code",
   "execution_count": null,
   "metadata": {},
   "outputs": [],
   "source": [
    "x = test_f['tracks']['tauTruthProng']\n",
    "x = x[is_tau]\n",
    "x = x.flatten()\n",
    "plt.hist(x)"
   ]
  },
  {
   "cell_type": "code",
   "execution_count": null,
   "metadata": {},
   "outputs": [],
   "source": [
    "np.unique(track_truth)"
   ]
  },
  {
   "cell_type": "code",
   "execution_count": 4,
   "metadata": {},
   "outputs": [],
   "source": [
    "track_scores = np.stack(track_scores,axis=-1)"
   ]
  },
  {
   "cell_type": "code",
   "execution_count": 5,
   "metadata": {},
   "outputs": [],
   "source": [
    "prongs = np.argmax(np.stack(track_scores,axis=-1), axis=-1)\n"
   ]
  },
  {
   "cell_type": "code",
   "execution_count": 6,
   "metadata": {},
   "outputs": [
    {
     "data": {
      "text/plain": [
       "array([[  32691, 1514091, 2135369, 4318536],\n",
       "       [    704,     704,     704,     704],\n",
       "       [    112,     112,     112,     112],\n",
       "       [      0,       0,       0,       0],\n",
       "       [      0,       0,       0,       0],\n",
       "       [      0,       0,       0,       0],\n",
       "       [      0,       0,       0,       0],\n",
       "       [      0,       0,       0,       0],\n",
       "       [      0,       0,       0,       0],\n",
       "       [      0,       0,       0,       0],\n",
       "       [      0,       0,       0,       0],\n",
       "       [      0,       0,       0,       0],\n",
       "       [      0,       0,       0,       0],\n",
       "       [      0,       0,       0,       0],\n",
       "       [      0,       0,       0,       0],\n",
       "       [      0,       0,       0,       0],\n",
       "       [      0,       0,       0,       0],\n",
       "       [      0,       0,       0,       0],\n",
       "       [      0,       0,       0,       0],\n",
       "       [      0,       0,       0,       0],\n",
       "       [      0,       0,       0,       0],\n",
       "       [      0,       0,       0,       0],\n",
       "       [      0,       0,       0,       0],\n",
       "       [      0,       0,       0,       0],\n",
       "       [      0,       0,       0,       0],\n",
       "       [      0,       0,       0,       0],\n",
       "       [      0,       0,       0,       0],\n",
       "       [      0,       0,       0,       0],\n",
       "       [      0,       0,       0,       0],\n",
       "       [      0,       0,       0,       0]])"
      ]
     },
     "execution_count": 6,
     "metadata": {},
     "output_type": "execute_result"
    }
   ],
   "source": [
    "prongs"
   ]
  },
  {
   "cell_type": "code",
   "execution_count": null,
   "metadata": {},
   "outputs": [],
   "source": [
    "np.argmax(np.stack(track_scores,axis=-1), axis=-1)"
   ]
  },
  {
   "cell_type": "code",
   "execution_count": null,
   "metadata": {},
   "outputs": [],
   "source": [
    "(mask & (jet_pt > 20) & is_bkg & (prongs == 1)).sum()"
   ]
  },
  {
   "cell_type": "code",
   "execution_count": 7,
   "metadata": {},
   "outputs": [
    {
     "ename": "NameError",
     "evalue": "name 'discs' is not defined",
     "output_type": "error",
     "traceback": [
      "\u001b[0;31m---------------------------------------------------------------------------\u001b[0m",
      "\u001b[0;31mNameError\u001b[0m                                 Traceback (most recent call last)",
      "Cell \u001b[0;32mIn[7], line 1\u001b[0m\n\u001b[0;32m----> 1\u001b[0m plt\u001b[39m.\u001b[39mhist(discs[mask \u001b[39m&\u001b[39m is_bkg \u001b[39m&\u001b[39m (prongs \u001b[39m==\u001b[39m \u001b[39m3\u001b[39m)], density\u001b[39m=\u001b[39m\u001b[39mTrue\u001b[39;00m, histtype\u001b[39m=\u001b[39m\u001b[39m'\u001b[39m\u001b[39mstep\u001b[39m\u001b[39m'\u001b[39m)\n\u001b[1;32m      2\u001b[0m plt\u001b[39m.\u001b[39mhist(discs[mask \u001b[39m&\u001b[39m is_tau \u001b[39m&\u001b[39m (prongs \u001b[39m==\u001b[39m \u001b[39m3\u001b[39m)], density\u001b[39m=\u001b[39m\u001b[39mTrue\u001b[39;00m, histtype\u001b[39m=\u001b[39m\u001b[39m'\u001b[39m\u001b[39mstep\u001b[39m\u001b[39m'\u001b[39m)\n\u001b[1;32m      3\u001b[0m plt\u001b[39m.\u001b[39mshow()\n",
      "\u001b[0;31mNameError\u001b[0m: name 'discs' is not defined"
     ]
    }
   ],
   "source": [
    "plt.hist(discs[mask & is_bkg & (prongs == 3)], density=True, histtype='step')\n",
    "plt.hist(discs[mask & is_tau & (prongs == 3)], density=True, histtype='step')\n",
    "plt.show()"
   ]
  },
  {
   "cell_type": "code",
   "execution_count": null,
   "metadata": {},
   "outputs": [],
   "source": [
    "np.sum(eta_mask)"
   ]
  },
  {
   "cell_type": "code",
   "execution_count": null,
   "metadata": {},
   "outputs": [],
   "source": [
    "calc_rej(rnn_discs[is_tau & mask & (prongs==1)], rnn_discs[is_bkg & mask & (prongs==1)], np.array([0.6, 0.75, 0.85, 0.95]))"
   ]
  },
  {
   "cell_type": "code",
   "execution_count": null,
   "metadata": {},
   "outputs": [],
   "source": [
    "rnn_discs[is_tau & mask & (prongs==3)]"
   ]
  },
  {
   "cell_type": "code",
   "execution_count": null,
   "metadata": {},
   "outputs": [],
   "source": [
    "rnn_discs[is_bkg & mask & (prongs==3)]"
   ]
  },
  {
   "cell_type": "code",
   "execution_count": null,
   "metadata": {},
   "outputs": [],
   "source": [
    "calc_rej(rnn_discs[is_tau & mask & (prongs==3)], rnn_discs[is_bkg & mask & (prongs==3)], np.array([0.45, 0.6, 0.75, 0.95]))"
   ]
  },
  {
   "cell_type": "code",
   "execution_count": null,
   "metadata": {},
   "outputs": [],
   "source": [
    "np.sum(is_tau & mask & (prongs==3)) / (np.sum(is_tau & mask)) * 100"
   ]
  },
  {
   "cell_type": "code",
   "execution_count": null,
   "metadata": {},
   "outputs": [],
   "source": [
    "discs[is_tau & mask & (prongs==1)]"
   ]
  },
  {
   "cell_type": "code",
   "execution_count": null,
   "metadata": {},
   "outputs": [],
   "source": [
    "np.sum((prongs==1) & mask & is_tau)"
   ]
  },
  {
   "cell_type": "code",
   "execution_count": null,
   "metadata": {},
   "outputs": [],
   "source": [
    "track_truth[track_valids]"
   ]
  },
  {
   "cell_type": "code",
   "execution_count": null,
   "metadata": {},
   "outputs": [],
   "source": [
    "np.sum(np.argmax(np.stack(track_scores,axis=-1), axis=-1)==1, axis=-1)"
   ]
  },
  {
   "cell_type": "code",
   "execution_count": null,
   "metadata": {},
   "outputs": [],
   "source": [
    "(mask & (jet_pt > 20) & is_bkg & (prongs == 3)).sum()"
   ]
  },
  {
   "cell_type": "code",
   "execution_count": null,
   "metadata": {},
   "outputs": [],
   "source": [
    "f = h5py.File(val, 'r')"
   ]
  },
  {
   "cell_type": "code",
   "execution_count": 10,
   "metadata": {},
   "outputs": [
    {
     "data": {
      "text/plain": [
       "(array([ 945524.,   45404.,   26702.,   21869.,   21579.,   23419.,\n",
       "          28163.,   37034.,   65458., 4584848.]),\n",
       " array([4.79183973e-06, 1.00004286e-01, 2.00003788e-01, 3.00003290e-01,\n",
       "        4.00002778e-01, 5.00002265e-01, 6.00001752e-01, 7.00001299e-01,\n",
       "        8.00000787e-01, 9.00000274e-01, 9.99999762e-01]),\n",
       " <BarContainer object of 10 artists>)"
      ]
     },
     "execution_count": 10,
     "metadata": {},
     "output_type": "execute_result"
    },
    {
     "data": {
      "image/png": "[encoded data removed]",
      "text/plain": [
       "<Figure size 640x480 with 1 Axes>"
      ]
     },
     "metadata": {},
     "output_type": "display_data"
    },
    {
     "data": {
      "image/png": "[encoded data removed]",
      "text/plain": [
       "<Figure size 640x480 with 1 Axes>"
      ]
     },
     "metadata": {},
     "output_type": "display_data"
    }
   ],
   "source": [
    "plt.figure()\n",
    "plt.title('GN2TauA_pb')\n",
    "plt.hist(f['jets']['GN2TauA_pb'])\n",
    "plt.figure()\n",
    "plt.title('GN2TauA_pu')\n",
    "plt.hist(f['jets']['GN2TauA_pu'], color = 'g')\n",
    "\n"
   ]
  },
  {
   "cell_type": "code",
   "execution_count": 11,
   "metadata": {},
   "outputs": [
    {
     "ename": "NameError",
     "evalue": "name 'valid_truth' is not defined",
     "output_type": "error",
     "traceback": [
      "\u001b[0;31m---------------------------------------------------------------------------\u001b[0m",
      "\u001b[0;31mNameError\u001b[0m                                 Traceback (most recent call last)",
      "Cell \u001b[0;32mIn[11], line 1\u001b[0m\n\u001b[0;32m----> 1\u001b[0m confusion_matrix \u001b[39m=\u001b[39m metrics\u001b[39m.\u001b[39mconfusion_matrix(valid_truth, np\u001b[39m.\u001b[39margmax(new_pred, axis\u001b[39m=\u001b[39m\u001b[39m-\u001b[39m\u001b[39m1\u001b[39m), normalize\u001b[39m=\u001b[39m\u001b[39m'\u001b[39m\u001b[39mtrue\u001b[39m\u001b[39m'\u001b[39m)\n\u001b[1;32m      3\u001b[0m cm_display \u001b[39m=\u001b[39m metrics\u001b[39m.\u001b[39mConfusionMatrixDisplay(confusion_matrix \u001b[39m=\u001b[39m confusion_matrix)\n\u001b[1;32m      5\u001b[0m cm_display\u001b[39m.\u001b[39mplot()\n",
      "\u001b[0;31mNameError\u001b[0m: name 'valid_truth' is not defined"
     ]
    }
   ],
   "source": [
    "confusion_matrix = metrics.confusion_matrix(valid_truth, np.argmax(new_pred, axis=-1), normalize='true')\n",
    "\n",
    "cm_display = metrics.ConfusionMatrixDisplay(confusion_matrix = confusion_matrix)\n",
    "\n",
    "cm_display.plot()\n",
    "plt.show()"
   ]
  },
  {
   "cell_type": "code",
   "execution_count": null,
   "metadata": {},
   "outputs": [],
   "source": [
    "rnn_scores = np.stack([track_scores[0], track_scores[1], track_scores[3], track_scores[2]], axis=-1)"
   ]
  },
  {
   "cell_type": "code",
   "execution_count": null,
   "metadata": {},
   "outputs": [],
   "source": [
    "confusion_matrix = metrics.confusion_matrix(valid_truth, np.argmax(rnn_scores[track_valids], axis=-1), normalize='true')\n",
    "\n",
    "cm_display = metrics.ConfusionMatrixDisplay(confusion_matrix = confusion_matrix)\n",
    "\n",
    "cm_display.plot()\n",
    "plt.show()"
   ]
  },
  {
   "cell_type": "code",
   "execution_count": 14,
   "metadata": {},
   "outputs": [
    {
     "ename": "KeyError",
     "evalue": "'GN2Tau'",
     "output_type": "error",
     "traceback": [
      "\u001b[0;31m---------------------------------------------------------------------------\u001b[0m",
      "\u001b[0;31mKeyError\u001b[0m                                  Traceback (most recent call last)",
      "Cell \u001b[0;32mIn[14], line 3\u001b[0m\n\u001b[1;32m      1\u001b[0m plt\u001b[39m.\u001b[39mhist(results[\u001b[39m'\u001b[39m\u001b[39mRNN\u001b[39m\u001b[39m'\u001b[39m][\u001b[39m'\u001b[39m\u001b[39mdisc\u001b[39m\u001b[39m'\u001b[39m][is_tau \u001b[39m&\u001b[39m mask], histtype\u001b[39m=\u001b[39m\u001b[39m'\u001b[39m\u001b[39mstep\u001b[39m\u001b[39m'\u001b[39m, density\u001b[39m=\u001b[39m\u001b[39mTrue\u001b[39;00m, bins\u001b[39m=\u001b[39m\u001b[39m20\u001b[39m, color\u001b[39m=\u001b[39m\u001b[39m'\u001b[39m\u001b[39mred\u001b[39m\u001b[39m'\u001b[39m, label\u001b[39m=\u001b[39m\u001b[39m'\u001b[39m\u001b[39mTau\u001b[39m\u001b[39m'\u001b[39m)\n\u001b[1;32m      2\u001b[0m plt\u001b[39m.\u001b[39mhist(results[\u001b[39m'\u001b[39m\u001b[39mRNN\u001b[39m\u001b[39m'\u001b[39m][\u001b[39m'\u001b[39m\u001b[39mdisc\u001b[39m\u001b[39m'\u001b[39m][is_bkg \u001b[39m&\u001b[39m mask], histtype\u001b[39m=\u001b[39m\u001b[39m'\u001b[39m\u001b[39mstep\u001b[39m\u001b[39m'\u001b[39m, density\u001b[39m=\u001b[39m\u001b[39mTrue\u001b[39;00m, bins\u001b[39m=\u001b[39m\u001b[39m20\u001b[39m, color\u001b[39m=\u001b[39m\u001b[39m'\u001b[39m\u001b[39mblue\u001b[39m\u001b[39m'\u001b[39m, label\u001b[39m=\u001b[39m\u001b[39m'\u001b[39m\u001b[39mBkg\u001b[39m\u001b[39m'\u001b[39m)\n\u001b[0;32m----> 3\u001b[0m plt\u001b[39m.\u001b[39mhist(results[\u001b[39m'\u001b[39;49m\u001b[39mGN2Tau\u001b[39;49m\u001b[39m'\u001b[39;49m][\u001b[39m'\u001b[39m\u001b[39mdisc\u001b[39m\u001b[39m'\u001b[39m][is_tau \u001b[39m&\u001b[39m mask], histtype\u001b[39m=\u001b[39m\u001b[39m'\u001b[39m\u001b[39mstep\u001b[39m\u001b[39m'\u001b[39m, density\u001b[39m=\u001b[39m\u001b[39mTrue\u001b[39;00m, bins\u001b[39m=\u001b[39m\u001b[39m20\u001b[39m, color\u001b[39m=\u001b[39m\u001b[39m'\u001b[39m\u001b[39mred\u001b[39m\u001b[39m'\u001b[39m, linestyle\u001b[39m=\u001b[39m(\u001b[39m'\u001b[39m\u001b[39mdashed\u001b[39m\u001b[39m'\u001b[39m))\n\u001b[1;32m      4\u001b[0m plt\u001b[39m.\u001b[39mhist(results[\u001b[39m'\u001b[39m\u001b[39mGN2Tau\u001b[39m\u001b[39m'\u001b[39m][\u001b[39m'\u001b[39m\u001b[39mdisc\u001b[39m\u001b[39m'\u001b[39m][is_bkg \u001b[39m&\u001b[39m mask], histtype\u001b[39m=\u001b[39m\u001b[39m'\u001b[39m\u001b[39mstep\u001b[39m\u001b[39m'\u001b[39m, density\u001b[39m=\u001b[39m\u001b[39mTrue\u001b[39;00m, bins\u001b[39m=\u001b[39m\u001b[39m20\u001b[39m, color\u001b[39m=\u001b[39m\u001b[39m'\u001b[39m\u001b[39mblue\u001b[39m\u001b[39m'\u001b[39m, linestyle\u001b[39m=\u001b[39m(\u001b[39m'\u001b[39m\u001b[39mdashed\u001b[39m\u001b[39m'\u001b[39m))\n\u001b[1;32m      5\u001b[0m plt\u001b[39m.\u001b[39mlegend()\n",
      "\u001b[0;31mKeyError\u001b[0m: 'GN2Tau'"
     ]
    },
    {
     "data": {
      "image/png": "[encoded data removed]",
      "text/plain": [
       "<Figure size 640x480 with 1 Axes>"
      ]
     },
     "metadata": {},
     "output_type": "display_data"
    }
   ],
   "source": [
    "plt.hist(results['RNN']['disc'][is_tau & mask], histtype='step', density=True, bins=20, color='red', label='Tau')\n",
    "plt.hist(results['RNN']['disc'][is_bkg & mask], histtype='step', density=True, bins=20, color='blue', label='Bkg')\n",
    "plt.hist(results['GN2Tau']['disc'][is_tau & mask], histtype='step', density=True, bins=20, color='red', linestyle=('dashed'))\n",
    "plt.hist(results['GN2Tau']['disc'][is_bkg & mask], histtype='step', density=True, bins=20, color='blue', linestyle=('dashed'))\n",
    "plt.legend()\n",
    "plt.show()"
   ]
  },
  {
   "cell_type": "code",
   "execution_count": 20,
   "metadata": {},
   "outputs": [
    {
     "ename": "ValueError",
     "evalue": "Field jetSeedPt does not appear in this type.",
     "output_type": "error",
     "traceback": [
      "\u001b[0;31m---------------------------------------------------------------------------\u001b[0m",
      "\u001b[0;31mValueError\u001b[0m                                Traceback (most recent call last)",
      "Cell \u001b[0;32mIn[20], line 1\u001b[0m\n\u001b[0;32m----> 1\u001b[0m plt\u001b[39m.\u001b[39mhist(f[\u001b[39m'\u001b[39;49m\u001b[39mjets\u001b[39;49m\u001b[39m'\u001b[39;49m][\u001b[39m'\u001b[39;49m\u001b[39mjetSeedPt\u001b[39;49m\u001b[39m'\u001b[39;49m], bins\u001b[39m=\u001b[39m\u001b[39m100\u001b[39m, density\u001b[39m=\u001b[39m\u001b[39mFalse\u001b[39;00m, \u001b[39mrange\u001b[39m\u001b[39m=\u001b[39m(\u001b[39m0\u001b[39m, \u001b[39m3500\u001b[39m))\n\u001b[1;32m      2\u001b[0m plt\u001b[39m.\u001b[39myscale(\u001b[39m'\u001b[39m\u001b[39mlog\u001b[39m\u001b[39m'\u001b[39m)\n\u001b[1;32m      3\u001b[0m plt\u001b[39m.\u001b[39mshow()\n",
      "File \u001b[0;32mh5py/_objects.pyx:54\u001b[0m, in \u001b[0;36mh5py._objects.with_phil.wrapper\u001b[0;34m()\u001b[0m\n",
      "File \u001b[0;32mh5py/_objects.pyx:55\u001b[0m, in \u001b[0;36mh5py._objects.with_phil.wrapper\u001b[0;34m()\u001b[0m\n",
      "File \u001b[0;32m/usr/local/anaconda/3.8u/envs/sup_res/lib/python3.9/site-packages/h5py/_hl/dataset.py:787\u001b[0m, in \u001b[0;36mDataset.__getitem__\u001b[0;34m(self, args, new_dtype)\u001b[0m\n\u001b[1;32m    785\u001b[0m         names \u001b[39m=\u001b[39m names[\u001b[39m0\u001b[39m]  \u001b[39m# Read with simpler dtype of this field\u001b[39;00m\n\u001b[1;32m    786\u001b[0m     args \u001b[39m=\u001b[39m \u001b[39mtuple\u001b[39m(x \u001b[39mfor\u001b[39;00m x \u001b[39min\u001b[39;00m args \u001b[39mif\u001b[39;00m \u001b[39mnot\u001b[39;00m \u001b[39misinstance\u001b[39m(x, \u001b[39mstr\u001b[39m))\n\u001b[0;32m--> 787\u001b[0m     \u001b[39mreturn\u001b[39;00m \u001b[39mself\u001b[39;49m\u001b[39m.\u001b[39;49mfields(names, _prior_dtype\u001b[39m=\u001b[39;49mnew_dtype)[args]\n\u001b[1;32m    789\u001b[0m \u001b[39mif\u001b[39;00m new_dtype \u001b[39mis\u001b[39;00m \u001b[39mNone\u001b[39;00m:\n\u001b[1;32m    790\u001b[0m     new_dtype \u001b[39m=\u001b[39m \u001b[39mself\u001b[39m\u001b[39m.\u001b[39mdtype\n",
      "File \u001b[0;32m/usr/local/anaconda/3.8u/envs/sup_res/lib/python3.9/site-packages/h5py/_hl/dataset.py:445\u001b[0m, in \u001b[0;36mDataset.fields\u001b[0;34m(self, names, _prior_dtype)\u001b[0m\n\u001b[1;32m    443\u001b[0m \u001b[39mif\u001b[39;00m _prior_dtype \u001b[39mis\u001b[39;00m \u001b[39mNone\u001b[39;00m:\n\u001b[1;32m    444\u001b[0m     _prior_dtype \u001b[39m=\u001b[39m \u001b[39mself\u001b[39m\u001b[39m.\u001b[39mdtype\n\u001b[0;32m--> 445\u001b[0m \u001b[39mreturn\u001b[39;00m FieldsWrapper(\u001b[39mself\u001b[39;49m, _prior_dtype, names)\n",
      "File \u001b[0;32m/usr/local/anaconda/3.8u/envs/sup_res/lib/python3.9/site-packages/h5py/_hl/dataset.py:274\u001b[0m, in \u001b[0;36mFieldsWrapper.__init__\u001b[0;34m(self, dset, prior_dtype, names)\u001b[0m\n\u001b[1;32m    272\u001b[0m     \u001b[39mself\u001b[39m\u001b[39m.\u001b[39mextract_field \u001b[39m=\u001b[39m names\n\u001b[1;32m    273\u001b[0m     names \u001b[39m=\u001b[39m [names]\n\u001b[0;32m--> 274\u001b[0m \u001b[39mself\u001b[39m\u001b[39m.\u001b[39mread_dtype \u001b[39m=\u001b[39m readtime_dtype(prior_dtype, names)\n",
      "File \u001b[0;32m/usr/local/anaconda/3.8u/envs/sup_res/lib/python3.9/site-packages/h5py/_hl/dataset.py:303\u001b[0m, in \u001b[0;36mreadtime_dtype\u001b[0;34m(basetype, names)\u001b[0m\n\u001b[1;32m    301\u001b[0m \u001b[39mfor\u001b[39;00m name \u001b[39min\u001b[39;00m names:  \u001b[39m# Check all names are legal\u001b[39;00m\n\u001b[1;32m    302\u001b[0m     \u001b[39mif\u001b[39;00m name \u001b[39mnot\u001b[39;00m \u001b[39min\u001b[39;00m basetype\u001b[39m.\u001b[39mnames:\n\u001b[0;32m--> 303\u001b[0m         \u001b[39mraise\u001b[39;00m \u001b[39mValueError\u001b[39;00m(\u001b[39m\"\u001b[39m\u001b[39mField \u001b[39m\u001b[39m%s\u001b[39;00m\u001b[39m does not appear in this type.\u001b[39m\u001b[39m\"\u001b[39m \u001b[39m%\u001b[39m name)\n\u001b[1;32m    305\u001b[0m \u001b[39mreturn\u001b[39;00m numpy\u001b[39m.\u001b[39mdtype([(name, basetype\u001b[39m.\u001b[39mfields[name][\u001b[39m0\u001b[39m]) \u001b[39mfor\u001b[39;00m name \u001b[39min\u001b[39;00m names])\n",
      "\u001b[0;31mValueError\u001b[0m: Field jetSeedPt does not appear in this type."
     ]
    }
   ],
   "source": [
    "plt.hist(f['jets']['jetSeedPt'], bins=100, density=False, range=(0, 3500))\n",
    "plt.yscale('log')\n",
    "plt.show()"
   ]
  },
  {
   "cell_type": "code",
   "execution_count": 19,
   "metadata": {},
   "outputs": [],
   "source": [
    "indices = list(range(0, len(sig_eff), 2)) + [len(sig_eff) - 1]\n",
    "#indices"
   ]
  },
  {
   "cell_type": "code",
   "execution_count": 64,
   "metadata": {},
   "outputs": [
    {
     "name": "stderr",
     "output_type": "stream",
     "text": [
      "\u001b[33;21mWARNING:puma: You specified a different linestyle for the same rejection class qcd. Will keep the linestyle defined first.\u001b[0m\n"
     ]
    },
    {
     "data": {
      "image/png": "[encoded data removed]",
      "text/plain": [
       "<Figure size 640x480 with 1 Axes>"
      ]
     },
     "metadata": {},
     "output_type": "display_data"
    }
   ],
   "source": [
    "##plot only RNN for 1/3 prong\n",
    "\n",
    "plot_roc = RocPlot(\n",
    "        n_ratio_panels=1,\n",
    "        ylabel=\"Background rejection\",\n",
    "        xlabel=\"$\\\\tau$-jet efficiency\",\n",
    "        atlas_second_tag=\"$\\\\sqrt{s}=13$\" + f\" TeV\",\n",
    "        figsize=(6.5, 6),\n",
    "        y_scale=1.4,\n",
    "    )\n",
    "\n",
    "plot_roc.add_roc(\n",
    "    Roc(\n",
    "        sig_eff[indices],\n",
    "        results['RNN'][f'rej_1'][indices],\n",
    "        n_test=np.sum(is_bkg & mask & (prongs==1)),\n",
    "        rej_class=\"qcd\",\n",
    "        signal_class='$\\\\tau$-jets',\n",
    "        label=f\"{'RNN (1-prong)'}\",\n",
    "        colour='red',\n",
    "    ),\n",
    "    reference=True,\n",
    ")\n",
    "\n",
    "plot_roc.add_roc(\n",
    "    Roc(\n",
    "        sig_eff[indices],\n",
    "        results['RNN'][f'rej_3'][indices],\n",
    "        n_test=np.sum(is_bkg & mask & (prongs==3)),\n",
    "        rej_class=\"qcd\",\n",
    "        signal_class='$\\\\tau$-jets',\n",
    "        label=f\"{'RNN (3-prong)'}\",\n",
    "        colour='steelblue',\n",
    "        linestyle='dashed',\n",
    "    ),\n",
    "    reference=False,\n",
    ")\n",
    "\n",
    "# setting which flavour rejection ratio is drawn in which ratio panel\n",
    "plot_roc.set_ratio_class(1, \"qcd\")\n",
    "# plot_roc.set_leg_rej_labels(\"qcd\", \"Background rejection\")\n",
    "plot_roc.draw()\n",
    "plot_roc.savefig(f\"RNN_tau_both.png\", transparent=False)"
   ]
  },
  {
   "cell_type": "code",
   "execution_count": 26,
   "metadata": {},
   "outputs": [
    {
     "data": {
      "image/png": "[encoded data removed]",
      "text/plain": [
       "<Figure size 640x480 with 1 Axes>"
      ]
     },
     "metadata": {},
     "output_type": "display_data"
    }
   ],
   "source": [
    "\n",
    "plot_roc = RocPlot(\n",
    "        n_ratio_panels=1,\n",
    "        ylabel=\"Background rejection\",\n",
    "        xlabel=\"$\\\\tau$-jet efficiency\",\n",
    "        atlas_second_tag=\"$\\\\sqrt{s}=13$ TeV\\n1-prong\\nTransScores\",\n",
    "        figsize=(6.5, 6),\n",
    "        y_scale=1.4,\n",
    "    )\n",
    "\n",
    "for network in results.keys():\n",
    "\n",
    "    # if network not in ['RNN','GNtau_noRNN']:\n",
    "    #     continue\n",
    "\n",
    "    lab = network\n",
    "    if '_' in lab:\n",
    "        if 'noAux' in lab:\n",
    "            lab = lab.split('_')[0] + '_noAux'\n",
    "        else:\n",
    "            lab = lab.split('_')[0]\n",
    "\n",
    "    plot_roc.add_roc(\n",
    "        Roc(\n",
    "            sig_eff[indices],\n",
    "            results[network]['rej_1'][indices],\n",
    "            n_test=np.sum(is_bkg & mask & (prongs==1)),\n",
    "            rej_class=\"qcd\",\n",
    "            signal_class='$\\\\tau$-jets',\n",
    "            label=lab,\n",
    "        ),\n",
    "        reference=(reference == network),\n",
    "    )\n",
    "# setting which flavour rejection ratio is drawn in which ratio panel\n",
    "plot_roc.set_ratio_class(1, \"qcd\")\n",
    "# plot_roc.set_leg_rej_labels(\"qcd\", \"Background rejection\")\n",
    "plot_roc.draw()\n",
    "plot_roc.savefig(f\"All_tau_1.png\", transparent=False)"
   ]
  },
  {
   "cell_type": "code",
   "execution_count": null,
   "metadata": {},
   "outputs": [],
   "source": [
    "results['GN2TauJ']['rej_3'][0] = 5194.0\n",
    "results['GN2TauJ']['rej_3'][1] = 5194.0"
   ]
  },
  {
   "cell_type": "code",
   "execution_count": 27,
   "metadata": {},
   "outputs": [
    {
     "data": {
      "image/png": "[encoded data removed]",
      "text/plain": [
       "<Figure size 640x480 with 1 Axes>"
      ]
     },
     "metadata": {},
     "output_type": "display_data"
    }
   ],
   "source": [
    "plot_roc = RocPlot(\n",
    "        n_ratio_panels=1,\n",
    "        ylabel=\"Background rejection\",\n",
    "        xlabel=\"$\\\\tau$-jet efficiency\",\n",
    "        atlas_second_tag=\"$\\\\sqrt{s}=13$ TeV\\n3-prong\\nTransScores\",\n",
    "        figsize=(6.5, 6),\n",
    "        y_scale=1.4,\n",
    "    )\n",
    "\n",
    "for network in results.keys():\n",
    "\n",
    "    # if network not in ['RNN','GNtau_noRNN']:\n",
    "    #     continue\n",
    "\n",
    "    lab = network\n",
    "    if '_' in lab:\n",
    "        if 'noAux' in lab:\n",
    "            lab = lab.split('_')[0] + '_noAux'\n",
    "        else:\n",
    "            lab = lab.split('_')[0]\n",
    "\n",
    "    plot_roc.add_roc(\n",
    "        Roc(\n",
    "            sig_eff[indices],\n",
    "            results[network]['rej_3'][indices],\n",
    "            n_test=np.sum(is_bkg & mask & (prongs==3)),\n",
    "            rej_class=\"qcd\",\n",
    "            signal_class='$\\\\tau$-jets',\n",
    "            label=lab,\n",
    "        ),\n",
    "        reference=(reference == network),\n",
    "    )\n",
    "# setting which flavour rejection ratio is drawn in which ratio panel\n",
    "plot_roc.set_ratio_class(1, \"qcd\")\n",
    "# plot_roc.set_leg_rej_labels(\"qcd\", \"Background rejection\")\n",
    "plot_roc.draw()\n",
    "plot_roc.savefig(f\"All_tau_3.png\", transparent=False)"
   ]
  },
  {
   "cell_type": "markdown",
   "metadata": {},
   "source": [
    "# Efficiency/rejection vs. pT"
   ]
  },
  {
   "cell_type": "code",
   "execution_count": 22,
   "metadata": {},
   "outputs": [],
   "source": [
    "import numpy as np\n",
    "\n",
    "from puma import VarVsEff, VarVsEffPlot\n",
    "from puma.utils import get_dummy_2_taggers, logger"
   ]
  },
  {
   "cell_type": "code",
   "execution_count": 23,
   "metadata": {},
   "outputs": [],
   "source": [
    "WP_1p = {\n",
    "    'Tight': 0.60,\n",
    "    'Medium': 0.75,\n",
    "    'Loose': 0.85,\n",
    "}\n",
    "\n",
    "WP_3p = {\n",
    "    'Tight': 0.45,\n",
    "    'Medium': 0.60,\n",
    "    'Loose': 0.75,    \n",
    "}\n",
    "\n",
    "prongness = {'1 prongs':[(prongs==1) ,sig_mask_1, WP_1p, 1], '3 prongs' : [(prongs==3), sig_mask_3, WP_3p, 3]}"
   ]
  },
  {
   "cell_type": "code",
   "execution_count": 24,
   "metadata": {},
   "outputs": [
    {
     "name": "stderr",
     "output_type": "stream",
     "text": [
      "\u001b[32;21mINFO:puma: Plotting bkg rejection for inclusive efficiency as a function of pt.\u001b[0m\n",
      "\u001b[32;21mINFO:puma: Plotting bkg rejection for inclusive efficiency as a function of pt.\u001b[0m\n",
      "\u001b[32;21mINFO:puma: Plotting bkg rejection for inclusive efficiency as a function of pt.\u001b[0m\n",
      "\u001b[32;21mINFO:puma: Plotting bkg rejection for inclusive efficiency as a function of pt.\u001b[0m\n",
      "\u001b[32;21mINFO:puma: Plotting bkg rejection for inclusive efficiency as a function of pt.\u001b[0m\n",
      "\u001b[32;21mINFO:puma: Plotting bkg rejection for inclusive efficiency as a function of pt.\u001b[0m\n",
      "\u001b[32;21mINFO:puma: Plotting bkg rejection for inclusive efficiency as a function of pt.\u001b[0m\n",
      "\u001b[32;21mINFO:puma: Plotting bkg rejection for inclusive efficiency as a function of pt.\u001b[0m\n",
      "\u001b[32;21mINFO:puma: Plotting bkg rejection for inclusive efficiency as a function of pt.\u001b[0m\n",
      "\u001b[32;21mINFO:puma: Plotting bkg rejection for inclusive efficiency as a function of pt.\u001b[0m\n",
      "\u001b[32;21mINFO:puma: Plotting bkg rejection for inclusive efficiency as a function of pt.\u001b[0m\n",
      "\u001b[32;21mINFO:puma: Plotting bkg rejection for inclusive efficiency as a function of pt.\u001b[0m\n"
     ]
    },
    {
     "data": {
      "image/png": "[encoded data removed]",
      "text/plain": [
       "<Figure size 640x480 with 1 Axes>"
      ]
     },
     "metadata": {},
     "output_type": "display_data"
    }
   ],
   "source": [
    "for WP_name in ['Tight', 'Medium', 'Loose']:\n",
    "\n",
    "    for p_num, sigi, eff, prong in prongness.values():\n",
    "\n",
    "        plot_sig_eff = VarVsEffPlot(\n",
    "            mode=\"sig_eff\",\n",
    "            ylabel=\"$Tau$-jets efficiency\",\n",
    "            xlabel=r\"$p_{T}$ [GeV]\",\n",
    "            logy=False,\n",
    "            atlas_second_tag=\"$\\\\sqrt{s}=13$ TeV, \" + \"{}-prong\".format(prong) ,\n",
    "            n_ratio_panels=1,\n",
    "            ymin=0,\n",
    "            ymax=1.6\n",
    "        )\n",
    "\n",
    "        plot_bkg_rej = VarVsEffPlot(\n",
    "            mode=\"bkg_rej\",\n",
    "            ylabel=\"BKG-jets rejection\",\n",
    "            xlabel=r\"$p_{T}$ [GeV]\",\n",
    "            logy=True,\n",
    "            logx=True,\n",
    "            atlas_second_tag=\"$\\\\sqrt{s}=13$ TeV, \" + \"{}-prong\".format(prong) ,\n",
    "            n_ratio_panels=1,\n",
    "            ymin=1,\n",
    "            xmin=20,\n",
    "            xmax=2100,\n",
    "            #ymax= 970 if prong == 1 else 9700,\n",
    "        )\n",
    "\n",
    "        for network in results.keys(): \n",
    "\n",
    "            if network not in ['RNN','GNtau_noRNN']:\n",
    "                continue\n",
    "\n",
    "            lab = network\n",
    "            if '_' in lab and 'Aux' not in lab:\n",
    "                lab = lab.split('_')[0]\n",
    "\n",
    "            vveff_eff = VarVsEff(\n",
    "                x_var_sig=jet_pt[is_tau & mask & p_num & sigi],\n",
    "                disc_sig=results[network]['disc'][is_tau & mask & p_num & sigi],\n",
    "                x_var_bkg=jet_pt[is_bkg & mask & p_num],\n",
    "                disc_bkg=results[network]['disc'][is_bkg & mask & p_num],\n",
    "                bins=np.linspace(20,1000,49),\n",
    "                working_point=eff[WP_name],\n",
    "                disc_cut=None,\n",
    "                fixed_eff_bin=True,\n",
    "                label=lab,\n",
    "                )\n",
    "            \n",
    "            vveff_rej = VarVsEff(\n",
    "                x_var_sig=jet_pt[is_tau & mask & p_num & sigi],\n",
    "                disc_sig=results[network]['disc'][is_tau & mask & p_num & sigi],\n",
    "                x_var_bkg=jet_pt[is_bkg & mask & p_num],\n",
    "                disc_bkg=results[network]['disc'][is_bkg & mask & p_num],\n",
    "                bins=np.logspace(np.log10(20),np.log10(2000),8),\n",
    "                working_point=eff[WP_name],\n",
    "                disc_cut=None,\n",
    "                fixed_eff_bin=True,\n",
    "                label=lab,\n",
    "                )            \n",
    "\n",
    "            logger.info(\"Plotting bkg rejection for inclusive efficiency as a function of pt.\")\n",
    "\n",
    "            plot_sig_eff.add(vveff_eff, reference=(network == 'RNN'))\n",
    "            plot_bkg_rej.add(vveff_rej, reference=(network == 'RNN'))\n",
    "\n",
    "        plot_sig_eff.atlas_second_tag += \"\\n{} $(\\\\epsilon_{}\\\\tau{}={} \\% )$\".format(WP_name, '{','}' , eff[WP_name]*100)\n",
    "        plot_bkg_rej.atlas_second_tag += \"\\n{} $(\\\\epsilon_{}\\\\tau{}={} \\% )$\".format(WP_name, '{','}' , eff[WP_name]*100)\n",
    "\n",
    "        # If you want to inverse the discriminant cut you can enable it via\n",
    "        # plot_sig_eff.set_inverse_cut()\n",
    "        plot_sig_eff.draw()\n",
    "        # Drawing a hline indicating inclusive efficiency\n",
    "        plot_sig_eff.draw_hline(eff[WP_name])\n",
    "        plot_sig_eff.savefig('p_only'+str(prong)+\"_tau_eff_\" + WP_name + \".png\", transparent=False)\n",
    "\n",
    "        plot_bkg_rej.draw()\n",
    "        plot_bkg_rej.savefig('p_only'+str(prong)+\"_bkg_rej_\" + WP_name + \".png\", transparent=False)"
   ]
  },
  {
   "cell_type": "markdown",
   "metadata": {},
   "source": [
    "### RNN-only crosscheck"
   ]
  },
  {
   "cell_type": "code",
   "execution_count": 75,
   "metadata": {},
   "outputs": [
    {
     "name": "stderr",
     "output_type": "stream",
     "text": [
      "\u001b[32;21mINFO:puma: Plotting bkg rejection for inclusive efficiency as a function of pt.\u001b[0m\n",
      "\u001b[32;21mINFO:puma: Plotting bkg rejection for inclusive efficiency as a function of pt.\u001b[0m\n",
      "\u001b[32;21mINFO:puma: Plotting bkg rejection for inclusive efficiency as a function of pt.\u001b[0m\n",
      "\u001b[32;21mINFO:puma: Plotting bkg rejection for inclusive efficiency as a function of pt.\u001b[0m\n",
      "\u001b[32;21mINFO:puma: Plotting bkg rejection for inclusive efficiency as a function of pt.\u001b[0m\n",
      "\u001b[32;21mINFO:puma: Plotting bkg rejection for inclusive efficiency as a function of pt.\u001b[0m\n"
     ]
    },
    {
     "data": {
      "image/png": "[encoded data removed]",
      "text/plain": [
       "<Figure size 640x480 with 1 Axes>"
      ]
     },
     "metadata": {},
     "output_type": "display_data"
    }
   ],
   "source": [
    "colors = {\n",
    "    'Loose': 'green',\n",
    "    'Medium': 'blue',\n",
    "    'Tight': 'red',\n",
    "}\n",
    "\n",
    "for p_num, sigi, eff, prong in prongness.values():\n",
    "\n",
    "    plot_sig_eff = VarVsEffPlot(\n",
    "        mode=\"sig_eff\",\n",
    "        ylabel=\"$Tau$-jets efficiency\",\n",
    "        xlabel=r\"$p_{T}$ [GeV]\",\n",
    "        logy=False,\n",
    "        atlas_second_tag=\"$\\\\sqrt{s}=13$ TeV, \" + \"{}-prong\".format(prong) ,\n",
    "        n_ratio_panels=0,\n",
    "        ymin=0,\n",
    "        ymax=1.6\n",
    "    )\n",
    "\n",
    "    plot_bkg_rej = VarVsEffPlot(\n",
    "        mode=\"bkg_rej\",\n",
    "        ylabel=\"BKG-jets rejection\",\n",
    "        xlabel=r\"$p_{T}$ [GeV]\",\n",
    "        logy=False,\n",
    "        logx=True,\n",
    "        atlas_second_tag=\"$\\\\sqrt{s}=13$ TeV, \" + \"{}-prong\".format(prong) ,\n",
    "        n_ratio_panels=0,\n",
    "        ymin=0,\n",
    "        ymax=1000. if prong == 1 else 10000.,\n",
    "    )\n",
    "\n",
    "    network = 'RNN'\n",
    "\n",
    "    for WP_name in ['Tight', 'Medium', 'Loose']:\n",
    "\n",
    "        vveff_eff = VarVsEff(\n",
    "            x_var_sig=jet_pt[is_tau & mask & p_num & sigi],\n",
    "            disc_sig=results[network]['disc'][is_tau & mask & p_num & sigi],\n",
    "            x_var_bkg=jet_pt[is_bkg & mask & p_num],\n",
    "            disc_bkg=results[network]['disc'][is_bkg & mask & p_num],\n",
    "            bins=np.linspace(20,1000,49),\n",
    "            working_point=eff[WP_name],\n",
    "            disc_cut=None,\n",
    "            fixed_eff_bin=False,\n",
    "            label='{} {} $(\\\\epsilon_{}\\\\tau{}={} \\% )$'.format(network,WP_name, '{','}' , eff[WP_name]*100),\n",
    "            colour=colors[WP_name],\n",
    "            )\n",
    "        \n",
    "        vveff_rej = VarVsEff(\n",
    "            x_var_sig=jet_pt[is_tau & mask & p_num & sigi],\n",
    "            disc_sig=results[network]['disc'][is_tau & mask & p_num & sigi],\n",
    "            x_var_bkg=jet_pt[is_bkg & mask & p_num],\n",
    "            disc_bkg=results[network]['disc'][is_bkg & mask & p_num],\n",
    "            bins=np.logspace(np.log10(20),np.log10(2000),11),\n",
    "            working_point=eff[WP_name],\n",
    "            disc_cut=None,\n",
    "            fixed_eff_bin=False,\n",
    "            label='{} {} $(\\\\epsilon_{}\\\\tau{}={} \\% )$'.format(network,WP_name, '{','}' , eff[WP_name]*100),\n",
    "            colour=colors[WP_name],\n",
    "            )            \n",
    "\n",
    "        logger.info(\"Plotting bkg rejection for inclusive efficiency as a function of pt.\")\n",
    "\n",
    "        plot_sig_eff.add(vveff_eff, reference=False)\n",
    "        plot_bkg_rej.add(vveff_rej, reference=False)\n",
    "\n",
    "        # Drawing a hline indicating inclusive efficiency\n",
    "        plot_sig_eff.draw_hline(eff[WP_name])\n",
    "\n",
    "    # If you want to inverse the discriminant cut you can enable it via\n",
    "    # plot_sig_eff.set_inverse_cut()\n",
    "    plot_sig_eff.draw()\n",
    "    plot_sig_eff.savefig('p_only'+str(prong)+\"_tau_eff_RNNcrosscheck.png\", transparent=False)\n",
    "\n",
    "    plot_bkg_rej.draw()\n",
    "    plot_bkg_rej.savefig('p_only'+str(prong)+\"_bkg_rej_RNNcrosscheck.png\", transparent=False)"
   ]
  },
  {
   "cell_type": "code",
   "execution_count": 77,
   "metadata": {},
   "outputs": [
    {
     "data": {
      "image/png": "[encoded data removed]",
      "text/plain": [
       "<Figure size 640x480 with 1 Axes>"
      ]
     },
     "metadata": {},
     "output_type": "display_data"
    }
   ],
   "source": [
    "plt.hist(jet_pt, bins=350, density=True, range=(0, 3500), histtype='step')\n",
    "plt.yscale('log')"
   ]
  },
  {
   "cell_type": "code",
   "execution_count": null,
   "metadata": {},
   "outputs": [],
   "source": [
    "plt.hist(jet_pt[is_bkg & rnn_mask & (prongs==3)], bins = 30, log = True)"
   ]
  },
  {
   "cell_type": "code",
   "execution_count": null,
   "metadata": {},
   "outputs": [],
   "source": [
    "plt.hist(results['GN2Tau']['disc'][is_tau & mask & (prongs==3)], bins = 30, log = True)"
   ]
  },
  {
   "cell_type": "code",
   "execution_count": null,
   "metadata": {},
   "outputs": [],
   "source": []
  }
 ],
 "metadata": {
  "kernelspec": {
   "display_name": "Python 3",
   "language": "python",
   "name": "python3"
  },
  "language_info": {
   "codemirror_mode": {
    "name": "ipython",
    "version": 3
   },
   "file_extension": ".py",
   "mimetype": "text/x-python",
   "name": "python",
   "nbconvert_exporter": "python",
   "pygments_lexer": "ipython3",
   "version": "3.9.16"
  },
  "orig_nbformat": 4
 },
 "nbformat": 4,
 "nbformat_minor": 2
}
