{
 "cells": [
  {
   "cell_type": "code",
   "execution_count": 1,
   "metadata": {},
   "outputs": [],
   "source": [
    "import h5py\n",
    "import numpy as np\n",
    "import puma\n",
    "import matplotlib.pyplot as plt\n",
    "from puma import Histogram, HistogramPlot, Roc, RocPlot\n",
    "from puma.metrics import calc_rej\n",
    "from puma.utils import get_good_colours, get_good_linestyles, logger\n",
    "from sklearn import metrics\n",
    "from numpy.lib.recfunctions import structured_to_unstructured as s2u\n",
    "import tqdm.notebook as tqdm"
   ]
  },
  {
   "cell_type": "code",
   "execution_count": 2,
   "metadata": {},
   "outputs": [],
   "source": [
    "%load_ext autoreload\n",
    "%autoreload 2"
   ]
  },
  {
   "cell_type": "markdown",
   "metadata": {},
   "source": [
    "# Settings"
   ]
  },
  {
   "cell_type": "code",
   "execution_count": 3,
   "metadata": {},
   "outputs": [],
   "source": [
    "plt.rcParams.update({\n",
    "    \"figure.facecolor\":  \"w\", \n",
    "    \"axes.facecolor\":    \"w\", \n",
    "    \"savefig.facecolor\": \"w\", \n",
    "})"
   ]
  },
  {
   "cell_type": "code",
   "execution_count": 4,
   "metadata": {},
   "outputs": [],
   "source": [
    "jet_pt_min = 15\n",
    "apply_true_prongness = True"
   ]
  },
  {
   "cell_type": "code",
   "execution_count": 5,
   "metadata": {},
   "outputs": [],
   "source": [
    "### Define scan of signal efficiencies\n",
    "sig_eff_min = 0.2 #0.4\n",
    "sig_eff = np.linspace(sig_eff_min, 1.0, 100)\n",
    "# if sig_eff_min < 0.2 and key != 'RNN':\n",
    "#     sig_eff = np.linspace(0.2, 1, 20)"
   ]
  },
  {
   "cell_type": "code",
   "execution_count": 6,
   "metadata": {},
   "outputs": [
    {
     "data": {
      "text/plain": [
       "array([0.2       , 0.20808081, 0.21616162, 0.22424242, 0.23232323,\n",
       "       0.24040404, 0.24848485, 0.25656566, 0.26464646, 0.27272727,\n",
       "       0.28080808, 0.28888889, 0.2969697 , 0.30505051, 0.31313131,\n",
       "       0.32121212, 0.32929293, 0.33737374, 0.34545455, 0.35353535,\n",
       "       0.36161616, 0.36969697, 0.37777778, 0.38585859, 0.39393939,\n",
       "       0.4020202 , 0.41010101, 0.41818182, 0.42626263, 0.43434343,\n",
       "       0.44242424, 0.45050505, 0.45858586, 0.46666667, 0.47474747,\n",
       "       0.48282828, 0.49090909, 0.4989899 , 0.50707071, 0.51515152,\n",
       "       0.52323232, 0.53131313, 0.53939394, 0.54747475, 0.55555556,\n",
       "       0.56363636, 0.57171717, 0.57979798, 0.58787879, 0.5959596 ,\n",
       "       0.6040404 , 0.61212121, 0.62020202, 0.62828283, 0.63636364,\n",
       "       0.64444444, 0.65252525, 0.66060606, 0.66868687, 0.67676768,\n",
       "       0.68484848, 0.69292929, 0.7010101 , 0.70909091, 0.71717172,\n",
       "       0.72525253, 0.73333333, 0.74141414, 0.74949495, 0.75757576,\n",
       "       0.76565657, 0.77373737, 0.78181818, 0.78989899, 0.7979798 ,\n",
       "       0.80606061, 0.81414141, 0.82222222, 0.83030303, 0.83838384,\n",
       "       0.84646465, 0.85454545, 0.86262626, 0.87070707, 0.87878788,\n",
       "       0.88686869, 0.89494949, 0.9030303 , 0.91111111, 0.91919192,\n",
       "       0.92727273, 0.93535354, 0.94343434, 0.95151515, 0.95959596,\n",
       "       0.96767677, 0.97575758, 0.98383838, 0.99191919, 1.        ])"
      ]
     },
     "execution_count": 6,
     "metadata": {},
     "output_type": "execute_result"
    }
   ],
   "source": [
    "sig_eff"
   ]
  },
  {
   "cell_type": "code",
   "execution_count": 7,
   "metadata": {},
   "outputs": [],
   "source": [
    "networks = {\n",
    "    # \"GN1Tau\" : \"logs/GN1_tau_20230215-T172736/ckpts/epoch=021-val_loss=0.31938__test_ttbar.h5\"\n",
    "    # 'GN1Tau': \"logs/GN1_tau_20230321-T145044/ckpts/epoch=018-val_loss=0.08698__test_inclusive_testing_ttbar_PFlow.h5\"\n",
    "    # 'GN1Tau' : \"logs/GN1_tau_20230325-T210222/ckpts/epoch=023-val_loss=0.07746__test_inclusive_testing_ttbar_PFlow.h5\"\n",
    "    #  'GN2TauA': 'logs/GN2TauA_20230820-T185727/ckpts/epoch=009-val_loss=0.04711__test_pp_output_test.h5' ,\n",
    "    #  \"GN2TauJ\" : \"logs/GN2TauJ_20230713-T111312/ckpts/epoch=010-val_loss=0.05086__test_pp_output_test.h5\" ,\n",
    "    #  \"GN2TauC\" : \"logs/GN2TauC_20230713-T151458/ckpts/epoch=011-val_loss=0.05114__test_pp_output_test.h5\" ,\n",
    "    #  \"GN2Tau\" : \"logs/GN2Tau_20230726-T175600/ckpts/epoch=008-val_loss=0.05920__test_pp_output_test.h5\"\n",
    "    #\"GN2Tau\" : \"logs/GN2Tau_20230508-T191218/ckpts/epoch=021-val_loss=0.07711__test_PFlow.h5\"\n",
    "    # \"GN1Tau\" : \"/storage/agrp/zivka/salt/run/logs/GN1_tau_20230226-T104411/ckpts/epoch=028-val_loss=0.28814__test_inclusive_testing_ttbar_PFlow.h5\",\n",
    "    # \"GN1Tau + Aux\" : \"logs/GN1_tau_20230218-T231137/ckpts/epoch=028-val_loss=0.28814__test_ttbar.h5\"\n",
    "    #\"GN2TauA\": \"/storage/agrp/dreyet/GNtau/salt/logs/GN2TauA_20230918-T144357/ckpts/epoch=012-val_loss=0.05973__test_pp_output_test.h5\"\n",
    "    #\"GNTau_noAux\": \"/storage/agrp/dreyet/GNtau/salt/logs/GN2Tau_noAux_20230920-T112330/ckpts/epoch=028-val_loss=0.06778__test_pp_output_test.h5\",\n",
    "    #\"GNTauA\": \"/storage/agrp/dreyet/GNtau/salt/logs/GN2TauA_20230918-T144357/ckpts/epoch=017-val_loss=0.05848__test_pp_output_test.h5\",\n",
    "    #\"GN2TauA_trkClsWgt_noRNN\": \"/storage/agrp/dreyet/GNtau/salt/logs/GN2TauA_trkClsWgt_noRNN_20230927-T145302/ckpts/epoch=031-val_loss=0.05314__test_pp_output_test.h5\",\n",
    "    #\"GN2TauA_trkClsWgt_noRNN_noAux\": \"/storage/agrp/dreyet/GNtau/salt/logs/GN2TauA_trkClsWgt_noRNN_noAux_20230927-T200138/ckpts/epoch=037-val_loss=0.06664__test_pp_output_test.h5\",\n",
    "    \"GN2TauA_trkClsWgt_noRNN\": \"/home/fiaccoda/ntuples/GNTau_samples/logs/GN2TauA_trkClsWgt_noRNN_20230927-T145302/ckpts/epoch=031-val_loss=0.05314__test_test.h5\",\n",
    "    #\"GN2TauA_trkClsWgt\": \"/storage/agrp/dreyet/GNtau/salt/logs/GN2TauA_trkClsWgt_20230924-T171327/ckpts/epoch=019-val_loss=0.05785__test_pp_output_test.h5\",\n",
    "    #\"GN2Tau_noAux\": \"/storage/agrp/dreyet/GNtau/salt/logs/GN2Tau_noAux_20230922-T110104/ckpts/epoch=042-val_loss=0.06758__test_pp_output_test.h5\",\n",
    "}"
   ]
  },
  {
   "cell_type": "markdown",
   "metadata": {},
   "source": [
    "# Get discriminants, rejection, etc"
   ]
  },
  {
   "cell_type": "code",
   "execution_count": 8,
   "metadata": {},
   "outputs": [
    {
     "data": {
      "text/plain": [
       "'\\ndef disc_fct(arr: np.ndarray) -> np.ndarray:\\n    \"\"\"Tagger discriminant\\n\\n    Parameters\\n    ----------\\n    arr : numpy.ndarray\\n        array with with shape (, 2)\\n\\n    Returns\\n    -------\\n    np.ndarray\\n        Array with the discriminant values inside.\\n    \"\"\"\\n    # you can adapt this for your needs\\n    return np.log((arr[0] + 1e-10) / (arr[1] + 1e-10))\\n'"
      ]
     },
     "execution_count": 8,
     "metadata": {},
     "output_type": "execute_result"
    }
   ],
   "source": [
    "### Not used currently (using pTau directly as discrimnant)\n",
    "'''\n",
    "def disc_fct(arr: np.ndarray) -> np.ndarray:\n",
    "    \"\"\"Tagger discriminant\n",
    "\n",
    "    Parameters\n",
    "    ----------\n",
    "    arr : numpy.ndarray\n",
    "        array with with shape (, 2)\n",
    "\n",
    "    Returns\n",
    "    -------\n",
    "    np.ndarray\n",
    "        Array with the discriminant values inside.\n",
    "    \"\"\"\n",
    "    # you can adapt this for your needs\n",
    "    return np.log((arr[0] + 1e-10) / (arr[1] + 1e-10))\n",
    "'''"
   ]
  },
  {
   "cell_type": "code",
   "execution_count": 9,
   "metadata": {},
   "outputs": [],
   "source": [
    "reference = \"RNN\"\n",
    "# reference  = 'GN2Tau'\n",
    "\n",
    "#test_path =  '/storage/agrp/zivka/umami_Tau/UPP/umami-preprocessing/upp/output/pp_output_test.h5'\n",
    "#test_path =  '/storage/agrp/dreyet/GNtau/samples/v04/output/pp_output_test.h5'\n",
    "#test_path = '/home/fiaccoda/ntuples/GNTau_samples/samples/v04/output/pp_output_val.h5'\n",
    "test_path = '/home/fiaccoda/ntuples/GNTau_samples/samples/v04/output/cat_pp_output_test.h5'\n",
    "#test_path = '/storage/agrp/zivka/umami_Tau/UPP/umami-preprocessing/upp/output_1/pp_output_test.h5'\n",
    "#'/storage/agrp/dmitrykl/tauTag/upp/output/pp_output_test.h5'"
   ]
  },
  {
   "cell_type": "code",
   "execution_count": 10,
   "metadata": {
    "scrolled": true
   },
   "outputs": [
    {
     "name": "stdout",
     "output_type": "stream",
     "text": [
      "Key: cells\n",
      "Variables: []\n",
      "Key: jets\n",
      "Variables: ['flavour_label']\n",
      "Key: tracks\n",
      "Variables: []\n"
     ]
    }
   ],
   "source": [
    "def print_datasets_and_variables(name, obj):\n",
    "    if isinstance(obj, h5py.Dataset):\n",
    "        print('Dataset:', name)\n",
    "        print('Variables:', list(obj.attrs))\n",
    "\n",
    "def print_keys_and_variables(filename):\n",
    "    with h5py.File(filename, 'r') as f:\n",
    "        for key in f.keys():\n",
    "            print('Key:', key)\n",
    "            print('Variables:', list(f[key].attrs))\n",
    "            \n",
    "#with h5py.File(test_path, 'r') as f:\n",
    "#    f.visititems(print_datasets_and_variables)\n",
    "\n",
    "# Replace 'yourfile.h5' with your actual file name\n",
    "print_keys_and_variables(test_path)"
   ]
  },
  {
   "cell_type": "code",
   "execution_count": 11,
   "metadata": {},
   "outputs": [
    {
     "name": "stdout",
     "output_type": "stream",
     "text": [
      "len file =  17400000\n",
      "They will be selected  17400000  events;\n"
     ]
    }
   ],
   "source": [
    "with h5py.File(test_path, 'r') as test_f:\n",
    "    print('len file = ', len(test_f['jets']['pt']) )\n",
    "    N_events = len(test_f['jets']['pt'])\n",
    "    N_Select_events = int(N_events / 1)\n",
    "    print(\"They will be selected \", N_Select_events, \" events;\")"
   ]
  },
  {
   "cell_type": "code",
   "execution_count": null,
   "metadata": {},
   "outputs": [],
   "source": []
  },
  {
   "cell_type": "code",
   "execution_count": 12,
   "metadata": {},
   "outputs": [
    {
     "name": "stdout",
     "output_type": "stream",
     "text": [
      "1...\n",
      "2...\n",
      "3...\n",
      "4...\n",
      "5...\n",
      "7...\n"
     ]
    }
   ],
   "source": [
    "with h5py.File(test_path, 'r') as test_f:\n",
    "    print('1...')\n",
    "    jet_pt = test_f['jets']['pt'][:N_Select_events] / 1000\n",
    "    jet_eta = test_f['jets']['absEta'][:N_Select_events]\n",
    "    jet_flav = test_f['jets']['HadronConeExclTruthLabelID'][:N_Select_events]\n",
    "    rnn_pTau = test_f['jets']['TAU_RNNJetScoreSigTrans'][:N_Select_events] #using Trans Score!!!\n",
    "    rnn_pBkg = 1 - test_f['jets']['TAU_RNNJetScoreSigTrans'][:N_Select_events]\n",
    "    print('2...')\n",
    "    track_scores = [test_f['tracks']['rnn_fakeScore'][:N_Select_events],\\\n",
    "                    test_f['tracks']['rnn_chargedScore'][:N_Select_events],\\\n",
    "                    test_f['tracks']['rnn_isolationScore'][:N_Select_events],\\\n",
    "                    test_f['tracks']['rnn_conversionScore'][:N_Select_events] ]\n",
    "    track_valids = test_f['tracks']['valid'][:N_Select_events]\n",
    "    track_truth = test_f['tracks']['NewTruthType'][:N_Select_events]\n",
    "    print('3...')\n",
    "    n_tracks = np.sum(track_valids, axis=-1)\n",
    "    prongs = np.sum(np.argmax(np.stack(track_scores,axis=-1), axis=-1)==1, axis=-1)\n",
    "    eta_mask = (jet_eta < 2.5) & ((jet_eta > 1.57) | (jet_eta < 1.37))\n",
    "    mask = (rnn_pTau >= 0) & (rnn_pBkg >= 0) & (jet_pt > jet_pt_min) & eta_mask #& ((n_tracks == 1) | (n_tracks == 3))# & (jet_pt < 100)\n",
    "    print('4...')\n",
    "    is_tau = jet_flav == 5\n",
    "    is_bkg = jet_flav == 0\n",
    "    n_jets_bkg = np.sum(is_bkg & mask)\n",
    "    rnn_discs = rnn_pTau\n",
    "    print('5...')\n",
    "\n",
    "    x = test_f['tracks']['tauTruthProng'][:N_Select_events]\n",
    "    sig_1_prong = np.isin(x, 1)\n",
    "    sig_mask_1 = np.any(sig_1_prong, axis=1)\n",
    "    print('7...')\n",
    "    sig_3_prong = np.isin(x, 3)\n",
    "    sig_mask_3 = np.any(sig_3_prong, axis=1)\n",
    "    sig_mask_0 = np.logical_not(sig_mask_1 | sig_mask_3)\n"
   ]
  },
  {
   "cell_type": "code",
   "execution_count": 13,
   "metadata": {},
   "outputs": [
    {
     "ename": "NameError",
     "evalue": "name 'results' is not defined",
     "output_type": "error",
     "traceback": [
      "\u001b[0;31m---------------------------------------------------------------------------\u001b[0m",
      "\u001b[0;31mNameError\u001b[0m                                 Traceback (most recent call last)",
      "Input \u001b[0;32mIn [13]\u001b[0m, in \u001b[0;36m<cell line: 1>\u001b[0;34m()\u001b[0m\n\u001b[0;32m----> 1\u001b[0m \u001b[43mresults\u001b[49m[\u001b[38;5;124m'\u001b[39m\u001b[38;5;124mGNtau_noRNN\u001b[39m\u001b[38;5;124m'\u001b[39m][\u001b[38;5;124m'\u001b[39m\u001b[38;5;124mpTau\u001b[39m\u001b[38;5;124m'\u001b[39m][:\u001b[38;5;241m100\u001b[39m]\n",
      "\u001b[0;31mNameError\u001b[0m: name 'results' is not defined"
     ]
    }
   ],
   "source": [
    "results['GNtau_noRNN']['pTau'][:100]"
   ]
  },
  {
   "cell_type": "code",
   "execution_count": 14,
   "metadata": {},
   "outputs": [
    {
     "name": "stderr",
     "output_type": "stream",
     "text": [
      "\u001b[32;21mINFO:puma: Calculate rejection\u001b[0m\n"
     ]
    }
   ],
   "source": [
    "# rnn_discs = rnn_pTau\n",
    "logger.info(\"Calculate rejection\")\n",
    "rnn_rej = calc_rej(rnn_discs[is_tau & mask], rnn_discs[is_bkg & mask], sig_eff)\n",
    "\n",
    "if apply_true_prongness:\n",
    "    rnn_rej_0 = calc_rej(rnn_discs[is_tau & mask & (prongs!=1) & (prongs!=3) & sig_mask_0], rnn_discs[is_bkg & mask & (prongs!=1) & (prongs!=3)], sig_eff)\n",
    "    rnn_rej_1 = calc_rej(rnn_discs[is_tau & mask & (prongs==1)& sig_mask_1], rnn_discs[is_bkg & mask & (prongs==1)], sig_eff)\n",
    "    rnn_rej_3 = calc_rej(rnn_discs[is_tau & mask & (prongs==3)& sig_mask_3], rnn_discs[is_bkg & mask & (prongs==3)], sig_eff)\n",
    "else:\n",
    "    rnn_rej_0 = calc_rej(rnn_discs[is_tau & mask & (prongs!=1) & (prongs!=3)], rnn_discs[is_bkg & mask & (prongs!=1) & (prongs!=3)], sig_eff)\n",
    "    rnn_rej_1 = calc_rej(rnn_discs[is_tau & mask & (prongs==1)], rnn_discs[is_bkg & mask & (prongs==1)], sig_eff)\n",
    "    rnn_rej_3 = calc_rej(rnn_discs[is_tau & mask & (prongs==3)], rnn_discs[is_bkg & mask & (prongs==3)], sig_eff)"
   ]
  },
  {
   "cell_type": "code",
   "execution_count": 15,
   "metadata": {},
   "outputs": [],
   "source": [
    "results = {}"
   ]
  },
  {
   "cell_type": "code",
   "execution_count": 16,
   "metadata": {},
   "outputs": [],
   "source": [
    "results[\"RNN\"] = {\n",
    "        'sig_eff' : sig_eff,\n",
    "        'disc' : rnn_discs,\n",
    "        'rej' : rnn_rej,\n",
    "        'rej_0' : rnn_rej_0,\n",
    "        'rej_1' : rnn_rej_1,\n",
    "        'rej_3' : rnn_rej_3,\n",
    "        'pTau' : rnn_pTau,\n",
    "        'pBkg' : rnn_pBkg,\n",
    "        'prongs' : prongs,\n",
    "    }"
   ]
  },
  {
   "cell_type": "code",
   "execution_count": 17,
   "metadata": {},
   "outputs": [
    {
     "data": {
      "text/plain": [
       "{'GN2TauA_trkClsWgt_noRNN': '/home/fiaccoda/ntuples/GNTau_samples/logs/GN2TauA_trkClsWgt_noRNN_20230927-T145302/ckpts/epoch=031-val_loss=0.05314__test_test.h5'}"
      ]
     },
     "execution_count": 17,
     "metadata": {},
     "output_type": "execute_result"
    }
   ],
   "source": [
    "networks"
   ]
  },
  {
   "cell_type": "code",
   "execution_count": 18,
   "metadata": {},
   "outputs": [
    {
     "name": "stderr",
     "output_type": "stream",
     "text": [
      "\u001b[32;21mINFO:puma: Calculate discriminants and rejection\u001b[0m\n"
     ]
    },
    {
     "name": "stdout",
     "output_type": "stream",
     "text": [
      "GN2TauA_trkClsWgt_noRNN /home/fiaccoda/ntuples/GNTau_samples/logs/GN2TauA_trkClsWgt_noRNN_20230927-T145302/ckpts/epoch=031-val_loss=0.05314__test_test.h5\n",
      "[('GN2TauA_trkClsWgt_noRNN_pu', '<f4'), ('GN2TauA_trkClsWgt_noRNN_pb', '<f4'), ('pt', '<f4'), ('absEta', '<f4'), ('HadronConeExclTruthLabelID', '<f4')]\n",
      "<HDF5 dataset \"jets\": shape (17400000,), type \"|V20\">\n"
     ]
    },
    {
     "name": "stderr",
     "output_type": "stream",
     "text": [
      "\u001b[32;21mINFO:puma: Calculate rejection\u001b[0m\n"
     ]
    }
   ],
   "source": [
    "logger.info(\"Calculate discriminants and rejection\")\n",
    "for key, val in networks.items():\n",
    "    print(key, val)\n",
    "    with h5py.File(val, 'r') as f:\n",
    "        #if key == 'GN2TauJ':\n",
    "            pt = f['jets']['pt'] / 1000\n",
    "            # tracks_pred = f['tracks'].fields(['0', '1', '2', '3', '4', '5', '6'])[:]\n",
    "            flav = f['jets']['HadronConeExclTruthLabelID']\n",
    "            is_tau = flav == 5\n",
    "            is_bkg = flav == 0\n",
    "            print(f['jets'][0].dtype)\n",
    "            if 'GN' in key:\n",
    "                print(f['jets'])\n",
    "                pTau = f['jets']['{}_pb'.format(key)]\n",
    "                pBkg = f['jets']['{}_pu'.format(key)]\n",
    "                discs = pTau\n",
    "                #discs = disc_fct(np.row_stack([pTau, pBkg])) #with log!!\n",
    "            # if key == 'GN2Tau' or key == 'GNtau':\n",
    "            #     pTau = f['jets']['GN2Tau_pb']\n",
    "            #     pBkg = f['jets']['GN2Tau_pu']\n",
    "            #     discs = pTau\n",
    "            #     #discs = disc_fct(np.row_stack([pTau, pBkg])) #with log!!\n",
    "            # if key == 'GNTauA':\n",
    "            #     pTau = f['jets']['GN2TauA_pb']\n",
    "            #     pBkg = f['jets']['GN2TauA_pu']\n",
    "            #     discs = pTau\n",
    "            #     #discs = disc_fct(np.row_stack([pTau, pBkg])) #with log!!\n",
    "            #     #print(discs, key)\n",
    "            # if key == 'GNTau_noAux' or key == 'GNtau_noAux':\n",
    "            #     pTau = f['jets']['GN2Tau_noAux_pb']\n",
    "            #     pBkg = f['jets']['GN2Tau_noAux_pu']\n",
    "            #     discs = pTau\n",
    "            #     #discs = disc_fct(np.row_stack([pTau, pBkg])) #with log!!\n",
    "            #     #print(discs, key)\n",
    "            # if key == 'GN2TauJ':\n",
    "            #     pTau = f['jets']['GN2TauJ_pb']\n",
    "            #     pBkg = f['jets']['GN2TauJ_pu']\n",
    "            #     discs = pTau\n",
    "            #     #discs = disc_fct(np.row_stack([pTau, pBkg]))\n",
    "            #     #print(discs, key)\n",
    "            # if key == 'GN2TauC':\n",
    "            #     pTau = f['jets']['GN2TauC_pb']\n",
    "            #     pBkg = f['jets']['GN2TauC_pu']\n",
    "            #     discs = pTau\n",
    "                #discs = disc_fct(np.row_stack([pTau, pBkg]))\n",
    "                #print(discs, key)\n",
    "            # # discs = pTau\n",
    "            # mask = (pt > 20) & (pt < 100)\n",
    "            # mask = (pt > 5)\n",
    "            #eta_mask = (jet_eta < 2.5) & ((jet_eta > 1.57) | (jet_eta < 1.37))\n",
    "            #mask = (pt > 20) & eta_mask #& ((n_tracks == 1) | (n_tracks == 3))# & (jet_pt < 100)\n",
    "            logger.info(\"Calculate rejection\")\n",
    "            rej = calc_rej(discs[is_tau & mask], discs[is_bkg & mask], sig_eff)\n",
    "\n",
    "            if apply_true_prongness:\n",
    "                rej_0 = calc_rej(discs[is_tau & mask & (prongs!=1) & (prongs!=3) & sig_mask_0], discs[is_bkg & mask & (prongs!=1) & (prongs!=3)], sig_eff)\n",
    "                rej_1 = calc_rej(discs[is_tau & mask & (prongs==1) & sig_mask_1],  discs[is_bkg & mask & (prongs==1)], sig_eff)\n",
    "                rej_3 = calc_rej(discs[is_tau & mask & (prongs==3) & sig_mask_3],  discs[is_bkg & mask & (prongs==3)], sig_eff)\n",
    "            else:\n",
    "                rej_0 = calc_rej(discs[is_tau & mask & (prongs!=1) & (prongs!=3)], discs[is_bkg & mask & (prongs!=1) & (prongs!=3)], sig_eff)\n",
    "                rej_1 = calc_rej(discs[is_tau & mask & (prongs==1)],               discs[is_bkg & mask & (prongs==1)], sig_eff)\n",
    "                rej_3 = calc_rej(discs[is_tau & mask & (prongs==3)],               discs[is_bkg & mask & (prongs==3)], sig_eff)\n",
    "            #print((mask & (jet_pt > 20) & is_bkg & (prongs == 3)).sum())\n",
    "            results[key] = {\n",
    "                    'sig_eff' : sig_eff,\n",
    "                    'disc' : discs,\n",
    "                    'rej' : rej,\n",
    "                    'rej_0' : rej_0,\n",
    "                    'rej_1' : rej_1,\n",
    "                    'rej_3' : rej_3,\n",
    "                    'pTau' : pTau,\n",
    "                    'pBkg' : pBkg,\n",
    "                }\n",
    "\n"
   ]
  },
  {
   "cell_type": "code",
   "execution_count": 19,
   "metadata": {},
   "outputs": [],
   "source": [
    "### Reorder for the sake of order on ROC curves\n",
    "network_names = list(networks.keys())\n",
    "\n",
    "for network in network_names:\n",
    "    new_key = network.replace('GN2', 'GN')\n",
    "    new_key = new_key.replace('Tau', 'tau')\n",
    "    new_key = new_key.replace('auA', 'au')\n",
    "    new_key = new_key.replace('_trkClsWgt', '')\n",
    "    networks[new_key] = networks.pop(network)\n",
    "    results[new_key] = results.pop(network)"
   ]
  },
  {
   "cell_type": "markdown",
   "metadata": {},
   "source": [
    "# ROC curves"
   ]
  },
  {
   "cell_type": "code",
   "execution_count": 20,
   "metadata": {},
   "outputs": [],
   "source": [
    "indices = list(range(0, len(sig_eff), 2)) + [len(sig_eff) - 1]\n",
    "#indices"
   ]
  },
  {
   "cell_type": "markdown",
   "metadata": {},
   "source": [
    "### Using sklearn plotting functions"
   ]
  },
  {
   "cell_type": "code",
   "execution_count": 21,
   "metadata": {},
   "outputs": [],
   "source": [
    "import numpy as np\n",
    "import matplotlib.pyplot as plt\n",
    "\n",
    "def plot_multiple_roc_curves(signal_efficiencies_list, background_rejections_list, labels, save_path=\"roc_curves.png\"):\n",
    "    \"\"\"\n",
    "    Plot multiple ROC curves in the same figure with log scale and a subplot showing the ratio.\n",
    "\n",
    "    Parameters:\n",
    "    - signal_efficiencies_list: List of NumPy arrays representing signal efficiency values for each curve.\n",
    "    - background_rejections_list: List of NumPy arrays representing background rejection values for each curve.\n",
    "    - labels: List of labels for each curve.\n",
    "    - save_path: Path to save the ROC curves plot. Default is \"roc_curves.png\".\n",
    "    \"\"\"\n",
    "    # Check if the input lists have the same length\n",
    "    if len(signal_efficiencies_list) != len(background_rejections_list) or len(signal_efficiencies_list) != len(labels):\n",
    "        raise ValueError(\"Input lists must have the same length.\")\n",
    "\n",
    "    # Create a new figure\n",
    "    fig, (roc_ax, ratio_ax) = plt.subplots(nrows=2, figsize=(8, 12))\n",
    "    \n",
    "    # Plot ROC curves\n",
    "    for i in range(len(signal_efficiencies_list)):\n",
    "        auc = np.trapz(signal_efficiencies_list[i], background_rejections_list[i])\n",
    "        roc_ax.plot( signal_efficiencies_list[i], background_rejections_list[i], label=f'{labels[i]} (AUC = {auc:.2f}')\n",
    "\n",
    "    roc_ax.set_title('ROC Curves')\n",
    "    roc_ax.set_xlabel('Signal Efficiency ')\n",
    "    roc_ax.set_ylabel('Background Rejection (log scale)')\n",
    "    roc_ax.set_yscale('log')\n",
    "    roc_ax.legend(loc='lower left')\n",
    "    roc_ax.grid(True)\n",
    "\n",
    "    # Plot ratio of signal efficiency to background rejection\n",
    "    for i in range(0, len(signal_efficiencies_list)):\n",
    "        ratio = background_rejections_list[i] / background_rejections_list[0]\n",
    "        ratio_auc = np.trapz(ratio, background_rejections_list[i])\n",
    "        ratio_ax.plot(signal_efficiencies_list[i], ratio, label=f'{labels[i]} / {labels[0]} (AUC = {ratio_auc:.2f}')\n",
    "\n",
    "    # Print the ratio at specific signal values\n",
    "    WP = [0.45, 0.60, 0.75, 0.85]\n",
    "    for wp in WP:\n",
    "        for i in range(len(signal_efficiencies_list)):\n",
    "            index = np.argmin(np.abs(signal_efficiencies_list[i] - wp))\n",
    "            print(f'{labels[i]} / {labels[0]} Ratio at Signal={wp}: {ratio[index]:.2f}')\n",
    "\n",
    "    ratio_ax.set_title('Ratio of Background Rejections')\n",
    "    ratio_ax.set_xlabel('Signal Efficiency')\n",
    "    ratio_ax.set_ylabel('Signal Efficiency / Background Rejection')\n",
    "    #ratio_ax.set_xscale('log')\n",
    "    ratio_ax.legend(loc='upper right')\n",
    "    ratio_ax.grid(True)\n",
    "\n",
    "    # Save the plot\n",
    "    plt.savefig(save_path)\n",
    "    print(f\"ROC curves plot saved at: {save_path}\")"
   ]
  },
  {
   "cell_type": "code",
   "execution_count": 22,
   "metadata": {},
   "outputs": [
    {
     "name": "stdout",
     "output_type": "stream",
     "text": [
      "RNN / RNN Ratio at Signal=0.45: 32.99\n",
      "GNtau / RNN Ratio at Signal=0.45: 32.99\n",
      "RNN / RNN Ratio at Signal=0.6: 21.73\n",
      "GNtau / RNN Ratio at Signal=0.6: 21.73\n",
      "RNN / RNN Ratio at Signal=0.75: 13.77\n",
      "GNtau / RNN Ratio at Signal=0.75: 13.77\n",
      "RNN / RNN Ratio at Signal=0.85: 10.17\n",
      "GNtau / RNN Ratio at Signal=0.85: 10.17\n",
      "ROC curves plot saved at: roc_curves.png\n"
     ]
    },
    {
     "data": {
      "image/png": "[encoded data removed]",
      "text/plain": [
       "<Figure size 576x864 with 2 Axes>"
      ]
     },
     "metadata": {},
     "output_type": "display_data"
    }
   ],
   "source": [
    "# Example usage:\n",
    "# Replace the arrays below with your actual signal efficiency and background rejection arrays.\n",
    "#signal_efficiencies_list = [\n",
    "#    np.array([0.2, 0.4, 0.6, 0.8, 1.0]),\n",
    "#    np.array([0.3, 0.5, 0.7, 0.9, 1.0])\n",
    "#]\n",
    "\n",
    "#background_rejections_list = [\n",
    "#    np.array([0.9, 0.7, 0.5, 0.3, 0.1]),\n",
    "#    np.array([0.8, 0.6, 0.4, 0.2, 0.1])\n",
    "#]\n",
    "\n",
    "labels = [\"RNN\", \"GNtau\"]\n",
    "\n",
    "plot_multiple_roc_curves([ sig_eff[indices], sig_eff[indices] ], [ results['RNN'][f'rej_1'][indices], results['GNtau_noRNN'][f'rej_1'][indices]], labels)"
   ]
  },
  {
   "cell_type": "markdown",
   "metadata": {},
   "source": [
    "### RNN-only"
   ]
  },
  {
   "cell_type": "code",
   "execution_count": 23,
   "metadata": {},
   "outputs": [
    {
     "name": "stderr",
     "output_type": "stream",
     "text": [
      "\u001b[33;21mWARNING:puma: You specified a different linestyle for the same rejection class qcd. Will keep the linestyle defined first.\u001b[0m\n"
     ]
    },
    {
     "data": {
      "image/png": "[encoded data removed]",
      "text/plain": [
       "<Figure size 432x288 with 1 Axes>"
      ]
     },
     "metadata": {},
     "output_type": "display_data"
    }
   ],
   "source": [
    "##plot only RNN for 1/3 prong\n",
    "\n",
    "plot_roc = RocPlot(\n",
    "        n_ratio_panels=1,\n",
    "        ylabel=\"Background rejection\",\n",
    "        xlabel=\"$\\\\tau$-jet efficiency\",\n",
    "        atlas_second_tag=\"$\\\\sqrt{s}=13$\" + \" TeV\\n$p_\\mathrm{T} > \" + str(jet_pt_min) + \"$ GeV\",\n",
    "        figsize=(6.5, 6),\n",
    "        y_scale=1.4,\n",
    "    )\n",
    "\n",
    "plot_roc.add_roc(\n",
    "    Roc(\n",
    "        sig_eff[indices],\n",
    "        results['RNN'][f'rej_1'][indices],\n",
    "        n_test=np.sum(is_bkg & mask & (prongs==1)),\n",
    "        rej_class=\"qcd\",\n",
    "        signal_class='$\\\\tau$-jets',\n",
    "        label=f\"{'RNN (1-prong)'}\",\n",
    "        colour='red',\n",
    "    ),\n",
    "    reference=True,\n",
    ")\n",
    "\n",
    "plot_roc.add_roc(\n",
    "    Roc(\n",
    "        sig_eff[indices],\n",
    "        results['RNN'][f'rej_3'][indices],\n",
    "        n_test=np.sum(is_bkg & mask & (prongs==3)),\n",
    "        rej_class=\"qcd\",\n",
    "        signal_class='$\\\\tau$-jets',\n",
    "        label=f\"{'RNN (3-prong)'}\",\n",
    "        colour='steelblue',\n",
    "        linestyle='dashed',\n",
    "    ),\n",
    "    reference=False,\n",
    ")\n",
    "\n",
    "# setting which flavour rejection ratio is drawn in which ratio panel\n",
    "plot_roc.set_ratio_class(1, \"qcd\")\n",
    "#plot_roc.set_leg_rej_labels(\"qcd\", \"Background rejection\")\n",
    "plot_roc.draw()\n",
    "plot_roc.savefig(f\"RNN_tau_both.png\", transparent=False)"
   ]
  },
  {
   "cell_type": "code",
   "execution_count": 24,
   "metadata": {
    "scrolled": true
   },
   "outputs": [
    {
     "data": {
      "text/plain": [
       "array([2.79201026e+03, 2.36713913e+03, 2.02771695e+03, 1.78505574e+03,\n",
       "       1.59894860e+03, 1.38888265e+03, 1.23596368e+03, 1.09545674e+03,\n",
       "       9.86307971e+02, 8.75308682e+02, 7.70618542e+02, 6.79702871e+02,\n",
       "       6.04264151e+02, 5.42813559e+02, 4.87196421e+02, 4.30388933e+02,\n",
       "       3.85309271e+02, 3.45020279e+02, 3.09958440e+02, 2.81729366e+02,\n",
       "       2.55666588e+02, 2.31529662e+02, 2.09280031e+02, 1.87803380e+02,\n",
       "       1.67443334e+02, 1.51697409e+02, 1.36383267e+02, 1.22484139e+02,\n",
       "       1.10839169e+02, 1.00035278e+02, 9.04238499e+01, 8.18340598e+01,\n",
       "       7.37376583e+01, 6.63710837e+01, 5.94921051e+01, 5.34710273e+01,\n",
       "       4.78483104e+01, 4.27465944e+01, 3.80329724e+01, 3.36792552e+01,\n",
       "       2.97794065e+01, 2.61110738e+01, 2.28224938e+01, 1.97175866e+01,\n",
       "       1.68518765e+01, 1.41772541e+01, 1.16132762e+01, 9.14928621e+00,\n",
       "       6.61907396e+00, 3.52005741e+00, 1.00151393e+00])"
      ]
     },
     "execution_count": 24,
     "metadata": {},
     "output_type": "execute_result"
    }
   ],
   "source": [
    "results['RNN'][f'rej_3'][indices]"
   ]
  },
  {
   "cell_type": "code",
   "execution_count": 25,
   "metadata": {},
   "outputs": [
    {
     "data": {
      "text/plain": [
       "array([0.2       , 0.21616162, 0.23232323, 0.24848485, 0.26464646,\n",
       "       0.28080808, 0.2969697 , 0.31313131, 0.32929293, 0.34545455,\n",
       "       0.36161616, 0.37777778, 0.39393939, 0.41010101, 0.42626263,\n",
       "       0.44242424, 0.45858586, 0.47474747, 0.49090909, 0.50707071,\n",
       "       0.52323232, 0.53939394, 0.55555556, 0.57171717, 0.58787879,\n",
       "       0.6040404 , 0.62020202, 0.63636364, 0.65252525, 0.66868687,\n",
       "       0.68484848, 0.7010101 , 0.71717172, 0.73333333, 0.74949495,\n",
       "       0.76565657, 0.78181818, 0.7979798 , 0.81414141, 0.83030303,\n",
       "       0.84646465, 0.86262626, 0.87878788, 0.89494949, 0.91111111,\n",
       "       0.92727273, 0.94343434, 0.95959596, 0.97575758, 0.99191919,\n",
       "       1.        ])"
      ]
     },
     "execution_count": 25,
     "metadata": {},
     "output_type": "execute_result"
    }
   ],
   "source": [
    "sig_eff[indices]"
   ]
  },
  {
   "cell_type": "code",
   "execution_count": 26,
   "metadata": {},
   "outputs": [
    {
     "data": {
      "text/plain": [
       "Roc(xmin=None, xmax=None, colour='steelblue', label='RNN (3-prong)', linestyle='dashed', linewidth=None, alpha=None, marker=None, markersize=None, markeredgewidth=None, is_marker=None)"
      ]
     },
     "execution_count": 26,
     "metadata": {},
     "output_type": "execute_result"
    }
   ],
   "source": [
    "Roc(\n",
    "        sig_eff[indices],\n",
    "        results['RNN'][f'rej_3'][indices],\n",
    "        n_test=np.sum(is_bkg & mask & (prongs==3)),\n",
    "        rej_class=\"qcd\",\n",
    "        signal_class='$\\\\tau$-jets',\n",
    "        label=f\"{'RNN (3-prong)'}\",\n",
    "        colour='steelblue',\n",
    "        linestyle='dashed',\n",
    "    )"
   ]
  },
  {
   "cell_type": "markdown",
   "metadata": {},
   "source": [
    "### 1-prong"
   ]
  },
  {
   "cell_type": "code",
   "execution_count": 27,
   "metadata": {},
   "outputs": [
    {
     "data": {
      "image/png": "[encoded data removed]",
      "text/plain": [
       "<Figure size 432x288 with 1 Axes>"
      ]
     },
     "metadata": {},
     "output_type": "display_data"
    }
   ],
   "source": [
    "\n",
    "plot_roc = RocPlot(\n",
    "        n_ratio_panels=1,\n",
    "        ylabel=\"Background rejection\",\n",
    "        xlabel=\"$\\\\tau$-jet efficiency\",\n",
    "        atlas_second_tag=\"$\\\\sqrt{s}=13$ TeV\\n1-prong\\n$p_\\mathrm{T} > \" + str(jet_pt_min) + \"$ GeV\",\n",
    "        figsize=(6.5, 6),\n",
    "        y_scale=1.4,\n",
    "    )\n",
    "\n",
    "for network in results.keys():\n",
    "\n",
    "    # if network not in ['RNN','GNtau_noRNN']:\n",
    "    #     continue\n",
    "\n",
    "    lab = network\n",
    "    if '_' in lab:\n",
    "        if 'noAux' in lab:\n",
    "            lab = lab.split('_')[0] + '_noAux'\n",
    "        else:\n",
    "            lab = lab.split('_')[0]\n",
    "\n",
    "    plot_roc.add_roc(\n",
    "        Roc(\n",
    "            sig_eff[indices],\n",
    "            results[network]['rej_1'][indices],\n",
    "            n_test=np.sum(is_bkg & mask & (prongs==1)),\n",
    "            rej_class=\"qcd\",\n",
    "            signal_class='$\\\\tau$-jets',\n",
    "            label=lab,\n",
    "        ),\n",
    "        reference=(reference == network),\n",
    "    )\n",
    "# setting which flavour rejection ratio is drawn in which ratio panel\n",
    "plot_roc.set_ratio_class(1, \"qcd\")\n",
    "# plot_roc.set_leg_rej_labels(\"qcd\", \"Background rejection\")\n",
    "plot_roc.draw()\n",
    "plot_roc.savefig(f\"All_tau_1.png\", transparent=False)"
   ]
  },
  {
   "cell_type": "markdown",
   "metadata": {},
   "source": [
    "### 3-prong"
   ]
  },
  {
   "cell_type": "code",
   "execution_count": 38,
   "metadata": {
    "scrolled": false
   },
   "outputs": [
    {
     "data": {
      "image/png": "[encoded data removed]",
      "text/plain": [
       "<Figure size 432x288 with 1 Axes>"
      ]
     },
     "metadata": {},
     "output_type": "display_data"
    }
   ],
   "source": [
    "plot_roc = RocPlot(\n",
    "        n_ratio_panels=1,\n",
    "        ylabel=\"Background rejection\",\n",
    "        xlabel=\"$\\\\tau$-jet efficiency\",\n",
    "        atlas_second_tag=\"$\\\\sqrt{s}=13$ TeV\\n3-prong\\n$p_\\mathrm{T} > \" + str(jet_pt_min) + \"$ GeV\",\n",
    "        figsize=(6.5, 6),\n",
    "        y_scale=1.4,\n",
    "    )\n",
    "\n",
    "for network in results.keys():\n",
    "\n",
    "    # if network not in ['RNN','GNtau_noRNN']:\n",
    "    #     continue\n",
    "\n",
    "    lab = network\n",
    "    if '_' in lab:\n",
    "        if 'noAux' in lab:\n",
    "            lab = lab.split('_')[0] + '_noAux'\n",
    "        else:\n",
    "            lab = lab.split('_')[0]\n",
    "\n",
    "    plot_roc.add_roc(\n",
    "        Roc(\n",
    "            sig_eff[indices],\n",
    "            results[network]['rej_3'][indices],\n",
    "            n_test=np.sum(is_bkg & mask & (prongs==3)),\n",
    "            rej_class=\"qcd\",\n",
    "            signal_class='$\\\\tau$-jets',\n",
    "            label=lab,\n",
    "        ),\n",
    "        reference=(reference == network),\n",
    "    )\n",
    "# setting which flavour rejection ratio is drawn in which ratio panel\n",
    "plot_roc.set_ratio_class(1, \"qcd\")\n",
    "# plot_roc.set_leg_rej_labels(\"qcd\", \"Background rejection\")\n",
    "plot_roc.draw()\n",
    "plot_roc.savefig(f\"All_tau_3.png\", transparent=False)"
   ]
  },
  {
   "cell_type": "code",
   "execution_count": 39,
   "metadata": {},
   "outputs": [
    {
     "data": {
      "text/plain": [
       "array([ True,  True,  True,  True,  True,  True,  True,  True,  True,\n",
       "        True,  True,  True,  True,  True,  True,  True,  True,  True,\n",
       "        True,  True,  True,  True,  True,  True,  True,  True,  True,\n",
       "        True,  True,  True,  True,  True,  True,  True,  True,  True,\n",
       "        True,  True,  True,  True,  True,  True,  True,  True,  True,\n",
       "        True,  True,  True,  True,  True,  True])"
      ]
     },
     "execution_count": 39,
     "metadata": {},
     "output_type": "execute_result"
    }
   ],
   "source": [
    "np.isfinite( results[network]['rej_3'][indices] )"
   ]
  },
  {
   "cell_type": "code",
   "execution_count": 40,
   "metadata": {},
   "outputs": [
    {
     "data": {
      "text/plain": [
       "array([6.04935556e+04, 4.73427826e+04, 4.03290370e+04, 3.62961333e+04,\n",
       "       2.79201026e+04, 2.41974222e+04, 2.17776800e+04, 2.05449811e+04,\n",
       "       1.75626452e+04, 1.62520000e+04, 1.39600513e+04, 1.20987111e+04,\n",
       "       1.11110612e+04, 9.80976577e+03, 8.37603077e+03, 7.56169444e+03,\n",
       "       6.80552500e+03, 6.08315084e+03, 5.55553061e+03, 4.81807080e+03,\n",
       "       4.28694488e+03, 3.82064561e+03, 3.41342947e+03, 3.09342045e+03,\n",
       "       2.68198030e+03, 2.29238737e+03, 2.05062900e+03, 1.79980826e+03,\n",
       "       1.57809275e+03, 1.39779718e+03, 1.19264403e+03, 1.05003279e+03,\n",
       "       9.29081911e+02, 8.09579182e+02, 7.10759791e+02, 6.12076447e+02,\n",
       "       5.28327996e+02, 4.51257356e+02, 3.85172975e+02, 3.30164948e+02,\n",
       "       2.76999237e+02, 2.31185563e+02, 1.89701045e+02, 1.53342346e+02,\n",
       "       1.21690210e+02, 9.35386994e+01, 6.81446899e+01, 4.44043716e+01,\n",
       "       2.07608153e+01, 2.13324295e+00])"
      ]
     },
     "execution_count": 40,
     "metadata": {},
     "output_type": "execute_result"
    }
   ],
   "source": [
    "results[network]['rej_3'][indices][1:]"
   ]
  },
  {
   "cell_type": "markdown",
   "metadata": {},
   "source": [
    "# Compute location of working points"
   ]
  },
  {
   "cell_type": "code",
   "execution_count": 41,
   "metadata": {},
   "outputs": [],
   "source": [
    "def get_disc_cut_for_given_eff(target_eff, disc):\n",
    "    cut = np.percentile(disc, 100.0 * (1.0 - target_eff))\n",
    "    return cut"
   ]
  },
  {
   "cell_type": "code",
   "execution_count": 42,
   "metadata": {},
   "outputs": [],
   "source": [
    "WP_1p = {\n",
    "    'Tight': 0.60,\n",
    "    'Medium': 0.75,\n",
    "    'Loose': 0.85,\n",
    "}\n",
    "\n",
    "WP_3p = {\n",
    "    'Tight': 0.45,\n",
    "    'Medium': 0.60,\n",
    "    'Loose': 0.75,\n",
    "}\n",
    "\n",
    "prongness = {'1 prongs':[(prongs==1) ,sig_mask_1, WP_1p, 1], '3 prongs' : [(prongs==3), sig_mask_3, WP_3p, 3]}"
   ]
  },
  {
   "cell_type": "code",
   "execution_count": 43,
   "metadata": {},
   "outputs": [],
   "source": [
    "disc_1p_GNN = results['GNtau_noRNN']['disc'][is_tau & mask & (prongs==1)]\n",
    "disc_cut_1p_GNN = {key: get_disc_cut_for_given_eff(val, disc_1p_GNN) for key, val in WP_1p.items()}\n",
    "\n",
    "disc_3p_GNN = results['GNtau_noRNN']['disc'][is_tau & mask & (prongs==3)]\n",
    "disc_cut_3p_GNN = {key: get_disc_cut_for_given_eff(val, disc_3p_GNN) for key, val in WP_3p.items()}\n",
    "\n",
    "disc_1p_RNN = results['RNN']['disc'][is_tau & mask & (prongs==1)]\n",
    "disc_cut_1p_RNN = {key: get_disc_cut_for_given_eff(val, disc_1p_RNN) for key, val in WP_1p.items()}\n",
    "\n",
    "disc_3p_RNN = results['RNN']['disc'][is_tau & mask & (prongs==3)]\n",
    "disc_cut_3p_RNN = {key: get_disc_cut_for_given_eff(val, disc_3p_RNN) for key, val in WP_3p.items()}"
   ]
  },
  {
   "cell_type": "code",
   "execution_count": 44,
   "metadata": {},
   "outputs": [
    {
     "name": "stdout",
     "output_type": "stream",
     "text": [
      "1-prong GNN\n",
      "{'Tight': 0.9985194802284241, 'Medium': 0.9946849346160889, 'Loose': 0.9853282034397125}\n",
      "3-prong GNN\n",
      "{'Tight': 0.9994021713733673, 'Medium': 0.9979666948318482, 'Loose': 0.9917172491550446}\n"
     ]
    }
   ],
   "source": [
    "print('1-prong GNN')\n",
    "print(disc_cut_1p_GNN)\n",
    "print('3-prong GNN')\n",
    "print(disc_cut_3p_GNN)"
   ]
  },
  {
   "cell_type": "code",
   "execution_count": 45,
   "metadata": {},
   "outputs": [
    {
     "name": "stdout",
     "output_type": "stream",
     "text": [
      "1-prong RNN\n",
      "{'Tight': 0.3765916228294373, 'Medium': 0.22361939400434494, 'Loose': 0.12607046440243722}\n",
      "3-prong RNN\n",
      "{'Tight': 0.5425655215978623, 'Medium': 0.38872227072715765, 'Loose': 0.23510169610381126}\n"
     ]
    }
   ],
   "source": [
    "print('1-prong RNN')\n",
    "print(disc_cut_1p_RNN)\n",
    "print('3-prong RNN')\n",
    "print(disc_cut_3p_RNN)"
   ]
  },
  {
   "cell_type": "code",
   "execution_count": 46,
   "metadata": {},
   "outputs": [
    {
     "data": {
      "image/png": "[encoded data removed]",
      "text/plain": [
       "<Figure size 1200x900 with 1 Axes>"
      ]
     },
     "metadata": {},
     "output_type": "display_data"
    },
    {
     "name": "stdout",
     "output_type": "stream",
     "text": [
      "1909158\n"
     ]
    }
   ],
   "source": [
    "prong_choice = 1\n",
    "\n",
    "fig, ax = plt.subplots(1, 1, figsize=(8, 6), dpi=150)\n",
    "ax.hist(results['RNN']['disc'][is_tau & mask & (prongs==prong_choice)], histtype='step', density=True,         range=(0,1), bins=20, color='red', label='Sig (RNN)')\n",
    "ax.hist(results['RNN']['disc'][is_bkg & mask & (prongs==prong_choice)], histtype='step', density=True,         range=(0,1), bins=20, color='blue', label='Bkg (RNN)')\n",
    "ax.hist(results['GNtau_noRNN']['disc'][is_tau & mask & (prongs==prong_choice)], histtype='step', density=True, range=(0,1), bins=20, color='red', linestyle=('dashed'), label='Sig (GNtau)')\n",
    "ax.hist(results['GNtau_noRNN']['disc'][is_bkg & mask & (prongs==prong_choice)], histtype='step', density=True, range=(0,1), bins=20, color='blue', linestyle=('dashed'), label='Bkg (GNtau)')\n",
    "ax.text(0.15, 15.0, f'{prong_choice}-prong selection', fontsize=11)\n",
    "ax.set_xlabel('p(Tau) discriminant')\n",
    "ax.set_ylabel('Normalized')\n",
    "ax.legend(loc='upper center', bbox_to_anchor=(0.65, 0.98), ncol=2, fancybox=False, shadow=False)\n",
    "plt.yscale('log')\n",
    "plt.savefig(f'discriminants_{prong_choice}p.png', transparent=False)\n",
    "plt.show()\n",
    "print( len( results['RNN']['disc'][is_tau & mask & (prongs==prong_choice)] ))"
   ]
  },
  {
   "cell_type": "code",
   "execution_count": 47,
   "metadata": {},
   "outputs": [
    {
     "name": "stdout",
     "output_type": "stream",
     "text": [
      "1-prong Tight (60.0% sig. eff.) \n",
      "RNN 30.02998512277017\n",
      "GNN 669.3882193104678\n",
      "GNN/RNN 22.29066103675508\n",
      "1-prong Medium (75.0% sig. eff.) \n",
      "RNN 15.454065673643319\n",
      "GNN 212.40130738535242\n",
      "GNN/RNN 13.744040686173589\n",
      "1-prong Loose (85.0% sig. eff.) \n",
      "RNN 9.444806141044813\n",
      "GNN 96.17145378906508\n",
      "GNN/RNN 10.182469851988545\n",
      "3-prong Tight (45.0% sig. eff.) \n",
      "RNN 407.6366239246856\n",
      "GNN 7961.927869278599\n",
      "GNN/RNN 19.53192476333931\n",
      "3-prong Medium (60.0% sig. eff.) \n",
      "RNN 159.41375620101823\n",
      "GNN 2890.456278406113\n",
      "GNN/RNN 18.13178703826095\n",
      "3-prong Loose (75.0% sig. eff.) \n",
      "RNN 59.54901576741923\n",
      "GNN 811.018829367454\n",
      "GNN/RNN 13.61934901720379\n"
     ]
    }
   ],
   "source": [
    "### Get rejection values at the working points\n",
    "\n",
    "for WP, eff in WP_1p.items():\n",
    "    print(f'1-prong {WP} ({eff*100}% sig. eff.) ')\n",
    "    ### get closest value to the working point\n",
    "    idx = (np.abs(sig_eff - WP_1p[WP])).argmin()\n",
    "    rej_1p_RNN = (results['RNN']['rej_1'][idx] + results['RNN']['rej_1'][idx+1] + results['RNN']['rej_1'][idx-1])/3\n",
    "    rej_1p_GNN = (results['GNtau_noRNN']['rej_1'][idx] + results['GNtau_noRNN']['rej_1'][idx+1] + results['GNtau_noRNN']['rej_1'][idx-1])/3\n",
    "    print('RNN', rej_1p_RNN)\n",
    "    print('GNN', rej_1p_GNN)\n",
    "    print('GNN/RNN', rej_1p_GNN/rej_1p_RNN)\n",
    "\n",
    "for WP, eff in WP_3p.items():\n",
    "    print(f'3-prong {WP} ({eff*100}% sig. eff.) ')\n",
    "    ### get closest value to the working point\n",
    "    idx = (np.abs(sig_eff - WP_3p[WP])).argmin()\n",
    "    rej_3p_RNN = (results['RNN']['rej_3'][idx] + results['RNN']['rej_3'][idx+1] + results['RNN']['rej_3'][idx-1])/3\n",
    "    rej_3p_GNN = (results['GNtau_noRNN']['rej_3'][idx] + results['GNtau_noRNN']['rej_3'][idx+1] + results['GNtau_noRNN']['rej_3'][idx-1])/3\n",
    "    print('RNN', rej_3p_RNN)\n",
    "    print('GNN', rej_3p_GNN)\n",
    "    print('GNN/RNN', rej_3p_GNN/rej_3p_RNN)"
   ]
  },
  {
   "cell_type": "code",
   "execution_count": 48,
   "metadata": {},
   "outputs": [
    {
     "ename": "SyntaxError",
     "evalue": "invalid syntax (2039464001.py, line 1)",
     "output_type": "error",
     "traceback": [
      "\u001b[0;36m  Input \u001b[0;32mIn [48]\u001b[0;36m\u001b[0m\n\u001b[0;31m    1-prong Tight (60.0% sig. eff.)\u001b[0m\n\u001b[0m            ^\u001b[0m\n\u001b[0;31mSyntaxError\u001b[0m\u001b[0;31m:\u001b[0m invalid syntax\n"
     ]
    }
   ],
   "source": [
    "1-prong Tight (60.0% sig. eff.) \n",
    "RNN 29.432143829835113\n",
    "GNN 4556.244911242604\n",
    "GNN/RNN 154.80506406821706\n",
    "1-prong Medium (75.0% sig. eff.) \n",
    "RNN 15.119255905896406\n",
    "GNN 1171.970121309811\n",
    "GNN/RNN 77.51506612522847\n",
    "1-prong Loose (85.0% sig. eff.) \n",
    "RNN 9.184713584731917\n",
    "GNN 473.6670970452461\n",
    "GNN/RNN 51.57124309598942\n",
    "\n",
    "3-prong Tight (45.0% sig. eff.) \n",
    "RNN 412.9622171899018\n",
    "GNN 11064.684294871795\n",
    "GNN/RNN 26.793454302342795\n",
    "3-prong Medium (60.0% sig. eff.) \n",
    "RNN 156.83721950574176\n",
    "GNN 4031.7068452380954\n",
    "GNN/RNN 25.706314215105657\n",
    "3-prong Loose (75.0% sig. eff.) \n",
    "RNN 57.0559040568416\n",
    "GNN 1050.6387532326592\n",
    "GNN/RNN 18.41419868110348"
   ]
  },
  {
   "cell_type": "code",
   "execution_count": 60,
   "metadata": {},
   "outputs": [],
   "source": [
    "from puma import IntegratedEfficiency, IntegratedEfficiencyPlot"
   ]
  },
  {
   "cell_type": "code",
   "execution_count": 61,
   "metadata": {},
   "outputs": [],
   "source": [
    "# here the plotting of the Integrated Efficiency curves starts\n",
    "plot = IntegratedEfficiencyPlot(\n",
    "    ylabel=\"Integrated efficiency\",\n",
    "    xlabel=\"Discriminant\",\n",
    "    #atlas_second_tag=\"$\\\\sqrt{s}=13$ TeV, dummy jets \\ndummy sample, $f_{c}=0.018$\",\n",
    "    figsize=(6.5, 6),\n",
    "    y_scale=1.4,\n",
    ")\n",
    "for key, val in networks.items():\n",
    "\n",
    "    plot.add(\n",
    "        IntegratedEfficiency(\n",
    "            results[key]['disc'][is_tau & mask & (prongs==3)], \n",
    "            results[key]['disc'][is_tau & mask & (prongs==3)],\n",
    "            tagger=key\n",
    "        )\n",
    "    )"
   ]
  },
  {
   "cell_type": "code",
   "execution_count": 62,
   "metadata": {},
   "outputs": [
    {
     "name": "stderr",
     "output_type": "stream",
     "text": [
      "/home/fiaccoda/.local/lib/python3.8/site-packages/puma/integrated_eff.py:215: UserWarning: The handle <matplotlib.lines.Line2D object at 0x7f247130c940> has a label of '_child0' which cannot be automatically added to the legend.\n",
      "  self.axis_top.legend(\n"
     ]
    },
    {
     "data": {
      "image/png": "[encoded data removed]",
      "text/plain": [
       "<Figure size 432x288 with 1 Axes>"
      ]
     },
     "metadata": {},
     "output_type": "display_data"
    }
   ],
   "source": [
    "plot.draw()\n",
    "plot.savefig(\"integrated_efficiency.png\", transparent=False)"
   ]
  },
  {
   "cell_type": "markdown",
   "metadata": {},
   "source": [
    "# Efficiency/rejection vs. pT"
   ]
  },
  {
   "cell_type": "code",
   "execution_count": 63,
   "metadata": {},
   "outputs": [],
   "source": [
    "import numpy as np\n",
    "\n",
    "from puma import VarVsEff, VarVsEffPlot\n",
    "from puma.utils import get_dummy_2_taggers, logger"
   ]
  },
  {
   "cell_type": "code",
   "execution_count": 64,
   "metadata": {},
   "outputs": [],
   "source": [
    "rej_pt_bins = np.logspace(np.log10(jet_pt_min),np.log10(2000),8)\n",
    "#rej_pt_bins = np.concatenate((np.logspace(np.log10(jet_pt_min),np.log10(100),10)[:-1], np.logspace(np.log10(100),np.log10(2000),4)))"
   ]
  },
  {
   "cell_type": "code",
   "execution_count": 1,
   "metadata": {},
   "outputs": [
    {
     "ename": "NameError",
     "evalue": "name 'prongness' is not defined",
     "output_type": "error",
     "traceback": [
      "\u001b[0;31m---------------------------------------------------------------------------\u001b[0m",
      "\u001b[0;31mNameError\u001b[0m                                 Traceback (most recent call last)",
      "Input \u001b[0;32mIn [1]\u001b[0m, in \u001b[0;36m<cell line: 1>\u001b[0;34m()\u001b[0m\n\u001b[1;32m      1\u001b[0m \u001b[38;5;28;01mfor\u001b[39;00m WP_name \u001b[38;5;129;01min\u001b[39;00m [\u001b[38;5;124m'\u001b[39m\u001b[38;5;124mTight\u001b[39m\u001b[38;5;124m'\u001b[39m, \u001b[38;5;124m'\u001b[39m\u001b[38;5;124mMedium\u001b[39m\u001b[38;5;124m'\u001b[39m, \u001b[38;5;124m'\u001b[39m\u001b[38;5;124mLoose\u001b[39m\u001b[38;5;124m'\u001b[39m]:\n\u001b[0;32m----> 3\u001b[0m     \u001b[38;5;28;01mfor\u001b[39;00m p_num, sigi, eff, prong \u001b[38;5;129;01min\u001b[39;00m \u001b[43mprongness\u001b[49m\u001b[38;5;241m.\u001b[39mvalues():\n\u001b[1;32m      5\u001b[0m         \u001b[38;5;28;01mif\u001b[39;00m \u001b[38;5;129;01mnot\u001b[39;00m apply_true_prongness:\n\u001b[1;32m      6\u001b[0m             sigi \u001b[38;5;241m=\u001b[39m np\u001b[38;5;241m.\u001b[39mones_like(sigi)\u001b[38;5;241m.\u001b[39mastype(\u001b[38;5;28mbool\u001b[39m)\n",
      "\u001b[0;31mNameError\u001b[0m: name 'prongness' is not defined"
     ]
    }
   ],
   "source": [
    "for WP_name in ['Tight', 'Medium', 'Loose']:\n",
    "\n",
    "    for p_num, sigi, eff, prong in prongness.values():\n",
    "\n",
    "        if not apply_true_prongness:\n",
    "            sigi = np.ones_like(sigi).astype(bool)\n",
    "\n",
    "        plot_sig_eff = VarVsEffPlot(\n",
    "            mode=\"sig_eff\",\n",
    "            ylabel=\"$Tau$-jets efficiency\",\n",
    "            xlabel=r\"$p_{T}$ [GeV]\",\n",
    "            logy=False,\n",
    "            atlas_second_tag=\"$\\\\sqrt{s}=13$ TeV, \" + \"{}-prong\".format(prong) ,\n",
    "            n_ratio_panels=1,\n",
    "            ymin=0,\n",
    "            ymax=1.6\n",
    "        )\n",
    "\n",
    "        plot_bkg_rej = VarVsEffPlot(\n",
    "            mode=\"bkg_rej\",\n",
    "            ylabel=\"BKG-jets rejection\",\n",
    "            xlabel=r\"$p_{T}$ [GeV]\",\n",
    "            logy=True,\n",
    "            logx=True,\n",
    "            atlas_second_tag=\"$\\\\sqrt{s}=13$ TeV, \" + \"{}-prong\".format(prong) ,\n",
    "            n_ratio_panels=1,\n",
    "            ymin=1,\n",
    "            xmin=20,\n",
    "            xmax=2100,\n",
    "            #ymax= 970 if prong == 1 else 9700,\n",
    "        )\n",
    "\n",
    "        for network in results.keys(): \n",
    "\n",
    "            # if network not in ['RNN','GNtau_noRNN']:\n",
    "            #     continue\n",
    "\n",
    "            lab = network\n",
    "            if '_' in lab and 'Aux' not in lab:\n",
    "                lab = lab.split('_')[0]\n",
    "\n",
    "            vveff_eff = VarVsEff(\n",
    "                x_var_sig=jet_pt[is_tau & mask & p_num & sigi],\n",
    "                disc_sig=results[network]['disc'][is_tau & mask & p_num & sigi],\n",
    "                x_var_bkg=jet_pt[is_bkg & mask & p_num],\n",
    "                disc_bkg=results[network]['disc'][is_bkg & mask & p_num],\n",
    "                #bins=np.linspace(20,1000,49),\n",
    "                bins=rej_pt_bins,\n",
    "                working_point=eff[WP_name],\n",
    "                disc_cut=None,\n",
    "                #fixed_eff_bin=True,\n",
    "                label=lab,\n",
    "                )\n",
    "\n",
    "            vveff_rej = VarVsEff(\n",
    "                x_var_sig=jet_pt[is_tau & mask & p_num & sigi],\n",
    "                disc_sig=results[network]['disc'][is_tau & mask & p_num & sigi],\n",
    "                x_var_bkg=jet_pt[is_bkg & mask & p_num],\n",
    "                disc_bkg=results[network]['disc'][is_bkg & mask & p_num],\n",
    "                bins=rej_pt_bins,\n",
    "                working_point=eff[WP_name],\n",
    "                disc_cut=None,\n",
    "                #fixed_eff_bin=True,\n",
    "                label=lab,\n",
    "                )            \n",
    "\n",
    "            logger.info(\"Plotting bkg rejection for inclusive efficiency as a function of pt.\")\n",
    "\n",
    "            plot_sig_eff.add(vveff_eff, reference=(network == 'RNN'))\n",
    "            plot_bkg_rej.add(vveff_rej, reference=(network == 'RNN'))\n",
    "\n",
    "        plot_sig_eff.atlas_second_tag += \"\\n{} $(\\\\epsilon_{}\\\\tau{}={} \\% )$\".format(WP_name, '{','}' , eff[WP_name]*100)\n",
    "        plot_bkg_rej.atlas_second_tag += \"\\n{} $(\\\\epsilon_{}\\\\tau{}={} \\% )$\".format(WP_name, '{','}' , eff[WP_name]*100)\n",
    "\n",
    "        # If you want to inverse the discriminant cut you can enable it via\n",
    "        # plot_sig_eff.set_inverse_cut()\n",
    "        plot_sig_eff.draw()\n",
    "        # Drawing a hline indicating inclusive efficiency\n",
    "        plot_sig_eff.draw_hline(eff[WP_name])\n",
    "        plot_sig_eff.savefig('p_only'+str(prong)+\"_tau_eff_\" + WP_name + \".png\", transparent=False)\n",
    "        plot_sig_eff.savefig('p_only'+str(prong)+\"_tau_eff_\" + WP_name + \".pdf\", transparent=False)\n",
    "\n",
    "        plot_bkg_rej.draw()\n",
    "        plot_bkg_rej.savefig('p_only'+str(prong)+\"_bkg_rej_\" + WP_name + \".png\", transparent=False)\n",
    "        plot_bkg_rej.savefig('p_only'+str(prong)+\"_bkg_rej_\" + WP_name + \".pdf\", transparent=False)        "
   ]
  },
  {
   "cell_type": "code",
   "execution_count": 3,
   "metadata": {},
   "outputs": [
    {
     "ename": "NameError",
     "evalue": "name 'results' is not defined",
     "output_type": "error",
     "traceback": [
      "\u001b[0;31m---------------------------------------------------------------------------\u001b[0m",
      "\u001b[0;31mNameError\u001b[0m                                 Traceback (most recent call last)",
      "Input \u001b[0;32mIn [3]\u001b[0m, in \u001b[0;36m<cell line: 37>\u001b[0;34m()\u001b[0m\n\u001b[1;32m     35\u001b[0m \u001b[38;5;66;03m# Example usage:\u001b[39;00m\n\u001b[1;32m     36\u001b[0m rej_givenWP \u001b[38;5;241m=\u001b[39m {}\n\u001b[0;32m---> 37\u001b[0m \u001b[38;5;28;01mfor\u001b[39;00m network \u001b[38;5;129;01min\u001b[39;00m \u001b[43mresults\u001b[49m\u001b[38;5;241m.\u001b[39mkeys():\n\u001b[1;32m     38\u001b[0m     \u001b[38;5;28mprint\u001b[39m(\u001b[38;5;124m'\u001b[39m\u001b[38;5;124mNetwork = \u001b[39m\u001b[38;5;124m'\u001b[39m,network)\n\u001b[1;32m     39\u001b[0m     rej_givenWP[network], _ \u001b[38;5;241m=\u001b[39m plot_rejection_vs_pt(\n\u001b[1;32m     40\u001b[0m                 x_var_sig\u001b[38;5;241m=\u001b[39mjet_pt[is_tau \u001b[38;5;241m&\u001b[39m mask \u001b[38;5;241m&\u001b[39m p_num \u001b[38;5;241m&\u001b[39m sigi],\n\u001b[1;32m     41\u001b[0m                 disc_sig\u001b[38;5;241m=\u001b[39mresults[network][\u001b[38;5;124m'\u001b[39m\u001b[38;5;124mdisc\u001b[39m\u001b[38;5;124m'\u001b[39m][is_tau \u001b[38;5;241m&\u001b[39m mask \u001b[38;5;241m&\u001b[39m p_num \u001b[38;5;241m&\u001b[39m sigi],\n\u001b[0;32m   (...)\u001b[0m\n\u001b[1;32m     46\u001b[0m                 working_point\u001b[38;5;241m=\u001b[39meff[WP_name],\n\u001b[1;32m     47\u001b[0m     )\n",
      "\u001b[0;31mNameError\u001b[0m: name 'results' is not defined"
     ]
    }
   ],
   "source": [
    "def plot_rejection_vs_pt(x_var_sig, disc_sig, x_var_bkg, disc_bkg, bins, working_point):\n",
    "    # Calculate signal and background efficiencies\n",
    "    signal_eff = np.sum(disc_sig > working_point) / len(disc_sig)\n",
    "    background_eff = np.sum(disc_bkg > working_point) / len(disc_bkg)\n",
    "\n",
    "    # Calculate signal and background rejections\n",
    "    signal_rejection = 1 / signal_eff\n",
    "    background_rejection = 1 / background_eff\n",
    "\n",
    "    # Create histograms for signal and background\n",
    "    hist_sig, edges_sig = np.histogram(x_var_sig, bins=bins)\n",
    "    hist_bkg, edges_bkg = np.histogram(x_var_bkg, bins=bins)\n",
    "\n",
    "    # Calculate rejection values per bin\n",
    "    rejection_values = background_rejection * (hist_bkg / len(x_var_bkg)) / (signal_rejection * (hist_sig / len(x_var_sig)))\n",
    "\n",
    "    # Calculate mean rejection value\n",
    "    mean_rejection = np.mean(rejection_values)\n",
    "\n",
    "    # Plot rejection vs pt\n",
    "    plt.plot(edges_sig[:-1], rejection_values, marker='o', linestyle='-')\n",
    "    plt.xlabel('Pt')\n",
    "    plt.xscale('log')\n",
    "    plt.ylabel('Rejection')\n",
    "    plt.yscale('log')\n",
    "    plt.title('Rejection vs Pt')\n",
    "    plt.grid(True)\n",
    "    plt.show()\n",
    "\n",
    "    # Print rejection values per bin and their mean\n",
    "    print(\"Rejection values per bin:\", rejection_values)\n",
    "    print(\"Mean rejection:\", mean_rejection)\n",
    "    return rejection_values, mean_rejection\n",
    "\n",
    "# Example usage:\n",
    "rej_givenWP = {}\n",
    "for network in results.keys():\n",
    "    print('Network = ',network)\n",
    "    rej_givenWP[network], _ = plot_rejection_vs_pt(\n",
    "                x_var_sig=jet_pt[is_tau & mask & p_num & sigi],\n",
    "                disc_sig=results[network]['disc'][is_tau & mask & p_num & sigi],\n",
    "                x_var_bkg=jet_pt[is_bkg & mask & p_num],\n",
    "                disc_bkg=results[network]['disc'][is_bkg & mask & p_num],\n",
    "                #bins=np.linspace(20,1000,49),\n",
    "                bins=rej_pt_bins,\n",
    "                working_point=eff[WP_name],\n",
    "    )\n",
    "print(\" Used WP = \", eff[WP_name])"
   ]
  },
  {
   "cell_type": "code",
   "execution_count": 87,
   "metadata": {},
   "outputs": [
    {
     "data": {
      "text/plain": [
       "array([0.1164432, 0.1164432, 0.1164432, 0.1164432, 0.1164432, 0.1164432,\n",
       "       0.1164432, 0.1164432, 0.1164432, 0.1164432, 0.1164432, 0.1164432,\n",
       "       0.1164432, 0.1164432, 0.1164432, 0.1164432, 0.1164432, 0.1164432,\n",
       "       0.1164432, 0.1164432, 0.1164432, 0.1164432, 0.1164432, 0.1164432,\n",
       "       0.1164432, 0.1164432, 0.1164432, 0.1164432, 0.1164432, 0.1164432,\n",
       "       0.1164432, 0.1164432, 0.1164432, 0.1164432, 0.1164432, 0.1164432,\n",
       "       0.1164432, 0.1164432, 0.1164432, 0.1164432, 0.1164432, 0.1164432,\n",
       "       0.1164432, 0.1164432, 0.1164432, 0.1164432, 0.1164432, 0.1164432])"
      ]
     },
     "execution_count": 87,
     "metadata": {},
     "output_type": "execute_result"
    }
   ],
   "source": [
    "np.divide( rej_givenWP['GNtau_noRNN'], rej_givenWP['RNN'] )"
   ]
  },
  {
   "cell_type": "code",
   "execution_count": 90,
   "metadata": {},
   "outputs": [
    {
     "name": "stdout",
     "output_type": "stream",
     "text": [
      "[ 471.44860364  386.82572419  330.75148907  305.20135365  294.28834007\n",
      "  298.80135129  324.30620724  374.69787382  406.80617176  429.45625035\n",
      "  431.58833187  463.91438162  506.40639578  551.4146954   588.68603856\n",
      "  618.55272371  724.00452454  909.36362869 1085.46486061 1169.55061067\n",
      " 1343.61101274 1287.41727774 1259.63163271 1231.13203301 1252.69139904\n",
      " 1264.63383122 1190.23382549 1080.08761644 1073.66144406 1135.68951448\n",
      "  966.55529237 1063.49210963 1001.64329685 1079.28031008  926.90689457\n",
      " 1039.99609398 1141.3326922  1249.59041756 1457.08221856 1538.78375987\n",
      " 1473.41549673 1696.14154951 1372.74956121 1285.34958619 1408.83980772\n",
      " 1302.84872772 1261.68805132 1148.07581133]\n"
     ]
    }
   ],
   "source": [
    "print(  rej_givenWP['RNN'] )"
   ]
  },
  {
   "cell_type": "markdown",
   "metadata": {},
   "source": [
    "### RNN-only crosscheck"
   ]
  },
  {
   "cell_type": "code",
   "execution_count": 72,
   "metadata": {},
   "outputs": [
    {
     "name": "stderr",
     "output_type": "stream",
     "text": [
      "\u001b[32;21mINFO:puma: Plotting bkg rejection for inclusive efficiency as a function of pt.\u001b[0m\n",
      "\u001b[32;21mINFO:puma: Plotting bkg rejection for inclusive efficiency as a function of pt.\u001b[0m\n",
      "\u001b[32;21mINFO:puma: Plotting bkg rejection for inclusive efficiency as a function of pt.\u001b[0m\n",
      "\u001b[32;21mINFO:puma: Plotting bkg rejection for inclusive efficiency as a function of pt.\u001b[0m\n",
      "\u001b[32;21mINFO:puma: Plotting bkg rejection for inclusive efficiency as a function of pt.\u001b[0m\n",
      "\u001b[32;21mINFO:puma: Plotting bkg rejection for inclusive efficiency as a function of pt.\u001b[0m\n"
     ]
    },
    {
     "data": {
      "image/png": "[encoded data removed]",
      "text/plain": [
       "<Figure size 432x288 with 1 Axes>"
      ]
     },
     "metadata": {},
     "output_type": "display_data"
    }
   ],
   "source": [
    "colors = {\n",
    "    'Loose': 'green',\n",
    "    'Medium': 'blue',\n",
    "    'Tight': 'red',\n",
    "}\n",
    "\n",
    "for p_num, sigi, eff, prong in prongness.values():\n",
    "\n",
    "    if not apply_true_prongness:\n",
    "        sigi = np.ones_like(sigi).astype(bool)\n",
    "\n",
    "    plot_sig_eff = VarVsEffPlot(\n",
    "        mode=\"sig_eff\",\n",
    "        ylabel=\"$Tau$-jets efficiency\",\n",
    "        xlabel=r\"$p_{T}$ [GeV]\",\n",
    "        logy=False,\n",
    "        atlas_second_tag=\"$\\\\sqrt{s}=13$ TeV, \" + \"{}-prong\".format(prong) ,\n",
    "        n_ratio_panels=0,\n",
    "        ymin=0,\n",
    "        ymax=1.6\n",
    "    )\n",
    "\n",
    "    plot_bkg_rej = VarVsEffPlot(\n",
    "        mode=\"bkg_rej\",\n",
    "        ylabel=\"BKG-jets rejection\",\n",
    "        xlabel=r\"$p_{T}$ [GeV]\",\n",
    "        logy=False,\n",
    "        logx=True,\n",
    "        atlas_second_tag=\"$\\\\sqrt{s}=13$ TeV, \" + \"{}-prong\".format(prong) ,\n",
    "        n_ratio_panels=0,\n",
    "        ymin=0,\n",
    "        ymax=1000. if prong == 1 else 10000.,\n",
    "    )\n",
    "\n",
    "    network = 'RNN'\n",
    "\n",
    "    for WP_name in ['Tight', 'Medium', 'Loose']:\n",
    "\n",
    "        vveff_eff = VarVsEff(\n",
    "            x_var_sig=jet_pt[is_tau & mask & p_num & sigi],\n",
    "            disc_sig=results[network]['disc'][is_tau & mask & p_num & sigi],\n",
    "            x_var_bkg=jet_pt[is_bkg & mask & p_num],\n",
    "            disc_bkg=results[network]['disc'][is_bkg & mask & p_num],\n",
    "            bins=np.linspace(20,1000,49),\n",
    "            working_point=eff[WP_name],\n",
    "            disc_cut=None,\n",
    "            #fixed_eff_bin=False,\n",
    "            label='{} {} $(\\\\epsilon_{}\\\\tau{}={} \\% )$'.format(network,WP_name, '{','}' , eff[WP_name]*100),\n",
    "            colour=colors[WP_name],\n",
    "            )\n",
    "        \n",
    "        vveff_rej = VarVsEff(\n",
    "            x_var_sig=jet_pt[is_tau & mask & p_num & sigi],\n",
    "            disc_sig=results[network]['disc'][is_tau & mask & p_num & sigi],\n",
    "            x_var_bkg=jet_pt[is_bkg & mask & p_num],\n",
    "            disc_bkg=results[network]['disc'][is_bkg & mask & p_num],\n",
    "            bins=np.logspace(np.log10(20),np.log10(2000),11),\n",
    "            working_point=eff[WP_name],\n",
    "            disc_cut=None,\n",
    "            #fixed_eff_bin=False,\n",
    "            label='{} {} $(\\\\epsilon_{}\\\\tau{}={} \\% )$'.format(network,WP_name, '{','}' , eff[WP_name]*100),\n",
    "            colour=colors[WP_name],\n",
    "            )            \n",
    "\n",
    "        logger.info(\"Plotting bkg rejection for inclusive efficiency as a function of pt.\")\n",
    "\n",
    "        plot_sig_eff.add(vveff_eff, reference=False)\n",
    "        plot_bkg_rej.add(vveff_rej, reference=False)\n",
    "\n",
    "        # Drawing a hline indicating inclusive efficiency\n",
    "        plot_sig_eff.draw_hline(eff[WP_name])\n",
    "\n",
    "    # If you want to inverse the discriminant cut you can enable it via\n",
    "    # plot_sig_eff.set_inverse_cut()\n",
    "    plot_sig_eff.draw()\n",
    "    plot_sig_eff.savefig('p_only'+str(prong)+\"_tau_eff_RNNcrosscheck.png\", transparent=False)\n",
    "    plot_sig_eff.savefig('p_only'+str(prong)+\"_tau_eff_RNNcrosscheck.pdf\", transparent=False)\n",
    "\n",
    "    plot_bkg_rej.draw()\n",
    "    plot_bkg_rej.savefig('p_only'+str(prong)+\"_bkg_rej_RNNcrosscheck.png\", transparent=False)\n",
    "    plot_bkg_rej.savefig('p_only'+str(prong)+\"_bkg_rej_RNNcrosscheck.pdf\", transparent=False)    "
   ]
  },
  {
   "cell_type": "code",
   "execution_count": 73,
   "metadata": {},
   "outputs": [
    {
     "data": {
      "image/png": "[encoded data removed]",
      "text/plain": [
       "<Figure size 432x288 with 1 Axes>"
      ]
     },
     "metadata": {},
     "output_type": "display_data"
    }
   ],
   "source": [
    "plt.hist(jet_pt, bins=350, density=True, range=(0, 3500), histtype='step')\n",
    "plt.yscale('log')"
   ]
  },
  {
   "cell_type": "code",
   "execution_count": 74,
   "metadata": {},
   "outputs": [
    {
     "data": {
      "text/plain": [
       "(array([8.81957e+05, 7.94460e+04, 2.92300e+04, 2.30560e+04, 1.50430e+04,\n",
       "        9.50000e+03, 8.65500e+03, 8.84200e+03, 6.10400e+03, 4.24600e+03,\n",
       "        3.27600e+03, 3.07300e+03, 2.42900e+03, 1.92100e+03, 1.91200e+03,\n",
       "        2.54200e+03, 2.45900e+03, 1.79900e+03, 1.21100e+03, 8.77000e+02,\n",
       "        6.47000e+02, 2.84000e+02, 1.48000e+02, 9.00000e+01, 6.10000e+01,\n",
       "        4.20000e+01, 2.10000e+01, 9.00000e+00, 3.00000e+00, 1.00000e+00]),\n",
       " array([  15.000286,  129.73479 ,  244.4693  ,  359.2038  ,  473.9383  ,\n",
       "         588.6728  ,  703.4073  ,  818.1418  ,  932.87634 , 1047.6108  ,\n",
       "        1162.3453  , 1277.0798  , 1391.8143  , 1506.5488  , 1621.2833  ,\n",
       "        1736.0178  , 1850.7523  , 1965.4868  , 2080.2214  , 2194.9558  ,\n",
       "        2309.6904  , 2424.4248  , 2539.1594  , 2653.8938  , 2768.6284  ,\n",
       "        2883.3628  , 2998.0974  , 3112.8318  , 3227.5664  , 3342.3008  ,\n",
       "        3457.0354  ], dtype=float32),\n",
       " <BarContainer object of 30 artists>)"
      ]
     },
     "execution_count": 74,
     "metadata": {},
     "output_type": "execute_result"
    },
    {
     "data": {
      "image/png": "[encoded data removed]",
      "text/plain": [
       "<Figure size 432x288 with 1 Axes>"
      ]
     },
     "metadata": {},
     "output_type": "display_data"
    }
   ],
   "source": [
    "plt.hist(jet_pt[is_bkg & mask & (prongs==3)], bins = 30, log = True)"
   ]
  },
  {
   "cell_type": "code",
   "execution_count": 75,
   "metadata": {},
   "outputs": [
    {
     "data": {
      "text/plain": [
       "(array([   911.,    677.,    572.,    539.,    503.,    505.,    507.,\n",
       "           511.,    501.,    495.,    526.,    615.,    592.,    616.,\n",
       "           668.,    709.,    804.,    866.,    998.,   1120.,   1205.,\n",
       "          1493.,   1901.,   2326.,   2939.,   3943.,   5917.,   9858.,\n",
       "         21246., 430009.]),\n",
       " array([1.29114105e-05, 3.33457366e-02, 6.66785613e-02, 1.00011379e-01,\n",
       "        1.33344203e-01, 1.66677028e-01, 2.00009853e-01, 2.33342677e-01,\n",
       "        2.66675502e-01, 3.00008327e-01, 3.33341151e-01, 3.66673976e-01,\n",
       "        4.00006801e-01, 4.33339626e-01, 4.66672450e-01, 5.00005245e-01,\n",
       "        5.33338070e-01, 5.66670895e-01, 6.00003719e-01, 6.33336544e-01,\n",
       "        6.66669369e-01, 7.00002193e-01, 7.33335018e-01, 7.66667843e-01,\n",
       "        8.00000668e-01, 8.33333492e-01, 8.66666317e-01, 8.99999142e-01,\n",
       "        9.33331966e-01, 9.66664791e-01, 9.99997616e-01], dtype=float32),\n",
       " <BarContainer object of 30 artists>)"
      ]
     },
     "execution_count": 75,
     "metadata": {},
     "output_type": "execute_result"
    },
    {
     "data": {
      "image/png": "[encoded data removed]",
      "text/plain": [
       "<Figure size 432x288 with 1 Axes>"
      ]
     },
     "metadata": {},
     "output_type": "display_data"
    }
   ],
   "source": [
    "plt.hist(results['GNtau_noRNN']['disc'][is_tau & mask & (prongs==3)], bins = 30, log = True)"
   ]
  },
  {
   "cell_type": "code",
   "execution_count": 76,
   "metadata": {},
   "outputs": [
    {
     "name": "stdout",
     "output_type": "stream",
     "text": [
      "RNN\n",
      "GNtau_noRNN\n"
     ]
    }
   ],
   "source": [
    "for key,value in results.items():\n",
    "    print(key)"
   ]
  },
  {
   "cell_type": "code",
   "execution_count": null,
   "metadata": {},
   "outputs": [],
   "source": []
  }
 ],
 "metadata": {
  "kernelspec": {
   "display_name": "Python 3 (ipykernel)",
   "language": "python",
   "name": "python3"
  },
  "language_info": {
   "codemirror_mode": {
    "name": "ipython",
    "version": 3
   },
   "file_extension": ".py",
   "mimetype": "text/x-python",
   "name": "python",
   "nbconvert_exporter": "python",
   "pygments_lexer": "ipython3",
   "version": "3.8.10"
  }
 },
 "nbformat": 4,
 "nbformat_minor": 2
}
