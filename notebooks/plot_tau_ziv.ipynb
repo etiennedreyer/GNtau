{
 "cells": [
  {
   "cell_type": "code",
   "execution_count": 1,
   "metadata": {},
   "outputs": [],
   "source": [
    "import h5py\n",
    "import numpy as np\n",
    "import puma\n",
    "import matplotlib.pyplot as plt\n",
    "from puma import Histogram, HistogramPlot, Roc, RocPlot\n",
    "from puma.metrics import calc_rej\n",
    "from puma.utils import get_good_colours, get_good_linestyles, logger\n",
    "from sklearn import metrics\n",
    "from numpy.lib.recfunctions import structured_to_unstructured as s2u\n",
    "import tqdm.notebook as tqdm"
   ]
  },
  {
   "cell_type": "code",
   "execution_count": 2,
   "metadata": {},
   "outputs": [],
   "source": [
    "%load_ext autoreload\n",
    "%autoreload 2"
   ]
  },
  {
   "cell_type": "markdown",
   "metadata": {},
   "source": [
    "# Settings"
   ]
  },
  {
   "cell_type": "code",
   "execution_count": 3,
   "metadata": {},
   "outputs": [],
   "source": [
    "plt.rcParams.update({\n",
    "    \"figure.facecolor\":  \"w\", \n",
    "    \"axes.facecolor\":    \"w\", \n",
    "    \"savefig.facecolor\": \"w\", \n",
    "})"
   ]
  },
  {
   "cell_type": "code",
   "execution_count": 4,
   "metadata": {},
   "outputs": [],
   "source": [
    "jet_pt_min = 15\n",
    "apply_true_prongness = True"
   ]
  },
  {
   "cell_type": "code",
   "execution_count": 5,
   "metadata": {},
   "outputs": [],
   "source": [
    "### Define scan of signal efficiencies\n",
    "sig_eff_min = 0.2 #0.4\n",
    "sig_eff = np.linspace(sig_eff_min, 1.0, 100)\n",
    "# if sig_eff_min < 0.2 and key != 'RNN':\n",
    "#     sig_eff = np.linspace(0.2, 1, 20)"
   ]
  },
  {
   "cell_type": "code",
   "execution_count": 6,
   "metadata": {},
   "outputs": [
    {
     "data": {
      "text/plain": [
       "array([0.2       , 0.20808081, 0.21616162, 0.22424242, 0.23232323,\n",
       "       0.24040404, 0.24848485, 0.25656566, 0.26464646, 0.27272727,\n",
       "       0.28080808, 0.28888889, 0.2969697 , 0.30505051, 0.31313131,\n",
       "       0.32121212, 0.32929293, 0.33737374, 0.34545455, 0.35353535,\n",
       "       0.36161616, 0.36969697, 0.37777778, 0.38585859, 0.39393939,\n",
       "       0.4020202 , 0.41010101, 0.41818182, 0.42626263, 0.43434343,\n",
       "       0.44242424, 0.45050505, 0.45858586, 0.46666667, 0.47474747,\n",
       "       0.48282828, 0.49090909, 0.4989899 , 0.50707071, 0.51515152,\n",
       "       0.52323232, 0.53131313, 0.53939394, 0.54747475, 0.55555556,\n",
       "       0.56363636, 0.57171717, 0.57979798, 0.58787879, 0.5959596 ,\n",
       "       0.6040404 , 0.61212121, 0.62020202, 0.62828283, 0.63636364,\n",
       "       0.64444444, 0.65252525, 0.66060606, 0.66868687, 0.67676768,\n",
       "       0.68484848, 0.69292929, 0.7010101 , 0.70909091, 0.71717172,\n",
       "       0.72525253, 0.73333333, 0.74141414, 0.74949495, 0.75757576,\n",
       "       0.76565657, 0.77373737, 0.78181818, 0.78989899, 0.7979798 ,\n",
       "       0.80606061, 0.81414141, 0.82222222, 0.83030303, 0.83838384,\n",
       "       0.84646465, 0.85454545, 0.86262626, 0.87070707, 0.87878788,\n",
       "       0.88686869, 0.89494949, 0.9030303 , 0.91111111, 0.91919192,\n",
       "       0.92727273, 0.93535354, 0.94343434, 0.95151515, 0.95959596,\n",
       "       0.96767677, 0.97575758, 0.98383838, 0.99191919, 1.        ])"
      ]
     },
     "execution_count": 6,
     "metadata": {},
     "output_type": "execute_result"
    }
   ],
   "source": [
    "sig_eff"
   ]
  },
  {
   "cell_type": "code",
   "execution_count": 7,
   "metadata": {},
   "outputs": [],
   "source": [
    "networks = {\n",
    "    # \"GN1Tau\" : \"logs/GN1_tau_20230215-T172736/ckpts/epoch=021-val_loss=0.31938__test_ttbar.h5\"\n",
    "    # 'GN1Tau': \"logs/GN1_tau_20230321-T145044/ckpts/epoch=018-val_loss=0.08698__test_inclusive_testing_ttbar_PFlow.h5\"\n",
    "    # 'GN1Tau' : \"logs/GN1_tau_20230325-T210222/ckpts/epoch=023-val_loss=0.07746__test_inclusive_testing_ttbar_PFlow.h5\"\n",
    "    #  'GN2TauA': 'logs/GN2TauA_20230820-T185727/ckpts/epoch=009-val_loss=0.04711__test_pp_output_test.h5' ,\n",
    "    #  \"GN2TauJ\" : \"logs/GN2TauJ_20230713-T111312/ckpts/epoch=010-val_loss=0.05086__test_pp_output_test.h5\" ,\n",
    "    #  \"GN2TauC\" : \"logs/GN2TauC_20230713-T151458/ckpts/epoch=011-val_loss=0.05114__test_pp_output_test.h5\" ,\n",
    "    #  \"GN2Tau\" : \"logs/GN2Tau_20230726-T175600/ckpts/epoch=008-val_loss=0.05920__test_pp_output_test.h5\"\n",
    "    #\"GN2Tau\" : \"logs/GN2Tau_20230508-T191218/ckpts/epoch=021-val_loss=0.07711__test_PFlow.h5\"\n",
    "    # \"GN1Tau\" : \"/storage/agrp/zivka/salt/run/logs/GN1_tau_20230226-T104411/ckpts/epoch=028-val_loss=0.28814__test_inclusive_testing_ttbar_PFlow.h5\",\n",
    "    # \"GN1Tau + Aux\" : \"logs/GN1_tau_20230218-T231137/ckpts/epoch=028-val_loss=0.28814__test_ttbar.h5\"\n",
    "    #\"GN2TauA\": \"/storage/agrp/dreyet/GNtau/salt/logs/GN2TauA_20230918-T144357/ckpts/epoch=012-val_loss=0.05973__test_pp_output_test.h5\"\n",
    "    #\"GNTau_noAux\": \"/storage/agrp/dreyet/GNtau/salt/logs/GN2Tau_noAux_20230920-T112330/ckpts/epoch=028-val_loss=0.06778__test_pp_output_test.h5\",\n",
    "    #\"GNTauA\": \"/storage/agrp/dreyet/GNtau/salt/logs/GN2TauA_20230918-T144357/ckpts/epoch=017-val_loss=0.05848__test_pp_output_test.h5\",\n",
    "    \"GN2TauA_trkClsWgt_noRNN\": \"/storage/agrp/dreyet/GNtau/salt/logs/GN2TauA_trkClsWgt_noRNN_20230927-T145302/ckpts/epoch=031-val_loss=0.05314__test_pp_output_test.h5\",\n",
    "    \"GN2TauA_trkClsWgt_noRNN_noAux\": \"/storage/agrp/dreyet/GNtau/salt/logs/GN2TauA_trkClsWgt_noRNN_noAux_20230927-T200138/ckpts/epoch=037-val_loss=0.06664__test_pp_output_test.h5\",\n",
    "    #\"GN2TauA_trkClsWgt\": \"/storage/agrp/dreyet/GNtau/salt/logs/GN2TauA_trkClsWgt_20230924-T171327/ckpts/epoch=019-val_loss=0.05785__test_pp_output_test.h5\",\n",
    "    #\"GN2Tau_noAux\": \"/storage/agrp/dreyet/GNtau/salt/logs/GN2Tau_noAux_20230922-T110104/ckpts/epoch=042-val_loss=0.06758__test_pp_output_test.h5\",\n",
    "}"
   ]
  },
  {
   "cell_type": "markdown",
   "metadata": {},
   "source": [
    "# Get discriminants, rejection, etc"
   ]
  },
  {
   "cell_type": "code",
   "execution_count": 8,
   "metadata": {},
   "outputs": [
    {
     "data": {
      "text/plain": [
       "'\\ndef disc_fct(arr: np.ndarray) -> np.ndarray:\\n    \"\"\"Tagger discriminant\\n\\n    Parameters\\n    ----------\\n    arr : numpy.ndarray\\n        array with with shape (, 2)\\n\\n    Returns\\n    -------\\n    np.ndarray\\n        Array with the discriminant values inside.\\n    \"\"\"\\n    # you can adapt this for your needs\\n    return np.log((arr[0] + 1e-10) / (arr[1] + 1e-10))\\n'"
      ]
     },
     "execution_count": 8,
     "metadata": {},
     "output_type": "execute_result"
    }
   ],
   "source": [
    "### Not used currently (using pTau directly as discrimnant)\n",
    "'''\n",
    "def disc_fct(arr: np.ndarray) -> np.ndarray:\n",
    "    \"\"\"Tagger discriminant\n",
    "\n",
    "    Parameters\n",
    "    ----------\n",
    "    arr : numpy.ndarray\n",
    "        array with with shape (, 2)\n",
    "\n",
    "    Returns\n",
    "    -------\n",
    "    np.ndarray\n",
    "        Array with the discriminant values inside.\n",
    "    \"\"\"\n",
    "    # you can adapt this for your needs\n",
    "    return np.log((arr[0] + 1e-10) / (arr[1] + 1e-10))\n",
    "'''"
   ]
  },
  {
   "cell_type": "code",
   "execution_count": 9,
   "metadata": {},
   "outputs": [
    {
     "name": "stdout",
     "output_type": "stream",
     "text": [
      "1...\n",
      "2...\n",
      "3...\n",
      "4...\n",
      "5...\n",
      "7...\n"
     ]
    }
   ],
   "source": [
    "reference = \"RNN\"\n",
    "# reference  = 'GN2Tau'\n",
    "\n",
    "#test_path =  '/storage/agrp/zivka/umami_Tau/UPP/umami-preprocessing/upp/output/pp_output_test.h5'\n",
    "test_path =  '/storage/agrp/dreyet/GNtau/samples/v04/output/pp_output_test.h5'\n",
    "\n",
    "#test_path = '/storage/agrp/zivka/umami_Tau/UPP/umami-preprocessing/upp/output_1/pp_output_test.h5'\n",
    "#'/storage/agrp/dmitrykl/tauTag/upp/output/pp_output_test.h5'\n",
    "\n",
    "with h5py.File(test_path, 'r') as test_f:\n",
    "    print('1...')\n",
    "    jet_pt = test_f['jets']['pt'] / 1000\n",
    "    jet_eta = test_f['jets']['absEta']\n",
    "    jet_flav = test_f['jets']['HadronConeExclTruthLabelID']\n",
    "    rnn_pTau = test_f['jets']['TAU_RNNJetScoreSigTrans'] #using Trans Score!!!\n",
    "    rnn_pBkg = 1 - test_f['jets']['TAU_RNNJetScoreSigTrans']\n",
    "    print('2...')\n",
    "    track_scores = [test_f['tracks']['rnn_fakeScore'], test_f['tracks']['rnn_chargedScore'], test_f['tracks']['rnn_isolationScore'], test_f['tracks']['rnn_conversionScore']]\n",
    "    track_valids = test_f['tracks']['valid']\n",
    "    track_truth = test_f['tracks']['NewTruthType']\n",
    "    print('3...')\n",
    "    n_tracks = np.sum(track_valids, axis=-1)\n",
    "    prongs = np.sum(np.argmax(np.stack(track_scores,axis=-1), axis=-1)==1, axis=-1)\n",
    "    eta_mask = (jet_eta < 2.5) & ((jet_eta > 1.57) | (jet_eta < 1.37))\n",
    "    mask = (rnn_pTau >= 0) & (rnn_pBkg >= 0) & (jet_pt > jet_pt_min) & eta_mask #& ((n_tracks == 1) | (n_tracks == 3))# & (jet_pt < 100)\n",
    "    print('4...')\n",
    "    is_tau = jet_flav == 5\n",
    "    is_bkg = jet_flav == 0\n",
    "    n_jets_bkg = np.sum(is_bkg & mask)\n",
    "    rnn_discs = rnn_pTau\n",
    "    print('5...')\n",
    "\n",
    "    x = test_f['tracks']['tauTruthProng']\n",
    "    sig_1_prong = np.isin(x, 1)\n",
    "    sig_mask_1 = np.any(sig_1_prong, axis=1)\n",
    "    print('7...')\n",
    "    sig_3_prong = np.isin(x, 3)\n",
    "    sig_mask_3 = np.any(sig_3_prong, axis=1)\n",
    "    sig_mask_0 = np.logical_not(sig_mask_1 | sig_mask_3)\n"
   ]
  },
  {
   "cell_type": "code",
   "execution_count": 10,
   "metadata": {},
   "outputs": [
    {
     "name": "stderr",
     "output_type": "stream",
     "text": [
      "\u001b[32;21mINFO:puma: Calculate rejection\u001b[0m\n"
     ]
    }
   ],
   "source": [
    "# rnn_discs = rnn_pTau\n",
    "logger.info(\"Calculate rejection\")\n",
    "rnn_rej = calc_rej(rnn_discs[is_tau & mask], rnn_discs[is_bkg & mask], sig_eff)\n",
    "\n",
    "if apply_true_prongness:\n",
    "    rnn_rej_0 = calc_rej(rnn_discs[is_tau & mask & (prongs!=1) & (prongs!=3) & sig_mask_0], rnn_discs[is_bkg & mask & (prongs!=1) & (prongs!=3)], sig_eff)\n",
    "    rnn_rej_1 = calc_rej(rnn_discs[is_tau & mask & (prongs==1)& sig_mask_1], rnn_discs[is_bkg & mask & (prongs==1)], sig_eff)\n",
    "    rnn_rej_3 = calc_rej(rnn_discs[is_tau & mask & (prongs==3)& sig_mask_3], rnn_discs[is_bkg & mask & (prongs==3)], sig_eff)\n",
    "else:\n",
    "    rnn_rej_0 = calc_rej(rnn_discs[is_tau & mask & (prongs!=1) & (prongs!=3)], rnn_discs[is_bkg & mask & (prongs!=1) & (prongs!=3)], sig_eff)\n",
    "    rnn_rej_1 = calc_rej(rnn_discs[is_tau & mask & (prongs==1)], rnn_discs[is_bkg & mask & (prongs==1)], sig_eff)\n",
    "    rnn_rej_3 = calc_rej(rnn_discs[is_tau & mask & (prongs==3)], rnn_discs[is_bkg & mask & (prongs==3)], sig_eff)"
   ]
  },
  {
   "cell_type": "code",
   "execution_count": 11,
   "metadata": {},
   "outputs": [],
   "source": [
    "results = {}"
   ]
  },
  {
   "cell_type": "code",
   "execution_count": 12,
   "metadata": {},
   "outputs": [],
   "source": [
    "results[\"RNN\"] = {\n",
    "        'sig_eff' : sig_eff,\n",
    "        'disc' : rnn_discs,\n",
    "        'rej' : rnn_rej,\n",
    "        'rej_0' : rnn_rej_0,\n",
    "        'rej_1' : rnn_rej_1,\n",
    "        'rej_3' : rnn_rej_3,\n",
    "        'pTau' : rnn_pTau,\n",
    "        'pBkg' : rnn_pBkg,\n",
    "        'prongs' : prongs,\n",
    "    }"
   ]
  },
  {
   "cell_type": "code",
   "execution_count": 13,
   "metadata": {},
   "outputs": [
    {
     "data": {
      "text/plain": [
       "{'GN2TauA_trkClsWgt_noRNN': '/storage/agrp/dreyet/GNtau/salt/logs/GN2TauA_trkClsWgt_noRNN_20230927-T145302/ckpts/epoch=031-val_loss=0.05314__test_pp_output_test.h5',\n",
       " 'GN2TauA_trkClsWgt_noRNN_noAux': '/storage/agrp/dreyet/GNtau/salt/logs/GN2TauA_trkClsWgt_noRNN_noAux_20230927-T200138/ckpts/epoch=037-val_loss=0.06664__test_pp_output_test.h5'}"
      ]
     },
     "execution_count": 13,
     "metadata": {},
     "output_type": "execute_result"
    }
   ],
   "source": [
    "networks"
   ]
  },
  {
   "cell_type": "code",
   "execution_count": 14,
   "metadata": {},
   "outputs": [
    {
     "name": "stderr",
     "output_type": "stream",
     "text": [
      "\u001b[32;21mINFO:puma: Calculate discriminants and rejection\u001b[0m\n"
     ]
    },
    {
     "name": "stdout",
     "output_type": "stream",
     "text": [
      "GN2TauA_trkClsWgt_noRNN /storage/agrp/dreyet/GNtau/salt/logs/GN2TauA_trkClsWgt_noRNN_20230927-T145302/ckpts/epoch=031-val_loss=0.05314__test_pp_output_test.h5\n",
      "[('GN2TauA_trkClsWgt_noRNN_pu', '<f4'), ('GN2TauA_trkClsWgt_noRNN_pb', '<f4'), ('pt', '<f4'), ('absEta', '<f4'), ('HadronConeExclTruthLabelID', '<f4')]\n",
      "<HDF5 dataset \"jets\": shape (17400000,), type \"|V20\">\n"
     ]
    },
    {
     "name": "stderr",
     "output_type": "stream",
     "text": [
      "\u001b[32;21mINFO:puma: Calculate rejection\u001b[0m\n"
     ]
    },
    {
     "name": "stdout",
     "output_type": "stream",
     "text": [
      "GN2TauA_trkClsWgt_noRNN_noAux /storage/agrp/dreyet/GNtau/salt/logs/GN2TauA_trkClsWgt_noRNN_noAux_20230927-T200138/ckpts/epoch=037-val_loss=0.06664__test_pp_output_test.h5\n",
      "[('GN2TauA_trkClsWgt_noRNN_noAux_pu', '<f4'), ('GN2TauA_trkClsWgt_noRNN_noAux_pb', '<f4'), ('pt', '<f4'), ('absEta', '<f4'), ('HadronConeExclTruthLabelID', '<f4')]\n",
      "<HDF5 dataset \"jets\": shape (17400000,), type \"|V20\">\n"
     ]
    },
    {
     "name": "stderr",
     "output_type": "stream",
     "text": [
      "\u001b[32;21mINFO:puma: Calculate rejection\u001b[0m\n"
     ]
    }
   ],
   "source": [
    "logger.info(\"Calculate discriminants and rejection\")\n",
    "for key, val in networks.items():\n",
    "    print(key, val)\n",
    "    with h5py.File(val, 'r') as f:\n",
    "        #if key == 'GN2TauJ':\n",
    "            pt = f['jets']['pt'] / 1000\n",
    "            # tracks_pred = f['tracks'].fields(['0', '1', '2', '3', '4', '5', '6'])[:]\n",
    "            flav = f['jets']['HadronConeExclTruthLabelID']\n",
    "            is_tau = flav == 5\n",
    "            is_bkg = flav == 0\n",
    "            print(f['jets'][0].dtype)\n",
    "            if 'GN' in key:\n",
    "                print(f['jets'])\n",
    "                pTau = f['jets']['{}_pb'.format(key)]\n",
    "                pBkg = f['jets']['{}_pu'.format(key)]\n",
    "                discs = pTau\n",
    "                #discs = disc_fct(np.row_stack([pTau, pBkg])) #with log!!\n",
    "            # if key == 'GN2Tau' or key == 'GNtau':\n",
    "            #     pTau = f['jets']['GN2Tau_pb']\n",
    "            #     pBkg = f['jets']['GN2Tau_pu']\n",
    "            #     discs = pTau\n",
    "            #     #discs = disc_fct(np.row_stack([pTau, pBkg])) #with log!!\n",
    "            # if key == 'GNTauA':\n",
    "            #     pTau = f['jets']['GN2TauA_pb']\n",
    "            #     pBkg = f['jets']['GN2TauA_pu']\n",
    "            #     discs = pTau\n",
    "            #     #discs = disc_fct(np.row_stack([pTau, pBkg])) #with log!!\n",
    "            #     #print(discs, key)\n",
    "            # if key == 'GNTau_noAux' or key == 'GNtau_noAux':\n",
    "            #     pTau = f['jets']['GN2Tau_noAux_pb']\n",
    "            #     pBkg = f['jets']['GN2Tau_noAux_pu']\n",
    "            #     discs = pTau\n",
    "            #     #discs = disc_fct(np.row_stack([pTau, pBkg])) #with log!!\n",
    "            #     #print(discs, key)\n",
    "            # if key == 'GN2TauJ':\n",
    "            #     pTau = f['jets']['GN2TauJ_pb']\n",
    "            #     pBkg = f['jets']['GN2TauJ_pu']\n",
    "            #     discs = pTau\n",
    "            #     #discs = disc_fct(np.row_stack([pTau, pBkg]))\n",
    "            #     #print(discs, key)\n",
    "            # if key == 'GN2TauC':\n",
    "            #     pTau = f['jets']['GN2TauC_pb']\n",
    "            #     pBkg = f['jets']['GN2TauC_pu']\n",
    "            #     discs = pTau\n",
    "                #discs = disc_fct(np.row_stack([pTau, pBkg]))\n",
    "                #print(discs, key)\n",
    "            # # discs = pTau\n",
    "            # mask = (pt > 20) & (pt < 100)\n",
    "            # mask = (pt > 5)\n",
    "            #eta_mask = (jet_eta < 2.5) & ((jet_eta > 1.57) | (jet_eta < 1.37))\n",
    "            #mask = (pt > 20) & eta_mask #& ((n_tracks == 1) | (n_tracks == 3))# & (jet_pt < 100)\n",
    "            logger.info(\"Calculate rejection\")\n",
    "            rej = calc_rej(discs[is_tau & mask], discs[is_bkg & mask], sig_eff)\n",
    "\n",
    "            if apply_true_prongness:\n",
    "                rej_0 = calc_rej(discs[is_tau & mask & (prongs!=1) & (prongs!=3) & sig_mask_0], discs[is_bkg & mask & (prongs!=1) & (prongs!=3)], sig_eff)\n",
    "                rej_1 = calc_rej(discs[is_tau & mask & (prongs==1) & sig_mask_1],  discs[is_bkg & mask & (prongs==1)], sig_eff)\n",
    "                rej_3 = calc_rej(discs[is_tau & mask & (prongs==3) & sig_mask_3],  discs[is_bkg & mask & (prongs==3)], sig_eff)\n",
    "            else:\n",
    "                rej_0 = calc_rej(discs[is_tau & mask & (prongs!=1) & (prongs!=3)], discs[is_bkg & mask & (prongs!=1) & (prongs!=3)], sig_eff)\n",
    "                rej_1 = calc_rej(discs[is_tau & mask & (prongs==1)],               discs[is_bkg & mask & (prongs==1)], sig_eff)\n",
    "                rej_3 = calc_rej(discs[is_tau & mask & (prongs==3)],               discs[is_bkg & mask & (prongs==3)], sig_eff)\n",
    "            #print((mask & (jet_pt > 20) & is_bkg & (prongs == 3)).sum())\n",
    "            results[key] = {\n",
    "                    'sig_eff' : sig_eff,\n",
    "                    'disc' : discs,\n",
    "                    'rej' : rej,\n",
    "                    'rej_0' : rej_0,\n",
    "                    'rej_1' : rej_1,\n",
    "                    'rej_3' : rej_3,\n",
    "                    'pTau' : pTau,\n",
    "                    'pBkg' : pBkg,\n",
    "                }\n",
    "\n"
   ]
  },
  {
   "cell_type": "code",
   "execution_count": 15,
   "metadata": {},
   "outputs": [],
   "source": [
    "### Reorder for the sake of order on ROC curves\n",
    "network_names = list(networks.keys())\n",
    "\n",
    "for network in network_names:\n",
    "    new_key = network.replace('GN2', 'GN')\n",
    "    new_key = new_key.replace('Tau', 'tau')\n",
    "    new_key = new_key.replace('auA', 'au')\n",
    "    new_key = new_key.replace('_trkClsWgt', '')\n",
    "    networks[new_key] = networks.pop(network)\n",
    "    results[new_key] = results.pop(network)"
   ]
  },
  {
   "cell_type": "markdown",
   "metadata": {},
   "source": [
    "# ROC curves"
   ]
  },
  {
   "cell_type": "code",
   "execution_count": 73,
   "metadata": {},
   "outputs": [],
   "source": [
    "indices = list(range(0, len(sig_eff), 2)) + [len(sig_eff) - 1]\n",
    "#indices"
   ]
  },
  {
   "cell_type": "markdown",
   "metadata": {},
   "source": [
    "### RNN-only"
   ]
  },
  {
   "cell_type": "code",
   "execution_count": 74,
   "metadata": {},
   "outputs": [
    {
     "name": "stderr",
     "output_type": "stream",
     "text": [
      "\u001b[33;21mWARNING:puma: You specified a different linestyle for the same rejection class qcd. Will keep the linestyle defined first.\u001b[0m\n"
     ]
    },
    {
     "data": {
      "image/png": "[encoded data removed]",
      "text/plain": [
       "<Figure size 640x480 with 1 Axes>"
      ]
     },
     "metadata": {},
     "output_type": "display_data"
    }
   ],
   "source": [
    "##plot only RNN for 1/3 prong\n",
    "\n",
    "plot_roc = RocPlot(\n",
    "        n_ratio_panels=1,\n",
    "        ylabel=\"Background rejection\",\n",
    "        xlabel=\"$\\\\tau$-jet efficiency\",\n",
    "        atlas_second_tag=\"$\\\\sqrt{s}=13$\" + \" TeV\\n$p_\\mathrm{T} > \" + str(jet_pt_min) + \"$ GeV\",\n",
    "        figsize=(6.5, 6),\n",
    "        y_scale=1.4,\n",
    "    )\n",
    "\n",
    "plot_roc.add_roc(\n",
    "    Roc(\n",
    "        sig_eff[indices],\n",
    "        results['RNN'][f'rej_1'][indices],\n",
    "        n_test=np.sum(is_bkg & mask & (prongs==1)),\n",
    "        rej_class=\"qcd\",\n",
    "        signal_class='$\\\\tau$-jets',\n",
    "        label=f\"{'RNN (1-prong)'}\",\n",
    "        colour='red',\n",
    "    ),\n",
    "    reference=True,\n",
    ")\n",
    "\n",
    "plot_roc.add_roc(\n",
    "    Roc(\n",
    "        sig_eff[indices],\n",
    "        results['RNN'][f'rej_3'][indices],\n",
    "        n_test=np.sum(is_bkg & mask & (prongs==3)),\n",
    "        rej_class=\"qcd\",\n",
    "        signal_class='$\\\\tau$-jets',\n",
    "        label=f\"{'RNN (3-prong)'}\",\n",
    "        colour='steelblue',\n",
    "        linestyle='dashed',\n",
    "    ),\n",
    "    reference=False,\n",
    ")\n",
    "\n",
    "# setting which flavour rejection ratio is drawn in which ratio panel\n",
    "plot_roc.set_ratio_class(1, \"qcd\")\n",
    "# plot_roc.set_leg_rej_labels(\"qcd\", \"Background rejection\")\n",
    "plot_roc.draw()\n",
    "plot_roc.savefig(f\"RNN_tau_both.png\", transparent=False)"
   ]
  },
  {
   "cell_type": "markdown",
   "metadata": {},
   "source": [
    "### 1-prong"
   ]
  },
  {
   "cell_type": "code",
   "execution_count": 75,
   "metadata": {},
   "outputs": [
    {
     "data": {
      "image/png": "[encoded data removed]",
      "text/plain": [
       "<Figure size 640x480 with 1 Axes>"
      ]
     },
     "metadata": {},
     "output_type": "display_data"
    }
   ],
   "source": [
    "\n",
    "plot_roc = RocPlot(\n",
    "        n_ratio_panels=1,\n",
    "        ylabel=\"Background rejection\",\n",
    "        xlabel=\"$\\\\tau$-jet efficiency\",\n",
    "        atlas_second_tag=\"$\\\\sqrt{s}=13$ TeV\\n1-prong\\n$p_\\mathrm{T} > \" + str(jet_pt_min) + \"$ GeV\",\n",
    "        figsize=(6.5, 6),\n",
    "        y_scale=1.4,\n",
    "    )\n",
    "\n",
    "for network in results.keys():\n",
    "\n",
    "    # if network not in ['RNN','GNtau_noRNN']:\n",
    "    #     continue\n",
    "\n",
    "    lab = network\n",
    "    if '_' in lab:\n",
    "        if 'noAux' in lab:\n",
    "            lab = lab.split('_')[0] + '_noAux'\n",
    "        else:\n",
    "            lab = lab.split('_')[0]\n",
    "\n",
    "    plot_roc.add_roc(\n",
    "        Roc(\n",
    "            sig_eff[indices],\n",
    "            results[network]['rej_1'][indices],\n",
    "            n_test=np.sum(is_bkg & mask & (prongs==1)),\n",
    "            rej_class=\"qcd\",\n",
    "            signal_class='$\\\\tau$-jets',\n",
    "            label=lab,\n",
    "        ),\n",
    "        reference=(reference == network),\n",
    "    )\n",
    "# setting which flavour rejection ratio is drawn in which ratio panel\n",
    "plot_roc.set_ratio_class(1, \"qcd\")\n",
    "# plot_roc.set_leg_rej_labels(\"qcd\", \"Background rejection\")\n",
    "plot_roc.draw()\n",
    "plot_roc.savefig(f\"All_tau_1.png\", transparent=False)"
   ]
  },
  {
   "cell_type": "markdown",
   "metadata": {},
   "source": [
    "### 3-prong"
   ]
  },
  {
   "cell_type": "code",
   "execution_count": 76,
   "metadata": {},
   "outputs": [
    {
     "data": {
      "image/png": "[encoded data removed]",
      "text/plain": [
       "<Figure size 640x480 with 1 Axes>"
      ]
     },
     "metadata": {},
     "output_type": "display_data"
    }
   ],
   "source": [
    "plot_roc = RocPlot(\n",
    "        n_ratio_panels=1,\n",
    "        ylabel=\"Background rejection\",\n",
    "        xlabel=\"$\\\\tau$-jet efficiency\",\n",
    "        atlas_second_tag=\"$\\\\sqrt{s}=13$ TeV\\n1-prong\\n$p_\\mathrm{T} > \" + str(jet_pt_min) + \"$ GeV\",\n",
    "        figsize=(6.5, 6),\n",
    "        y_scale=1.4,\n",
    "    )\n",
    "\n",
    "for network in results.keys():\n",
    "\n",
    "    # if network not in ['RNN','GNtau_noRNN']:\n",
    "    #     continue\n",
    "\n",
    "    lab = network\n",
    "    if '_' in lab:\n",
    "        if 'noAux' in lab:\n",
    "            lab = lab.split('_')[0] + '_noAux'\n",
    "        else:\n",
    "            lab = lab.split('_')[0]\n",
    "\n",
    "    plot_roc.add_roc(\n",
    "        Roc(\n",
    "            sig_eff[indices],\n",
    "            results[network]['rej_3'][indices],\n",
    "            n_test=np.sum(is_bkg & mask & (prongs==3)),\n",
    "            rej_class=\"qcd\",\n",
    "            signal_class='$\\\\tau$-jets',\n",
    "            label=lab,\n",
    "        ),\n",
    "        reference=(reference == network),\n",
    "    )\n",
    "# setting which flavour rejection ratio is drawn in which ratio panel\n",
    "plot_roc.set_ratio_class(1, \"qcd\")\n",
    "# plot_roc.set_leg_rej_labels(\"qcd\", \"Background rejection\")\n",
    "plot_roc.draw()\n",
    "plot_roc.savefig(f\"All_tau_3.png\", transparent=False)"
   ]
  },
  {
   "cell_type": "markdown",
   "metadata": {},
   "source": [
    "# Compute location of working points"
   ]
  },
  {
   "cell_type": "code",
   "execution_count": 77,
   "metadata": {},
   "outputs": [],
   "source": [
    "def get_disc_cut_for_given_eff(target_eff, disc):\n",
    "    cut = np.percentile(disc, 100.0 * (1.0 - target_eff))\n",
    "    return cut"
   ]
  },
  {
   "cell_type": "code",
   "execution_count": 78,
   "metadata": {},
   "outputs": [],
   "source": [
    "WP_1p = {\n",
    "    'Tight': 0.60,\n",
    "    'Medium': 0.75,\n",
    "    'Loose': 0.85,\n",
    "}\n",
    "\n",
    "WP_3p = {\n",
    "    'Tight': 0.45,\n",
    "    'Medium': 0.60,\n",
    "    'Loose': 0.75,\n",
    "}\n",
    "\n",
    "prongness = {'1 prongs':[(prongs==1) ,sig_mask_1, WP_1p, 1], '3 prongs' : [(prongs==3), sig_mask_3, WP_3p, 3]}"
   ]
  },
  {
   "cell_type": "code",
   "execution_count": 79,
   "metadata": {},
   "outputs": [],
   "source": [
    "disc_1p_GNN = results['GNtau_noRNN']['disc'][is_tau & mask & (prongs==1)]\n",
    "disc_cut_1p_GNN = {key: get_disc_cut_for_given_eff(val, disc_1p_GNN) for key, val in WP_1p.items()}\n",
    "\n",
    "disc_3p_GNN = results['GNtau_noRNN']['disc'][is_tau & mask & (prongs==3)]\n",
    "disc_cut_3p_GNN = {key: get_disc_cut_for_given_eff(val, disc_3p_GNN) for key, val in WP_3p.items()}\n",
    "\n",
    "disc_1p_RNN = results['RNN']['disc'][is_tau & mask & (prongs==1)]\n",
    "disc_cut_1p_RNN = {key: get_disc_cut_for_given_eff(val, disc_1p_RNN) for key, val in WP_1p.items()}\n",
    "\n",
    "disc_3p_RNN = results['RNN']['disc'][is_tau & mask & (prongs==3)]\n",
    "disc_cut_3p_RNN = {key: get_disc_cut_for_given_eff(val, disc_3p_RNN) for key, val in WP_3p.items()}"
   ]
  },
  {
   "cell_type": "code",
   "execution_count": 80,
   "metadata": {},
   "outputs": [
    {
     "name": "stdout",
     "output_type": "stream",
     "text": [
      "1-prong GNN\n",
      "{'Tight': 0.9985194802284241, 'Medium': 0.9946849346160889, 'Loose': 0.9853282034397125}\n",
      "3-prong GNN\n",
      "{'Tight': 0.9994021713733673, 'Medium': 0.9979666948318482, 'Loose': 0.9917172491550446}\n"
     ]
    }
   ],
   "source": [
    "print('1-prong GNN')\n",
    "print(disc_cut_1p_GNN)\n",
    "print('3-prong GNN')\n",
    "print(disc_cut_3p_GNN)"
   ]
  },
  {
   "cell_type": "code",
   "execution_count": 81,
   "metadata": {},
   "outputs": [
    {
     "name": "stdout",
     "output_type": "stream",
     "text": [
      "1-prong RNN\n",
      "{'Tight': 0.3765916228294373, 'Medium': 0.22361939400434494, 'Loose': 0.12607046440243722}\n",
      "3-prong RNN\n",
      "{'Tight': 0.5425655215978623, 'Medium': 0.38872227072715765, 'Loose': 0.23510169610381126}\n"
     ]
    }
   ],
   "source": [
    "print('1-prong RNN')\n",
    "print(disc_cut_1p_RNN)\n",
    "print('3-prong RNN')\n",
    "print(disc_cut_3p_RNN)"
   ]
  },
  {
   "cell_type": "code",
   "execution_count": 82,
   "metadata": {},
   "outputs": [
    {
     "data": {
      "image/png": "[encoded data removed]",
      "text/plain": [
       "<Figure size 1200x900 with 1 Axes>"
      ]
     },
     "metadata": {},
     "output_type": "display_data"
    }
   ],
   "source": [
    "prong_choice = 3\n",
    "\n",
    "fig, ax = plt.subplots(1, 1, figsize=(8, 6), dpi=150)\n",
    "ax.hist(results['RNN']['disc'][is_tau & mask & (prongs==prong_choice)], histtype='step', density=True,         range=(0,1), bins=20, color='red', label='Sig (RNN)')\n",
    "ax.hist(results['RNN']['disc'][is_bkg & mask & (prongs==prong_choice)], histtype='step', density=True,         range=(0,1), bins=20, color='blue', label='Bkg (RNN)')\n",
    "ax.hist(results['GNtau_noRNN']['disc'][is_tau & mask & (prongs==prong_choice)], histtype='step', density=True, range=(0,1), bins=20, color='red', linestyle=('dashed'), label='Sig (GNtau)')\n",
    "ax.hist(results['GNtau_noRNN']['disc'][is_bkg & mask & (prongs==prong_choice)], histtype='step', density=True, range=(0,1), bins=20, color='blue', linestyle=('dashed'), label='Bkg (GNtau)')\n",
    "ax.text(0.15, 15.0, f'{prong_choice}-prong selection', fontsize=11)\n",
    "ax.set_xlabel('p(Tau) discriminant')\n",
    "ax.set_ylabel('Normalized')\n",
    "ax.legend(loc='upper center', bbox_to_anchor=(0.65, 0.98), ncol=2, fancybox=False, shadow=False)\n",
    "plt.yscale('log')\n",
    "plt.savefig(f'discriminants_{prong_choice}p.png', transparent=False)\n",
    "plt.show()"
   ]
  },
  {
   "cell_type": "code",
   "execution_count": 83,
   "metadata": {},
   "outputs": [
    {
     "name": "stdout",
     "output_type": "stream",
     "text": [
      "1-prong Tight (60.0% sig. eff.) \n",
      "RNN 29.503236854982262\n",
      "GNN 651.0211849814808\n",
      "GNN/RNN 22.06609356734164\n",
      "1-prong Medium (75.0% sig. eff.) \n",
      "RNN 15.166861085737526\n",
      "GNN 206.02208686419215\n",
      "GNN/RNN 13.583699731906249\n",
      "1-prong Loose (85.0% sig. eff.) \n",
      "RNN 9.219669134176396\n",
      "GNN 92.78928639151822\n",
      "GNN/RNN 10.06427508852325\n",
      "3-prong Tight (45.0% sig. eff.) \n",
      "RNN 396.2604694838663\n",
      "GNN 7754.8764193025145\n",
      "GNN/RNN 19.57014897146649\n",
      "3-prong Medium (60.0% sig. eff.) \n",
      "RNN 155.39896737856873\n",
      "GNN 2788.974190336443\n",
      "GNN/RNN 17.94718611959756\n",
      "3-prong Loose (75.0% sig. eff.) \n",
      "RNN 57.91461630141152\n",
      "GNN 783.4001613145065\n",
      "GNN/RNN 13.526812596622747\n"
     ]
    }
   ],
   "source": [
    "### Get rejection values at the working points\n",
    "\n",
    "for WP, eff in WP_1p.items():\n",
    "    print(f'1-prong {WP} ({eff*100}% sig. eff.) ')\n",
    "    ### get closest value to the working point\n",
    "    idx = (np.abs(sig_eff - WP_1p[WP])).argmin()\n",
    "    rej_1p_RNN = (results['RNN']['rej_1'][idx] + results['RNN']['rej_1'][idx+1])/2\n",
    "    rej_1p_GNN = (results['GNtau_noRNN']['rej_1'][idx] + results['GNtau_noRNN']['rej_1'][idx+1])/2\n",
    "    print('RNN', rej_1p_RNN)\n",
    "    print('GNN', rej_1p_GNN)\n",
    "    print('GNN/RNN', rej_1p_GNN/rej_1p_RNN)\n",
    "\n",
    "for WP, eff in WP_3p.items():\n",
    "    print(f'3-prong {WP} ({eff*100}% sig. eff.) ')\n",
    "    ### get closest value to the working point\n",
    "    idx = (np.abs(sig_eff - WP_3p[WP])).argmin()\n",
    "    rej_3p_RNN = (results['RNN']['rej_3'][idx] + results['RNN']['rej_3'][idx+1])/2\n",
    "    rej_3p_GNN = (results['GNtau_noRNN']['rej_3'][idx] + results['GNtau_noRNN']['rej_3'][idx+1])/2\n",
    "    print('RNN', rej_3p_RNN)\n",
    "    print('GNN', rej_3p_GNN)\n",
    "    print('GNN/RNN', rej_3p_GNN/rej_3p_RNN)"
   ]
  },
  {
   "cell_type": "code",
   "execution_count": 84,
   "metadata": {},
   "outputs": [],
   "source": [
    "from puma import IntegratedEfficiency, IntegratedEfficiencyPlot"
   ]
  },
  {
   "cell_type": "code",
   "execution_count": 85,
   "metadata": {},
   "outputs": [],
   "source": [
    "# here the plotting of the Integrated Efficiency curves starts\n",
    "plot = IntegratedEfficiencyPlot(\n",
    "    ylabel=\"Integrated efficiency\",\n",
    "    xlabel=\"Discriminant\",\n",
    "    #atlas_second_tag=\"$\\\\sqrt{s}=13$ TeV, dummy jets \\ndummy sample, $f_{c}=0.018$\",\n",
    "    figsize=(6.5, 6),\n",
    "    y_scale=1.4,\n",
    ")\n",
    "for key, val in networks.items():\n",
    "\n",
    "    plot.add(\n",
    "        IntegratedEfficiency(\n",
    "            results[key]['disc'][is_tau & mask & (prongs==3)], \n",
    "            results[key]['disc'][is_tau & mask & (prongs==3)],\n",
    "            tagger=key\n",
    "        )\n",
    "    )"
   ]
  },
  {
   "cell_type": "code",
   "execution_count": 86,
   "metadata": {},
   "outputs": [
    {
     "name": "stderr",
     "output_type": "stream",
     "text": [
      "/srv01/agrp/dreyet/.local/lib/python3.9/site-packages/puma/integrated_eff.py:218: UserWarning: The label '_child0' of <matplotlib.lines.Line2D object at 0x7fb02ea153d0> starts with '_'. It is thus excluded from the legend.\n",
      "  self.axis_top.legend(\n",
      "/srv01/agrp/dreyet/.local/lib/python3.9/site-packages/puma/integrated_eff.py:218: UserWarning: The label '_child1' of <matplotlib.lines.Line2D object at 0x7fb02ea15130> starts with '_'. It is thus excluded from the legend.\n",
      "  self.axis_top.legend(\n"
     ]
    },
    {
     "data": {
      "image/png": "[encoded data removed]",
      "text/plain": [
       "<Figure size 640x480 with 1 Axes>"
      ]
     },
     "metadata": {},
     "output_type": "display_data"
    }
   ],
   "source": [
    "plot.draw()\n",
    "plot.savefig(\"integrated_efficiency.png\", transparent=False)"
   ]
  },
  {
   "cell_type": "markdown",
   "metadata": {},
   "source": [
    "# Efficiency/rejection vs. pT"
   ]
  },
  {
   "cell_type": "code",
   "execution_count": 87,
   "metadata": {},
   "outputs": [],
   "source": [
    "import numpy as np\n",
    "\n",
    "from puma import VarVsEff, VarVsEffPlot\n",
    "from puma.utils import get_dummy_2_taggers, logger"
   ]
  },
  {
   "cell_type": "code",
   "execution_count": 88,
   "metadata": {},
   "outputs": [],
   "source": [
    "# rej_pt_bins = np.logspace(np.log10(jet_pt_min),np.log10(2000),8)\n",
    "rej_pt_bins = np.concatenate((np.logspace(np.log10(jet_pt_min),np.log10(100),10)[:-1], np.logspace(np.log10(100),np.log10(2000),4)))"
   ]
  },
  {
   "cell_type": "code",
   "execution_count": 89,
   "metadata": {},
   "outputs": [
    {
     "name": "stderr",
     "output_type": "stream",
     "text": [
      "\u001b[32;21mINFO:puma: Plotting bkg rejection for inclusive efficiency as a function of pt.\u001b[0m\n",
      "\u001b[32;21mINFO:puma: Plotting bkg rejection for inclusive efficiency as a function of pt.\u001b[0m\n",
      "\u001b[32;21mINFO:puma: Plotting bkg rejection for inclusive efficiency as a function of pt.\u001b[0m\n",
      "\u001b[32;21mINFO:puma: Plotting bkg rejection for inclusive efficiency as a function of pt.\u001b[0m\n",
      "\u001b[32;21mINFO:puma: Plotting bkg rejection for inclusive efficiency as a function of pt.\u001b[0m\n",
      "\u001b[32;21mINFO:puma: Plotting bkg rejection for inclusive efficiency as a function of pt.\u001b[0m\n",
      "\u001b[32;21mINFO:puma: Plotting bkg rejection for inclusive efficiency as a function of pt.\u001b[0m\n",
      "\u001b[32;21mINFO:puma: Plotting bkg rejection for inclusive efficiency as a function of pt.\u001b[0m\n",
      "\u001b[32;21mINFO:puma: Plotting bkg rejection for inclusive efficiency as a function of pt.\u001b[0m\n",
      "\u001b[32;21mINFO:puma: Plotting bkg rejection for inclusive efficiency as a function of pt.\u001b[0m\n",
      "\u001b[32;21mINFO:puma: Plotting bkg rejection for inclusive efficiency as a function of pt.\u001b[0m\n",
      "\u001b[32;21mINFO:puma: Plotting bkg rejection for inclusive efficiency as a function of pt.\u001b[0m\n",
      "\u001b[32;21mINFO:puma: Plotting bkg rejection for inclusive efficiency as a function of pt.\u001b[0m\n",
      "\u001b[32;21mINFO:puma: Plotting bkg rejection for inclusive efficiency as a function of pt.\u001b[0m\n",
      "\u001b[32;21mINFO:puma: Plotting bkg rejection for inclusive efficiency as a function of pt.\u001b[0m\n",
      "\u001b[32;21mINFO:puma: Plotting bkg rejection for inclusive efficiency as a function of pt.\u001b[0m\n",
      "\u001b[32;21mINFO:puma: Plotting bkg rejection for inclusive efficiency as a function of pt.\u001b[0m\n",
      "\u001b[32;21mINFO:puma: Plotting bkg rejection for inclusive efficiency as a function of pt.\u001b[0m\n"
     ]
    },
    {
     "data": {
      "image/png": "[encoded data removed]",
      "text/plain": [
       "<Figure size 640x480 with 1 Axes>"
      ]
     },
     "metadata": {},
     "output_type": "display_data"
    }
   ],
   "source": [
    "for WP_name in ['Tight', 'Medium', 'Loose']:\n",
    "\n",
    "    for p_num, sigi, eff, prong in prongness.values():\n",
    "\n",
    "        if not apply_true_prongness:\n",
    "            sigi = np.ones_like(sigi).astype(bool)\n",
    "\n",
    "        plot_sig_eff = VarVsEffPlot(\n",
    "            mode=\"sig_eff\",\n",
    "            ylabel=\"$Tau$-jets efficiency\",\n",
    "            xlabel=r\"$p_{T}$ [GeV]\",\n",
    "            logy=False,\n",
    "            atlas_second_tag=\"$\\\\sqrt{s}=13$ TeV, \" + \"{}-prong\".format(prong) ,\n",
    "            n_ratio_panels=1,\n",
    "            ymin=0,\n",
    "            ymax=1.6\n",
    "        )\n",
    "\n",
    "        plot_bkg_rej = VarVsEffPlot(\n",
    "            mode=\"bkg_rej\",\n",
    "            ylabel=\"BKG-jets rejection\",\n",
    "            xlabel=r\"$p_{T}$ [GeV]\",\n",
    "            logy=True,\n",
    "            logx=True,\n",
    "            atlas_second_tag=\"$\\\\sqrt{s}=13$ TeV, \" + \"{}-prong\".format(prong) ,\n",
    "            n_ratio_panels=1,\n",
    "            ymin=1,\n",
    "            xmin=20,\n",
    "            xmax=2100,\n",
    "            #ymax= 970 if prong == 1 else 9700,\n",
    "        )\n",
    "\n",
    "        for network in results.keys(): \n",
    "\n",
    "            # if network not in ['RNN','GNtau_noRNN']:\n",
    "            #     continue\n",
    "\n",
    "            lab = network\n",
    "            if '_' in lab and 'Aux' not in lab:\n",
    "                lab = lab.split('_')[0]\n",
    "\n",
    "            vveff_eff = VarVsEff(\n",
    "                x_var_sig=jet_pt[is_tau & mask & p_num & sigi],\n",
    "                disc_sig=results[network]['disc'][is_tau & mask & p_num & sigi],\n",
    "                x_var_bkg=jet_pt[is_bkg & mask & p_num],\n",
    "                disc_bkg=results[network]['disc'][is_bkg & mask & p_num],\n",
    "                bins=np.linspace(20,1000,49),\n",
    "                working_point=eff[WP_name],\n",
    "                disc_cut=None,\n",
    "                fixed_eff_bin=True,\n",
    "                label=lab,\n",
    "                )\n",
    "\n",
    "            vveff_rej = VarVsEff(\n",
    "                x_var_sig=jet_pt[is_tau & mask & p_num & sigi],\n",
    "                disc_sig=results[network]['disc'][is_tau & mask & p_num & sigi],\n",
    "                x_var_bkg=jet_pt[is_bkg & mask & p_num],\n",
    "                disc_bkg=results[network]['disc'][is_bkg & mask & p_num],\n",
    "                bins=rej_pt_bins,\n",
    "                working_point=eff[WP_name],\n",
    "                disc_cut=None,\n",
    "                fixed_eff_bin=True,\n",
    "                label=lab,\n",
    "                )            \n",
    "\n",
    "            logger.info(\"Plotting bkg rejection for inclusive efficiency as a function of pt.\")\n",
    "\n",
    "            plot_sig_eff.add(vveff_eff, reference=(network == 'RNN'))\n",
    "            plot_bkg_rej.add(vveff_rej, reference=(network == 'RNN'))\n",
    "\n",
    "        plot_sig_eff.atlas_second_tag += \"\\n{} $(\\\\epsilon_{}\\\\tau{}={} \\% )$\".format(WP_name, '{','}' , eff[WP_name]*100)\n",
    "        plot_bkg_rej.atlas_second_tag += \"\\n{} $(\\\\epsilon_{}\\\\tau{}={} \\% )$\".format(WP_name, '{','}' , eff[WP_name]*100)\n",
    "\n",
    "        # If you want to inverse the discriminant cut you can enable it via\n",
    "        # plot_sig_eff.set_inverse_cut()\n",
    "        plot_sig_eff.draw()\n",
    "        # Drawing a hline indicating inclusive efficiency\n",
    "        plot_sig_eff.draw_hline(eff[WP_name])\n",
    "        plot_sig_eff.savefig('p_only'+str(prong)+\"_tau_eff_\" + WP_name + \".png\", transparent=False)\n",
    "\n",
    "        plot_bkg_rej.draw()\n",
    "        plot_bkg_rej.savefig('p_only'+str(prong)+\"_bkg_rej_\" + WP_name + \".png\", transparent=False)"
   ]
  },
  {
   "cell_type": "markdown",
   "metadata": {},
   "source": [
    "### RNN-only crosscheck"
   ]
  },
  {
   "cell_type": "code",
   "execution_count": 75,
   "metadata": {},
   "outputs": [
    {
     "name": "stderr",
     "output_type": "stream",
     "text": [
      "\u001b[32;21mINFO:puma: Plotting bkg rejection for inclusive efficiency as a function of pt.\u001b[0m\n",
      "\u001b[32;21mINFO:puma: Plotting bkg rejection for inclusive efficiency as a function of pt.\u001b[0m\n",
      "\u001b[32;21mINFO:puma: Plotting bkg rejection for inclusive efficiency as a function of pt.\u001b[0m\n",
      "\u001b[32;21mINFO:puma: Plotting bkg rejection for inclusive efficiency as a function of pt.\u001b[0m\n",
      "\u001b[32;21mINFO:puma: Plotting bkg rejection for inclusive efficiency as a function of pt.\u001b[0m\n",
      "\u001b[32;21mINFO:puma: Plotting bkg rejection for inclusive efficiency as a function of pt.\u001b[0m\n"
     ]
    },
    {
     "data": {
      "image/png": "[encoded data removed]",
      "text/plain": [
       "<Figure size 640x480 with 1 Axes>"
      ]
     },
     "metadata": {},
     "output_type": "display_data"
    }
   ],
   "source": [
    "colors = {\n",
    "    'Loose': 'green',\n",
    "    'Medium': 'blue',\n",
    "    'Tight': 'red',\n",
    "}\n",
    "\n",
    "for p_num, sigi, eff, prong in prongness.values():\n",
    "\n",
    "    if not apply_true_prongness:\n",
    "        sigi = np.ones_like(sigi).astype(bool)\n",
    "\n",
    "    plot_sig_eff = VarVsEffPlot(\n",
    "        mode=\"sig_eff\",\n",
    "        ylabel=\"$Tau$-jets efficiency\",\n",
    "        xlabel=r\"$p_{T}$ [GeV]\",\n",
    "        logy=False,\n",
    "        atlas_second_tag=\"$\\\\sqrt{s}=13$ TeV, \" + \"{}-prong\".format(prong) ,\n",
    "        n_ratio_panels=0,\n",
    "        ymin=0,\n",
    "        ymax=1.6\n",
    "    )\n",
    "\n",
    "    plot_bkg_rej = VarVsEffPlot(\n",
    "        mode=\"bkg_rej\",\n",
    "        ylabel=\"BKG-jets rejection\",\n",
    "        xlabel=r\"$p_{T}$ [GeV]\",\n",
    "        logy=False,\n",
    "        logx=True,\n",
    "        atlas_second_tag=\"$\\\\sqrt{s}=13$ TeV, \" + \"{}-prong\".format(prong) ,\n",
    "        n_ratio_panels=0,\n",
    "        ymin=0,\n",
    "        ymax=1000. if prong == 1 else 10000.,\n",
    "    )\n",
    "\n",
    "    network = 'RNN'\n",
    "\n",
    "    for WP_name in ['Tight', 'Medium', 'Loose']:\n",
    "\n",
    "        vveff_eff = VarVsEff(\n",
    "            x_var_sig=jet_pt[is_tau & mask & p_num & sigi],\n",
    "            disc_sig=results[network]['disc'][is_tau & mask & p_num & sigi],\n",
    "            x_var_bkg=jet_pt[is_bkg & mask & p_num],\n",
    "            disc_bkg=results[network]['disc'][is_bkg & mask & p_num],\n",
    "            bins=np.linspace(20,1000,49),\n",
    "            working_point=eff[WP_name],\n",
    "            disc_cut=None,\n",
    "            fixed_eff_bin=False,\n",
    "            label='{} {} $(\\\\epsilon_{}\\\\tau{}={} \\% )$'.format(network,WP_name, '{','}' , eff[WP_name]*100),\n",
    "            colour=colors[WP_name],\n",
    "            )\n",
    "        \n",
    "        vveff_rej = VarVsEff(\n",
    "            x_var_sig=jet_pt[is_tau & mask & p_num & sigi],\n",
    "            disc_sig=results[network]['disc'][is_tau & mask & p_num & sigi],\n",
    "            x_var_bkg=jet_pt[is_bkg & mask & p_num],\n",
    "            disc_bkg=results[network]['disc'][is_bkg & mask & p_num],\n",
    "            bins=np.logspace(np.log10(20),np.log10(2000),11),\n",
    "            working_point=eff[WP_name],\n",
    "            disc_cut=None,\n",
    "            fixed_eff_bin=False,\n",
    "            label='{} {} $(\\\\epsilon_{}\\\\tau{}={} \\% )$'.format(network,WP_name, '{','}' , eff[WP_name]*100),\n",
    "            colour=colors[WP_name],\n",
    "            )            \n",
    "\n",
    "        logger.info(\"Plotting bkg rejection for inclusive efficiency as a function of pt.\")\n",
    "\n",
    "        plot_sig_eff.add(vveff_eff, reference=False)\n",
    "        plot_bkg_rej.add(vveff_rej, reference=False)\n",
    "\n",
    "        # Drawing a hline indicating inclusive efficiency\n",
    "        plot_sig_eff.draw_hline(eff[WP_name])\n",
    "\n",
    "    # If you want to inverse the discriminant cut you can enable it via\n",
    "    # plot_sig_eff.set_inverse_cut()\n",
    "    plot_sig_eff.draw()\n",
    "    plot_sig_eff.savefig('p_only'+str(prong)+\"_tau_eff_RNNcrosscheck.png\", transparent=False)\n",
    "\n",
    "    plot_bkg_rej.draw()\n",
    "    plot_bkg_rej.savefig('p_only'+str(prong)+\"_bkg_rej_RNNcrosscheck.png\", transparent=False)"
   ]
  },
  {
   "cell_type": "code",
   "execution_count": 77,
   "metadata": {},
   "outputs": [
    {
     "data": {
      "image/png": "[encoded data removed]",
      "text/plain": [
       "<Figure size 640x480 with 1 Axes>"
      ]
     },
     "metadata": {},
     "output_type": "display_data"
    }
   ],
   "source": [
    "plt.hist(jet_pt, bins=350, density=True, range=(0, 3500), histtype='step')\n",
    "plt.yscale('log')"
   ]
  },
  {
   "cell_type": "code",
   "execution_count": null,
   "metadata": {},
   "outputs": [],
   "source": [
    "plt.hist(jet_pt[is_bkg & rnn_mask & (prongs==3)], bins = 30, log = True)"
   ]
  },
  {
   "cell_type": "code",
   "execution_count": null,
   "metadata": {},
   "outputs": [],
   "source": [
    "plt.hist(results['GN2Tau']['disc'][is_tau & mask & (prongs==3)], bins = 30, log = True)"
   ]
  },
  {
   "cell_type": "code",
   "execution_count": null,
   "metadata": {},
   "outputs": [],
   "source": []
  }
 ],
 "metadata": {
  "kernelspec": {
   "display_name": "Python 3",
   "language": "python",
   "name": "python3"
  },
  "language_info": {
   "codemirror_mode": {
    "name": "ipython",
    "version": 3
   },
   "file_extension": ".py",
   "mimetype": "text/x-python",
   "name": "python",
   "nbconvert_exporter": "python",
   "pygments_lexer": "ipython3",
   "version": "3.9.16"
  },
  "orig_nbformat": 4
 },
 "nbformat": 4,
 "nbformat_minor": 2
}
